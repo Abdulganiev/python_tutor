{
 "cells": [
  {
   "cell_type": "markdown",
   "id": "bf075768",
   "metadata": {
    "toc": true
   },
   "source": [
    "<h1>Table of Contents<span class=\"tocSkip\"></span></h1>\n",
    "<div class=\"toc\"><ul class=\"toc-item\"><li><span><a href=\"#Ввод-и-вывод-данных\" data-toc-modified-id=\"Ввод-и-вывод-данных-1\"><span class=\"toc-item-num\">1&nbsp;&nbsp;</span>Ввод и вывод данных</a></span><ul class=\"toc-item\"><li><span><a href=\"#Задача-«Сумма-трёх-чисел»\" data-toc-modified-id=\"Задача-«Сумма-трёх-чисел»-1.1\"><span class=\"toc-item-num\">1.1&nbsp;&nbsp;</span>Задача «Сумма трёх чисел»</a></span></li><li><span><a href=\"#Задача-«Площадь-прямоугольного-треугольника»\" data-toc-modified-id=\"Задача-«Площадь-прямоугольного-треугольника»-1.2\"><span class=\"toc-item-num\">1.2&nbsp;&nbsp;</span>Задача «Площадь прямоугольного треугольника»</a></span></li><li><span><a href=\"#Задача-«Дележ-яблок»\" data-toc-modified-id=\"Задача-«Дележ-яблок»-1.3\"><span class=\"toc-item-num\">1.3&nbsp;&nbsp;</span>Задача «Дележ яблок»</a></span></li><li><span><a href=\"#Задача-«Электронные-часы»\" data-toc-modified-id=\"Задача-«Электронные-часы»-1.4\"><span class=\"toc-item-num\">1.4&nbsp;&nbsp;</span>Задача «Электронные часы»</a></span></li><li><span><a href=\"#Задача-«Hello,-Harry!»\" data-toc-modified-id=\"Задача-«Hello,-Harry!»-1.5\"><span class=\"toc-item-num\">1.5&nbsp;&nbsp;</span>Задача «Hello, Harry!»</a></span></li><li><span><a href=\"#Задача-«Следующее-и-предыдущее»\" data-toc-modified-id=\"Задача-«Следующее-и-предыдущее»-1.6\"><span class=\"toc-item-num\">1.6&nbsp;&nbsp;</span>Задача «Следующее и предыдущее»</a></span></li><li><span><a href=\"#Задача-«Парты»\" data-toc-modified-id=\"Задача-«Парты»-1.7\"><span class=\"toc-item-num\">1.7&nbsp;&nbsp;</span>Задача «Парты»</a></span></li><li><span><a href=\"#Задача-«Шнурки»\" data-toc-modified-id=\"Задача-«Шнурки»-1.8\"><span class=\"toc-item-num\">1.8&nbsp;&nbsp;</span>Задача «Шнурки»</a></span></li></ul></li><li><span><a href=\"#Условия\" data-toc-modified-id=\"Условия-2\"><span class=\"toc-item-num\">2&nbsp;&nbsp;</span>Условия</a></span><ul class=\"toc-item\"><li><span><a href=\"#Задача-«Минимум-из-двух-чисел»\" data-toc-modified-id=\"Задача-«Минимум-из-двух-чисел»-2.1\"><span class=\"toc-item-num\">2.1&nbsp;&nbsp;</span>Задача «Минимум из двух чисел»</a></span></li><li><span><a href=\"#Задача-«Знак-числа»\" data-toc-modified-id=\"Задача-«Знак-числа»-2.2\"><span class=\"toc-item-num\">2.2&nbsp;&nbsp;</span>Задача «Знак числа»</a></span></li><li><span><a href=\"#Задача-«Шахматная-доска»\" data-toc-modified-id=\"Задача-«Шахматная-доска»-2.3\"><span class=\"toc-item-num\">2.3&nbsp;&nbsp;</span>Задача «Шахматная доска»</a></span></li><li><span><a href=\"#Задача-«Високосный-год»\" data-toc-modified-id=\"Задача-«Високосный-год»-2.4\"><span class=\"toc-item-num\">2.4&nbsp;&nbsp;</span>Задача «Високосный год»</a></span></li><li><span><a href=\"#Задача-«Минимум-из-трех-чисел»\" data-toc-modified-id=\"Задача-«Минимум-из-трех-чисел»-2.5\"><span class=\"toc-item-num\">2.5&nbsp;&nbsp;</span>Задача «Минимум из трех чисел»</a></span></li><li><span><a href=\"#Задача-«Сколько-совпадает-чисел»\" data-toc-modified-id=\"Задача-«Сколько-совпадает-чисел»-2.6\"><span class=\"toc-item-num\">2.6&nbsp;&nbsp;</span>Задача «Сколько совпадает чисел»</a></span></li><li><span><a href=\"#Задача-«Ход-ладьи»\" data-toc-modified-id=\"Задача-«Ход-ладьи»-2.7\"><span class=\"toc-item-num\">2.7&nbsp;&nbsp;</span>Задача «Ход ладьи»</a></span></li><li><span><a href=\"#Задача-«Ход-короля»\" data-toc-modified-id=\"Задача-«Ход-короля»-2.8\"><span class=\"toc-item-num\">2.8&nbsp;&nbsp;</span>Задача «Ход короля»</a></span></li><li><span><a href=\"#Задача-«Ход-слона»\" data-toc-modified-id=\"Задача-«Ход-слона»-2.9\"><span class=\"toc-item-num\">2.9&nbsp;&nbsp;</span>Задача «Ход слона»</a></span></li><li><span><a href=\"#Задача-«Ход-ферзя»\" data-toc-modified-id=\"Задача-«Ход-ферзя»-2.10\"><span class=\"toc-item-num\">2.10&nbsp;&nbsp;</span>Задача «Ход ферзя»</a></span></li><li><span><a href=\"#Задача-«Ход-коня»\" data-toc-modified-id=\"Задача-«Ход-коня»-2.11\"><span class=\"toc-item-num\">2.11&nbsp;&nbsp;</span>Задача «Ход коня»</a></span></li><li><span><a href=\"#Задача-«Шоколадка»\" data-toc-modified-id=\"Задача-«Шоколадка»-2.12\"><span class=\"toc-item-num\">2.12&nbsp;&nbsp;</span>Задача «Шоколадка»</a></span></li><li><span><a href=\"#Задача-«Яша-плавает-в-бассейне»\" data-toc-modified-id=\"Задача-«Яша-плавает-в-бассейне»-2.13\"><span class=\"toc-item-num\">2.13&nbsp;&nbsp;</span>Задача «Яша плавает в бассейне»</a></span></li></ul></li><li><span><a href=\"#Вычисления\" data-toc-modified-id=\"Вычисления-3\"><span class=\"toc-item-num\">3&nbsp;&nbsp;</span>Вычисления</a></span><ul class=\"toc-item\"><li><span><a href=\"#Задача-«Последняя-цифра-числа»\" data-toc-modified-id=\"Задача-«Последняя-цифра-числа»-3.1\"><span class=\"toc-item-num\">3.1&nbsp;&nbsp;</span>Задача «Последняя цифра числа»</a></span></li><li><span><a href=\"#Задача-«МКАД»\" data-toc-modified-id=\"Задача-«МКАД»-3.2\"><span class=\"toc-item-num\">3.2&nbsp;&nbsp;</span>Задача «МКАД»</a></span></li><li><span><a href=\"#Задача-«Дробная-часть»\" data-toc-modified-id=\"Задача-«Дробная-часть»-3.3\"><span class=\"toc-item-num\">3.3&nbsp;&nbsp;</span>Задача «Дробная часть»</a></span></li><li><span><a href=\"#Задача-«Первая-цифра-после-точки»\" data-toc-modified-id=\"Задача-«Первая-цифра-после-точки»-3.4\"><span class=\"toc-item-num\">3.4&nbsp;&nbsp;</span>Задача «Первая цифра после точки»</a></span></li><li><span><a href=\"#Задача-«Конец-уроков»\" data-toc-modified-id=\"Задача-«Конец-уроков»-3.5\"><span class=\"toc-item-num\">3.5&nbsp;&nbsp;</span>Задача «Конец уроков»</a></span></li><li><span><a href=\"#Задача-«Автопробег»\" data-toc-modified-id=\"Задача-«Автопробег»-3.6\"><span class=\"toc-item-num\">3.6&nbsp;&nbsp;</span>Задача «Автопробег»</a></span></li><li><span><a href=\"#Задача-«Стоимость-покупки»\" data-toc-modified-id=\"Задача-«Стоимость-покупки»-3.7\"><span class=\"toc-item-num\">3.7&nbsp;&nbsp;</span>Задача «Стоимость покупки»</a></span></li><li><span><a href=\"#Задача-«Разность-времен»\" data-toc-modified-id=\"Задача-«Разность-времен»-3.8\"><span class=\"toc-item-num\">3.8&nbsp;&nbsp;</span>Задача «Разность времен»</a></span></li><li><span><a href=\"#Задача-«Улитка»\" data-toc-modified-id=\"Задача-«Улитка»-3.9\"><span class=\"toc-item-num\">3.9&nbsp;&nbsp;</span>Задача «Улитка»</a></span></li><li><span><a href=\"#Задача-«Число-десятков»\" data-toc-modified-id=\"Задача-«Число-десятков»-3.10\"><span class=\"toc-item-num\">3.10&nbsp;&nbsp;</span>Задача «Число десятков»</a></span></li><li><span><a href=\"#Задача-«Сумма-цифр»\" data-toc-modified-id=\"Задача-«Сумма-цифр»-3.11\"><span class=\"toc-item-num\">3.11&nbsp;&nbsp;</span>Задача «Сумма цифр»</a></span></li><li><span><a href=\"#Задача-«Гипотенуза»\" data-toc-modified-id=\"Задача-«Гипотенуза»-3.12\"><span class=\"toc-item-num\">3.12&nbsp;&nbsp;</span>Задача «Гипотенуза»</a></span></li><li><span><a href=\"#Задача-«Часы---1»\" data-toc-modified-id=\"Задача-«Часы---1»-3.13\"><span class=\"toc-item-num\">3.13&nbsp;&nbsp;</span>Задача «Часы - 1»</a></span></li><li><span><a href=\"#Задача-«Часы---2»\" data-toc-modified-id=\"Задача-«Часы---2»-3.14\"><span class=\"toc-item-num\">3.14&nbsp;&nbsp;</span>Задача «Часы - 2»</a></span></li><li><span><a href=\"#Задача-«Часы---3»\" data-toc-modified-id=\"Задача-«Часы---3»-3.15\"><span class=\"toc-item-num\">3.15&nbsp;&nbsp;</span>Задача «Часы - 3»</a></span></li><li><span><a href=\"#Задача-«Проценты»\" data-toc-modified-id=\"Задача-«Проценты»-3.16\"><span class=\"toc-item-num\">3.16&nbsp;&nbsp;</span>Задача «Проценты»</a></span></li><li><span><a href=\"#New-heading\" data-toc-modified-id=\"New-heading-3.17\"><span class=\"toc-item-num\">3.17&nbsp;&nbsp;</span>New heading</a></span></li></ul></li><li><span><a href=\"#Цикл-for\" data-toc-modified-id=\"Цикл-for-4\"><span class=\"toc-item-num\">4&nbsp;&nbsp;</span>Цикл for</a></span><ul class=\"toc-item\"><li><span><a href=\"#Задача-«Ряд---1»\" data-toc-modified-id=\"Задача-«Ряд---1»-4.1\"><span class=\"toc-item-num\">4.1&nbsp;&nbsp;</span>Задача «Ряд - 1»</a></span></li><li><span><a href=\"#Задача-«Ряд---2»\" data-toc-modified-id=\"Задача-«Ряд---2»-4.2\"><span class=\"toc-item-num\">4.2&nbsp;&nbsp;</span>Задача «Ряд - 2»</a></span></li><li><span><a href=\"#Задача-«Ряд---3»\" data-toc-modified-id=\"Задача-«Ряд---3»-4.3\"><span class=\"toc-item-num\">4.3&nbsp;&nbsp;</span>Задача «Ряд - 3»</a></span></li><li><span><a href=\"#Задача-«Сумма-десяти-чисел»\" data-toc-modified-id=\"Задача-«Сумма-десяти-чисел»-4.4\"><span class=\"toc-item-num\">4.4&nbsp;&nbsp;</span>Задача «Сумма десяти чисел»</a></span></li><li><span><a href=\"#Задача-«Сумма-N-чисел»\" data-toc-modified-id=\"Задача-«Сумма-N-чисел»-4.5\"><span class=\"toc-item-num\">4.5&nbsp;&nbsp;</span>Задача «Сумма N чисел»</a></span></li><li><span><a href=\"#Задача-«Сумма-кубов»\" data-toc-modified-id=\"Задача-«Сумма-кубов»-4.6\"><span class=\"toc-item-num\">4.6&nbsp;&nbsp;</span>Задача «Сумма кубов»</a></span></li><li><span><a href=\"#Задача-«Факториал»\" data-toc-modified-id=\"Задача-«Факториал»-4.7\"><span class=\"toc-item-num\">4.7&nbsp;&nbsp;</span>Задача «Факториал»</a></span></li><li><span><a href=\"#Задача-«Сумма-факториалов»\" data-toc-modified-id=\"Задача-«Сумма-факториалов»-4.8\"><span class=\"toc-item-num\">4.8&nbsp;&nbsp;</span>Задача «Сумма факториалов»</a></span></li><li><span><a href=\"#Задача-«Количество-нулей»\" data-toc-modified-id=\"Задача-«Количество-нулей»-4.9\"><span class=\"toc-item-num\">4.9&nbsp;&nbsp;</span>Задача «Количество нулей»</a></span></li><li><span><a href=\"#Задача-«Лесенка»\" data-toc-modified-id=\"Задача-«Лесенка»-4.10\"><span class=\"toc-item-num\">4.10&nbsp;&nbsp;</span>Задача «Лесенка»</a></span></li><li><span><a href=\"#Задача-«Потерянная-карточка»\" data-toc-modified-id=\"Задача-«Потерянная-карточка»-4.11\"><span class=\"toc-item-num\">4.11&nbsp;&nbsp;</span>Задача «Потерянная карточка»</a></span></li></ul></li><li><span><a href=\"#Строки\" data-toc-modified-id=\"Строки-5\"><span class=\"toc-item-num\">5&nbsp;&nbsp;</span>Строки</a></span><ul class=\"toc-item\"><li><span><a href=\"#Задача-«Делаем-срезы»\" data-toc-modified-id=\"Задача-«Делаем-срезы»-5.1\"><span class=\"toc-item-num\">5.1&nbsp;&nbsp;</span>Задача «Делаем срезы»</a></span></li><li><span><a href=\"#Задача-«Количество-слов»\" data-toc-modified-id=\"Задача-«Количество-слов»-5.2\"><span class=\"toc-item-num\">5.2&nbsp;&nbsp;</span>Задача «Количество слов»</a></span></li><li><span><a href=\"#Задача-«Две-половинки»\" data-toc-modified-id=\"Задача-«Две-половинки»-5.3\"><span class=\"toc-item-num\">5.3&nbsp;&nbsp;</span>Задача «Две половинки»</a></span></li><li><span><a href=\"#Задача-«Переставить-два-слова»\" data-toc-modified-id=\"Задача-«Переставить-два-слова»-5.4\"><span class=\"toc-item-num\">5.4&nbsp;&nbsp;</span>Задача «Переставить два слова»</a></span></li><li><span><a href=\"#Задача-«Первое-и-последнее-вхождения»\" data-toc-modified-id=\"Задача-«Первое-и-последнее-вхождения»-5.5\"><span class=\"toc-item-num\">5.5&nbsp;&nbsp;</span>Задача «Первое и последнее вхождения»</a></span></li><li><span><a href=\"#Задача-«Второе-вхождение»\" data-toc-modified-id=\"Задача-«Второе-вхождение»-5.6\"><span class=\"toc-item-num\">5.6&nbsp;&nbsp;</span>Задача «Второе вхождение»</a></span></li><li><span><a href=\"#Задача-«Удаление-фрагмента»\" data-toc-modified-id=\"Задача-«Удаление-фрагмента»-5.7\"><span class=\"toc-item-num\">5.7&nbsp;&nbsp;</span>Задача «Удаление фрагмента»</a></span></li><li><span><a href=\"#Задача-«Обращение-фрагмента»\" data-toc-modified-id=\"Задача-«Обращение-фрагмента»-5.8\"><span class=\"toc-item-num\">5.8&nbsp;&nbsp;</span>Задача «Обращение фрагмента»</a></span></li><li><span><a href=\"#Задача-«Замена-подстроки»\" data-toc-modified-id=\"Задача-«Замена-подстроки»-5.9\"><span class=\"toc-item-num\">5.9&nbsp;&nbsp;</span>Задача «Замена подстроки»</a></span></li><li><span><a href=\"#Задача-«Удаление-символа»\" data-toc-modified-id=\"Задача-«Удаление-символа»-5.10\"><span class=\"toc-item-num\">5.10&nbsp;&nbsp;</span>Задача «Удаление символа»</a></span></li><li><span><a href=\"#Задача-«Замена-внутри-фрагмента»\" data-toc-modified-id=\"Задача-«Замена-внутри-фрагмента»-5.11\"><span class=\"toc-item-num\">5.11&nbsp;&nbsp;</span>Задача «Замена внутри фрагмента»</a></span></li><li><span><a href=\"#Задача-«Удалить-каждый-третий-символ»\" data-toc-modified-id=\"Задача-«Удалить-каждый-третий-символ»-5.12\"><span class=\"toc-item-num\">5.12&nbsp;&nbsp;</span>Задача «Удалить каждый третий символ»</a></span></li></ul></li><li><span><a href=\"#Цикл-while\" data-toc-modified-id=\"Цикл-while-6\"><span class=\"toc-item-num\">6&nbsp;&nbsp;</span>Цикл while</a></span><ul class=\"toc-item\"><li><span><a href=\"#Задача-«Список-квадратов»\" data-toc-modified-id=\"Задача-«Список-квадратов»-6.1\"><span class=\"toc-item-num\">6.1&nbsp;&nbsp;</span>Задача «Список квадратов»</a></span></li><li><span><a href=\"#Задача-«Минимальный-делитель»\" data-toc-modified-id=\"Задача-«Минимальный-делитель»-6.2\"><span class=\"toc-item-num\">6.2&nbsp;&nbsp;</span>Задача «Минимальный делитель»</a></span></li><li><span><a href=\"#Задача-«Степень-двойки»\" data-toc-modified-id=\"Задача-«Степень-двойки»-6.3\"><span class=\"toc-item-num\">6.3&nbsp;&nbsp;</span>Задача «Степень двойки»</a></span></li><li><span><a href=\"#Задача-«Утренняя-пробежка»\" data-toc-modified-id=\"Задача-«Утренняя-пробежка»-6.4\"><span class=\"toc-item-num\">6.4&nbsp;&nbsp;</span>Задача «Утренняя пробежка»</a></span></li><li><span><a href=\"#Задача-«Длина-последовательности»\" data-toc-modified-id=\"Задача-«Длина-последовательности»-6.5\"><span class=\"toc-item-num\">6.5&nbsp;&nbsp;</span>Задача «Длина последовательности»</a></span></li><li><span><a href=\"#Задача-«Сумма-последовательности»\" data-toc-modified-id=\"Задача-«Сумма-последовательности»-6.6\"><span class=\"toc-item-num\">6.6&nbsp;&nbsp;</span>Задача «Сумма последовательности»</a></span></li><li><span><a href=\"#Задача-«Среднее-значение-последовательности»\" data-toc-modified-id=\"Задача-«Среднее-значение-последовательности»-6.7\"><span class=\"toc-item-num\">6.7&nbsp;&nbsp;</span>Задача «Среднее значение последовательности»</a></span></li><li><span><a href=\"#Задача-«Максимум-последовательности»\" data-toc-modified-id=\"Задача-«Максимум-последовательности»-6.8\"><span class=\"toc-item-num\">6.8&nbsp;&nbsp;</span>Задача «Максимум последовательности»</a></span></li><li><span><a href=\"#Задача-«Индекс-максимума-последовательности»\" data-toc-modified-id=\"Задача-«Индекс-максимума-последовательности»-6.9\"><span class=\"toc-item-num\">6.9&nbsp;&nbsp;</span>Задача «Индекс максимума последовательности»</a></span></li><li><span><a href=\"#Задача-«Количество-четных-элементов-последовательности»\" data-toc-modified-id=\"Задача-«Количество-четных-элементов-последовательности»-6.10\"><span class=\"toc-item-num\">6.10&nbsp;&nbsp;</span>Задача «Количество четных элементов последовательности»</a></span></li><li><span><a href=\"#Задача-«Количество-элементов,-которые-больше-предыдущего»\" data-toc-modified-id=\"Задача-«Количество-элементов,-которые-больше-предыдущего»-6.11\"><span class=\"toc-item-num\">6.11&nbsp;&nbsp;</span>Задача «Количество элементов, которые больше предыдущего»</a></span></li><li><span><a href=\"#Задача-«Второй-максимум»\" data-toc-modified-id=\"Задача-«Второй-максимум»-6.12\"><span class=\"toc-item-num\">6.12&nbsp;&nbsp;</span>Задача «Второй максимум»</a></span></li><li><span><a href=\"#Задача-«Количество-элементов,-равных-максимуму»\" data-toc-modified-id=\"Задача-«Количество-элементов,-равных-максимуму»-6.13\"><span class=\"toc-item-num\">6.13&nbsp;&nbsp;</span>Задача «Количество элементов, равных максимуму»</a></span></li><li><span><a href=\"#Задача-«Числа-Фибоначчи»\" data-toc-modified-id=\"Задача-«Числа-Фибоначчи»-6.14\"><span class=\"toc-item-num\">6.14&nbsp;&nbsp;</span>Задача «Числа Фибоначчи»</a></span></li><li><span><a href=\"#Задача-«Номер-числа-Фибоначчи»\" data-toc-modified-id=\"Задача-«Номер-числа-Фибоначчи»-6.15\"><span class=\"toc-item-num\">6.15&nbsp;&nbsp;</span>Задача «Номер числа Фибоначчи»</a></span></li><li><span><a href=\"#Задача-«Максимальное-число-идущих-подряд-равных-элементов»\" data-toc-modified-id=\"Задача-«Максимальное-число-идущих-подряд-равных-элементов»-6.16\"><span class=\"toc-item-num\">6.16&nbsp;&nbsp;</span>Задача «Максимальное число идущих подряд равных элементов»</a></span></li><li><span><a href=\"#Задача-«Стандартное-отклонение»\" data-toc-modified-id=\"Задача-«Стандартное-отклонение»-6.17\"><span class=\"toc-item-num\">6.17&nbsp;&nbsp;</span>Задача «Стандартное отклонение»</a></span></li></ul></li><li><span><a href=\"#Списки\" data-toc-modified-id=\"Списки-7\"><span class=\"toc-item-num\">7&nbsp;&nbsp;</span>Списки</a></span><ul class=\"toc-item\"><li><span><a href=\"#Задача-«Четные-индексы»\" data-toc-modified-id=\"Задача-«Четные-индексы»-7.1\"><span class=\"toc-item-num\">7.1&nbsp;&nbsp;</span>Задача «Четные индексы»</a></span></li><li><span><a href=\"#Задача-«Четные-элементы»\" data-toc-modified-id=\"Задача-«Четные-элементы»-7.2\"><span class=\"toc-item-num\">7.2&nbsp;&nbsp;</span>Задача «Четные элементы»</a></span></li><li><span><a href=\"#Задача-«Больше-предыдущего»\" data-toc-modified-id=\"Задача-«Больше-предыдущего»-7.3\"><span class=\"toc-item-num\">7.3&nbsp;&nbsp;</span>Задача «Больше предыдущего»</a></span></li><li><span><a href=\"#Задача-«Соседи-одного-знака»\" data-toc-modified-id=\"Задача-«Соседи-одного-знака»-7.4\"><span class=\"toc-item-num\">7.4&nbsp;&nbsp;</span>Задача «Соседи одного знака»</a></span></li><li><span><a href=\"#Задача-«Больше-своих-соседей»\" data-toc-modified-id=\"Задача-«Больше-своих-соседей»-7.5\"><span class=\"toc-item-num\">7.5&nbsp;&nbsp;</span>Задача «Больше своих соседей»</a></span></li><li><span><a href=\"#Задача-«Наибольший-элемент»\" data-toc-modified-id=\"Задача-«Наибольший-элемент»-7.6\"><span class=\"toc-item-num\">7.6&nbsp;&nbsp;</span>Задача «Наибольший элемент»</a></span></li><li><span><a href=\"#Задача-«Шеренга»\" data-toc-modified-id=\"Задача-«Шеренга»-7.7\"><span class=\"toc-item-num\">7.7&nbsp;&nbsp;</span>Задача «Шеренга»</a></span></li><li><span><a href=\"#Задача-«Количество-различных-элементов»\" data-toc-modified-id=\"Задача-«Количество-различных-элементов»-7.8\"><span class=\"toc-item-num\">7.8&nbsp;&nbsp;</span>Задача «Количество различных элементов»</a></span></li><li><span><a href=\"#Задача-«Переставить-соседние»\" data-toc-modified-id=\"Задача-«Переставить-соседние»-7.9\"><span class=\"toc-item-num\">7.9&nbsp;&nbsp;</span>Задача «Переставить соседние»</a></span></li><li><span><a href=\"#Задача-«Переставить-min-и-max»\" data-toc-modified-id=\"Задача-«Переставить-min-и-max»-7.10\"><span class=\"toc-item-num\">7.10&nbsp;&nbsp;</span>Задача «Переставить min и max»</a></span></li><li><span><a href=\"#Задача-«Удалить-элемент»\" data-toc-modified-id=\"Задача-«Удалить-элемент»-7.11\"><span class=\"toc-item-num\">7.11&nbsp;&nbsp;</span>Задача «Удалить элемент»</a></span></li><li><span><a href=\"#Задача-«Вставить-элемент»\" data-toc-modified-id=\"Задача-«Вставить-элемент»-7.12\"><span class=\"toc-item-num\">7.12&nbsp;&nbsp;</span>Задача «Вставить элемент»</a></span></li><li><span><a href=\"#Задача-«Количество-совпадающих-пар»\" data-toc-modified-id=\"Задача-«Количество-совпадающих-пар»-7.13\"><span class=\"toc-item-num\">7.13&nbsp;&nbsp;</span>Задача «Количество совпадающих пар»</a></span></li><li><span><a href=\"#Задача-«Уникальные-элементы»\" data-toc-modified-id=\"Задача-«Уникальные-элементы»-7.14\"><span class=\"toc-item-num\">7.14&nbsp;&nbsp;</span>Задача «Уникальные элементы»</a></span></li><li><span><a href=\"#Задача-«Кегельбан»\" data-toc-modified-id=\"Задача-«Кегельбан»-7.15\"><span class=\"toc-item-num\">7.15&nbsp;&nbsp;</span>Задача «Кегельбан»</a></span></li><li><span><a href=\"#Задача-«Ферзи»\" data-toc-modified-id=\"Задача-«Ферзи»-7.16\"><span class=\"toc-item-num\">7.16&nbsp;&nbsp;</span>Задача «Ферзи»</a></span></li></ul></li><li><span><a href=\"#Функции-и-рекурсия\" data-toc-modified-id=\"Функции-и-рекурсия-8\"><span class=\"toc-item-num\">8&nbsp;&nbsp;</span>Функции и рекурсия</a></span><ul class=\"toc-item\"><li><span><a href=\"#Задача-«Длина-отрезка»\" data-toc-modified-id=\"Задача-«Длина-отрезка»-8.1\"><span class=\"toc-item-num\">8.1&nbsp;&nbsp;</span>Задача «Длина отрезка»</a></span></li><li><span><a href=\"#Задача-«Отрицательная-степень»\" data-toc-modified-id=\"Задача-«Отрицательная-степень»-8.2\"><span class=\"toc-item-num\">8.2&nbsp;&nbsp;</span>Задача «Отрицательная степень»</a></span></li><li><span><a href=\"#Задача-«Большие-буквы»\" data-toc-modified-id=\"Задача-«Большие-буквы»-8.3\"><span class=\"toc-item-num\">8.3&nbsp;&nbsp;</span>Задача «Большие буквы»</a></span></li><li><span><a href=\"#Задача-«Возведение-в-степень»\" data-toc-modified-id=\"Задача-«Возведение-в-степень»-8.4\"><span class=\"toc-item-num\">8.4&nbsp;&nbsp;</span>Задача «Возведение в степень»</a></span></li><li><span><a href=\"#Задача-«Разворот-последовательности»\" data-toc-modified-id=\"Задача-«Разворот-последовательности»-8.5\"><span class=\"toc-item-num\">8.5&nbsp;&nbsp;</span>Задача «Разворот последовательности»</a></span></li></ul></li><li><span><a href=\"#Двумерные-массивы\" data-toc-modified-id=\"Двумерные-массивы-9\"><span class=\"toc-item-num\">9&nbsp;&nbsp;</span>Двумерные массивы</a></span><ul class=\"toc-item\"><li><span><a href=\"#Задача-«Максимум»\" data-toc-modified-id=\"Задача-«Максимум»-9.1\"><span class=\"toc-item-num\">9.1&nbsp;&nbsp;</span>Задача «Максимум»</a></span></li><li><span><a href=\"#Задача-«Снежинка»\" data-toc-modified-id=\"Задача-«Снежинка»-9.2\"><span class=\"toc-item-num\">9.2&nbsp;&nbsp;</span>Задача «Снежинка»</a></span></li><li><span><a href=\"#Задача-«Шахматная-доска»\" data-toc-modified-id=\"Задача-«Шахматная-доска»-9.3\"><span class=\"toc-item-num\">9.3&nbsp;&nbsp;</span>Задача «Шахматная доска»</a></span></li><li><span><a href=\"#Задача-«Диагонали,-параллельные-главной»\" data-toc-modified-id=\"Задача-«Диагонали,-параллельные-главной»-9.4\"><span class=\"toc-item-num\">9.4&nbsp;&nbsp;</span>Задача «Диагонали, параллельные главной»</a></span></li><li><span><a href=\"#Задача-«Побочная-диагональ»\" data-toc-modified-id=\"Задача-«Побочная-диагональ»-9.5\"><span class=\"toc-item-num\">9.5&nbsp;&nbsp;</span>Задача «Побочная диагональ»</a></span></li><li><span><a href=\"#Задача-«Поменять-столбцы»\" data-toc-modified-id=\"Задача-«Поменять-столбцы»-9.6\"><span class=\"toc-item-num\">9.6&nbsp;&nbsp;</span>Задача «Поменять столбцы»</a></span></li></ul></li><li><span><a href=\"#Множества\" data-toc-modified-id=\"Множества-10\"><span class=\"toc-item-num\">10&nbsp;&nbsp;</span>Множества</a></span><ul class=\"toc-item\"><li><span><a href=\"#Задача-«Количество-различных-чисел»\" data-toc-modified-id=\"Задача-«Количество-различных-чисел»-10.1\"><span class=\"toc-item-num\">10.1&nbsp;&nbsp;</span>Задача «Количество различных чисел»</a></span></li><li><span><a href=\"#Задача-«Количество-совпадающих-чисел»\" data-toc-modified-id=\"Задача-«Количество-совпадающих-чисел»-10.2\"><span class=\"toc-item-num\">10.2&nbsp;&nbsp;</span>Задача «Количество совпадающих чисел»</a></span></li><li><span><a href=\"#Задача-«Пересечение-множеств»\" data-toc-modified-id=\"Задача-«Пересечение-множеств»-10.3\"><span class=\"toc-item-num\">10.3&nbsp;&nbsp;</span>Задача «Пересечение множеств»</a></span></li><li><span><a href=\"#Задача-«Встречалось-ли-число-раньше»\" data-toc-modified-id=\"Задача-«Встречалось-ли-число-раньше»-10.4\"><span class=\"toc-item-num\">10.4&nbsp;&nbsp;</span>Задача «Встречалось ли число раньше»</a></span></li><li><span><a href=\"#Задача-«Кубики»---\" data-toc-modified-id=\"Задача-«Кубики»----10.5\"><span class=\"toc-item-num\">10.5&nbsp;&nbsp;</span>Задача «Кубики» --</a></span></li><li><span><a href=\"#Задача-«Количество-слов-в-тексте»\" data-toc-modified-id=\"Задача-«Количество-слов-в-тексте»-10.6\"><span class=\"toc-item-num\">10.6&nbsp;&nbsp;</span>Задача «Количество слов в тексте»</a></span></li><li><span><a href=\"#Задача-«Угадай-число»---\" data-toc-modified-id=\"Задача-«Угадай-число»----10.7\"><span class=\"toc-item-num\">10.7&nbsp;&nbsp;</span>Задача «Угадай число» --</a></span></li><li><span><a href=\"#Задача-«Угадай-число---2»---\" data-toc-modified-id=\"Задача-«Угадай-число---2»----10.8\"><span class=\"toc-item-num\">10.8&nbsp;&nbsp;</span>Задача «Угадай число - 2» --</a></span></li><li><span><a href=\"#Задача-«Полиглоты»---\" data-toc-modified-id=\"Задача-«Полиглоты»----10.9\"><span class=\"toc-item-num\">10.9&nbsp;&nbsp;</span>Задача «Полиглоты» --</a></span></li><li><span><a href=\"#Задача-«Забастовки»---\" data-toc-modified-id=\"Задача-«Забастовки»----10.10\"><span class=\"toc-item-num\">10.10&nbsp;&nbsp;</span>Задача «Забастовки» --</a></span></li></ul></li><li><span><a href=\"#Словари\" data-toc-modified-id=\"Словари-11\"><span class=\"toc-item-num\">11&nbsp;&nbsp;</span>Словари</a></span><ul class=\"toc-item\"><li><span><a href=\"#Задача-«Номер-появления-слова»\" data-toc-modified-id=\"Задача-«Номер-появления-слова»-11.1\"><span class=\"toc-item-num\">11.1&nbsp;&nbsp;</span>Задача «Номер появления слова»</a></span></li><li><span><a href=\"#Задача-«Словарь-синонимов»\" data-toc-modified-id=\"Задача-«Словарь-синонимов»-11.2\"><span class=\"toc-item-num\">11.2&nbsp;&nbsp;</span>Задача «Словарь синонимов»</a></span></li><li><span><a href=\"#Задача-«Выборы-в-США»\" data-toc-modified-id=\"Задача-«Выборы-в-США»-11.3\"><span class=\"toc-item-num\">11.3&nbsp;&nbsp;</span>Задача «Выборы в США»</a></span></li><li><span><a href=\"#Задача-«Самое-частое-слово»\" data-toc-modified-id=\"Задача-«Самое-частое-слово»-11.4\"><span class=\"toc-item-num\">11.4&nbsp;&nbsp;</span>Задача «Самое частое слово»</a></span></li><li><span><a href=\"#Задача-«Права-доступа»\" data-toc-modified-id=\"Задача-«Права-доступа»-11.5\"><span class=\"toc-item-num\">11.5&nbsp;&nbsp;</span>Задача «Права доступа»</a></span></li></ul></li></ul></div>"
   ]
  },
  {
   "cell_type": "markdown",
   "id": "0a020afa",
   "metadata": {
    "heading_collapsed": true
   },
   "source": [
    "## Ввод и вывод данных"
   ]
  },
  {
   "cell_type": "markdown",
   "id": "0182a2da",
   "metadata": {
    "heading_collapsed": true,
    "hidden": true
   },
   "source": [
    "### Задача «Сумма трёх чисел»\n",
    "\n",
    "Напишите программу, которая считывает три числа и выводит их сумму. Каждое число записано в отдельной строке."
   ]
  },
  {
   "cell_type": "code",
   "execution_count": null,
   "id": "fd2a638d",
   "metadata": {
    "hidden": true
   },
   "outputs": [],
   "source": [
    "a = int(input())\n",
    "b = int(input())\n",
    "c = int(input())\n",
    "print(a + b + c)"
   ]
  },
  {
   "cell_type": "markdown",
   "id": "e20652bc",
   "metadata": {
    "heading_collapsed": true,
    "hidden": true
   },
   "source": [
    "### Задача «Площадь прямоугольного треугольника»\n",
    "\n",
    "Напишите программу, которая считывает длины двух катетов в прямоугольном треугольнике и выводит его площадь. Каждое число записано в отдельной строке."
   ]
  },
  {
   "cell_type": "code",
   "execution_count": null,
   "id": "bb157aa8",
   "metadata": {
    "hidden": true
   },
   "outputs": [],
   "source": [
    "b = int(input())\n",
    "h = int(input())\n",
    "print(0.5 * b * h)"
   ]
  },
  {
   "cell_type": "markdown",
   "id": "7c8463cd",
   "metadata": {
    "heading_collapsed": true,
    "hidden": true
   },
   "source": [
    "### Задача «Дележ яблок»\n",
    "\n",
    "n школьников делят k яблок поровну, неделящийся остаток остается в корзинке. Сколько яблок достанется каждому школьнику? Сколько яблок останется в корзинке? Программа получает на вход числа n и k и должна вывести искомое количество яблок (два числа)."
   ]
  },
  {
   "cell_type": "code",
   "execution_count": null,
   "id": "cfe3f85e",
   "metadata": {
    "hidden": true
   },
   "outputs": [],
   "source": [
    "n = int(input())\n",
    "k = int(input())\n",
    "\n",
    "print(k // n)\n",
    "print(k % n)"
   ]
  },
  {
   "cell_type": "markdown",
   "id": "d31e9138",
   "metadata": {
    "heading_collapsed": true,
    "hidden": true
   },
   "source": [
    "### Задача «Электронные часы»\n",
    "\n",
    "Дано число n. С начала суток прошло n минут. Определите, сколько часов и минут будут показывать электронные часы в этот момент. Программа должна вывести два числа: количество часов (от 0 до 23) и количество минут (от 0 до 59). Учтите, что число n может быть больше, чем количество минут в сутках."
   ]
  },
  {
   "cell_type": "code",
   "execution_count": 1,
   "id": "ebc9fdba",
   "metadata": {
    "hidden": true
   },
   "outputs": [
    {
     "name": "stdout",
     "output_type": "stream",
     "text": [
      "1\n",
      "0 1\n"
     ]
    }
   ],
   "source": [
    "n = int(input())\n",
    "print(n // 60 - ((n // 60) // 24) * 24, n % 60)"
   ]
  },
  {
   "cell_type": "markdown",
   "id": "fd84c97d",
   "metadata": {
    "heading_collapsed": true,
    "hidden": true
   },
   "source": [
    "### Задача «Hello, Harry!»\n",
    "\n",
    "Напишите программу, которая приветствует пользователя, выводя слово Hello, введенное имя и знаки препинания по образцу:"
   ]
  },
  {
   "cell_type": "code",
   "execution_count": 2,
   "id": "dd2d5536",
   "metadata": {
    "hidden": true
   },
   "outputs": [
    {
     "name": "stdout",
     "output_type": "stream",
     "text": [
      "wdwe\n",
      "Hello, wdwe!\n"
     ]
    }
   ],
   "source": [
    "print('Hello, ' , input(), '!', sep='')"
   ]
  },
  {
   "cell_type": "markdown",
   "id": "a977d1ce",
   "metadata": {
    "heading_collapsed": true,
    "hidden": true
   },
   "source": [
    "### Задача «Следующее и предыдущее»\n",
    "\n",
    "Напишите программу, которая считывает целое число и выводит текст, аналогичный приведенному в примере (пробелы важны!)."
   ]
  },
  {
   "cell_type": "code",
   "execution_count": null,
   "id": "d1e8a65d",
   "metadata": {
    "hidden": true
   },
   "outputs": [],
   "source": [
    "n = int(input())\n",
    "print('The next number for the number ', n, ' is ', n+1, '.', sep='')\n",
    "print('The previous number for the number ', n, ' is ', n-1, '.', sep='')"
   ]
  },
  {
   "cell_type": "markdown",
   "id": "fccbcfc6",
   "metadata": {
    "heading_collapsed": true,
    "hidden": true
   },
   "source": [
    "### Задача «Парты»\n",
    "\n",
    "В школе решили набрать три новых математических класса. Так как занятия по математике у них проходят в одно и то же время, было решено выделить кабинет для каждого класса и купить в них новые парты. За каждой партой может сидеть не больше двух учеников. Известно количество учащихся в каждом из трёх классов. Сколько всего нужно закупить парт чтобы их хватило на всех учеников? Программа получает на вход три натуральных числа: количество учащихся в каждом из трех классов."
   ]
  },
  {
   "cell_type": "code",
   "execution_count": null,
   "id": "4171edb3",
   "metadata": {
    "hidden": true
   },
   "outputs": [],
   "source": [
    "n1 = int(input())\n",
    "n2 = int(input())\n",
    "n3 = int(input())\n",
    "print(n1 // 2 + n2 // 2 + n3 // 2 + n1 % 2 + n2 % 2 + n3 % 2)"
   ]
  },
  {
   "cell_type": "markdown",
   "id": "a7d1449d",
   "metadata": {
    "heading_collapsed": true,
    "hidden": true
   },
   "source": [
    "### Задача «Шнурки»\n",
    "\n",
    "Обувная фабрика собирается начать выпуск элитной модели ботинок. Дырочки для шнуровки будут расположены в два ряда, расстояние между рядами равно a, а расстояние между дырочками в ряду b. Количество дырочек в каждом ряду равно N. Шнуровка должна происходить элитным способом “наверх, по горизонтали в другой ряд, наверх, по горизонтали и т.д.” (см. рисунок). Кроме того, чтобы шнурки можно было завязать элитным бантиком, длина свободного конца шнурка должна быть l. Какова должна быть длина шнурка для этих ботинок?\n",
    "\n",
    "Программа получает на вход четыре натуральных числа a, b, l и N - именно в таком порядке - и должна вывести одно число - искомую длину шнурка."
   ]
  },
  {
   "cell_type": "code",
   "execution_count": null,
   "id": "db9f8bd6",
   "metadata": {
    "hidden": true
   },
   "outputs": [],
   "source": [
    "a = int(input())\n",
    "b = int(input())\n",
    "l = int(input())\n",
    "N = int(input())\n",
    "\n",
    "L = (2 * l) + (N-1)*2*b + (a*2*N)-a\n",
    "print(L)"
   ]
  },
  {
   "cell_type": "markdown",
   "id": "69f8e5ac",
   "metadata": {
    "heading_collapsed": true
   },
   "source": [
    "## Условия"
   ]
  },
  {
   "cell_type": "markdown",
   "id": "69dcf113",
   "metadata": {
    "heading_collapsed": true,
    "hidden": true
   },
   "source": [
    "### Задача «Минимум из двух чисел»\n",
    "\n",
    "Даны два целых числа. Выведите значение наименьшего из них."
   ]
  },
  {
   "cell_type": "code",
   "execution_count": null,
   "id": "fd9a62a4",
   "metadata": {
    "hidden": true
   },
   "outputs": [],
   "source": [
    "a = int(input())\n",
    "b = int(input())\n",
    "if a < b:\n",
    "    print(a)\n",
    "else:\n",
    "    print(b)"
   ]
  },
  {
   "cell_type": "markdown",
   "id": "9b7d55a6",
   "metadata": {
    "heading_collapsed": true,
    "hidden": true
   },
   "source": [
    "### Задача «Знак числа»\n",
    "\n",
    "В математике функция sign(x) (знак числа) определена так:\n",
    "* sign(x) = 1, если x > 0,\n",
    "* sign(x) = -1, если x < 0,\n",
    "* sign(x) = 0, если x = 0.\n",
    "\n",
    "Для данного числа x выведите значение sign(x). Эту задачу желательно решить с использованием каскадных инструкций if... elif... else."
   ]
  },
  {
   "cell_type": "code",
   "execution_count": null,
   "id": "e0d23df0",
   "metadata": {
    "hidden": true
   },
   "outputs": [],
   "source": [
    "x = int(input())\n",
    "if x > 0:\n",
    "    print('1')\n",
    "elif x < 0:\n",
    "    print('-1')\n",
    "else:\n",
    "    print('0')"
   ]
  },
  {
   "cell_type": "markdown",
   "id": "94c6a859",
   "metadata": {
    "heading_collapsed": true,
    "hidden": true
   },
   "source": [
    "### Задача «Шахматная доска»\n",
    "\n",
    "Заданы две клетки шахматной доски. Если они покрашены в один цвет, то выведите слово YES, а если в разные цвета — то NO. Программа получает на вход четыре числа от 1 до 8 каждое, задающие номер столбца и номер строки сначала для первой клетки, потом для второй клетки."
   ]
  },
  {
   "cell_type": "code",
   "execution_count": null,
   "id": "4c1b7b59",
   "metadata": {
    "hidden": true
   },
   "outputs": [],
   "source": [
    "n1 = int(input())\n",
    "n2 = int(input())\n",
    "n3 = int(input())\n",
    "n4 = int(input())\n",
    "x1 = n1 % 2 + n2 % 2\n",
    "x2 = n3 % 2 + n4 % 2\n",
    "if (x1 + x2) > 1 or (x1 + x2) == 0:\n",
    "    print('YES')\n",
    "else:\n",
    "    print('NO')"
   ]
  },
  {
   "cell_type": "markdown",
   "id": "4fd206df",
   "metadata": {
    "heading_collapsed": true,
    "hidden": true
   },
   "source": [
    "### Задача «Високосный год»\n",
    "\n",
    "Дано натуральное число. Требуется определить, является ли год с данным номером високосным. Если год является високосным, то выведите YES, иначе выведите NO. Напомним, что в соответствии с григорианским календарем, год является високосным, если его номер кратен 4, но не кратен 100, а также если он кратен 400."
   ]
  },
  {
   "cell_type": "code",
   "execution_count": null,
   "id": "04446090",
   "metadata": {
    "hidden": true
   },
   "outputs": [],
   "source": [
    "n = int(input())\n",
    "if n % 400 == 0:\n",
    "    print('YES')\n",
    "elif (n % 4 == 0) and (n % 100) != 0:\n",
    "    print('YES')\n",
    "else:\n",
    "    print('NO')"
   ]
  },
  {
   "cell_type": "markdown",
   "id": "d2591ce6",
   "metadata": {
    "heading_collapsed": true,
    "hidden": true
   },
   "source": [
    "### Задача «Минимум из трех чисел»\n",
    "\n",
    "Даны три целых числа. Выведите значение наименьшего из них."
   ]
  },
  {
   "cell_type": "code",
   "execution_count": null,
   "id": "320c19c4",
   "metadata": {
    "hidden": true
   },
   "outputs": [],
   "source": [
    "a = int(input())\n",
    "b = int(input())\n",
    "c = int(input())\n",
    "\n",
    "print(min(a, b, c))"
   ]
  },
  {
   "cell_type": "code",
   "execution_count": null,
   "id": "421919ad",
   "metadata": {
    "hidden": true
   },
   "outputs": [],
   "source": [
    "a = int(input())\n",
    "b = int(input())\n",
    "c = int(input())\n",
    "if b >= a <= c:\n",
    "    print(a)\n",
    "elif a >= b <= c:\n",
    "    print(b)\n",
    "else:\n",
    "    print(c)"
   ]
  },
  {
   "cell_type": "markdown",
   "id": "bcc6e721",
   "metadata": {
    "heading_collapsed": true,
    "hidden": true
   },
   "source": [
    "### Задача «Сколько совпадает чисел»\n",
    "\n",
    "Даны три целых числа. Определите, сколько среди них совпадающих. Программа должна вывести одно из чисел: 3 (если все совпадают), 2 (если два совпадает) или 0 (если все числа различны)."
   ]
  },
  {
   "cell_type": "code",
   "execution_count": null,
   "id": "7a4c0a4b",
   "metadata": {
    "hidden": true
   },
   "outputs": [],
   "source": [
    "a = int(input())\n",
    "b = int(input())\n",
    "c = int(input())\n",
    "\n",
    "if a == b == c:\n",
    "    print(3)\n",
    "elif a == b or a == c or c == b:\n",
    "    print(2)\n",
    "else:\n",
    "    print(0)"
   ]
  },
  {
   "cell_type": "markdown",
   "id": "8bd72538",
   "metadata": {
    "heading_collapsed": true,
    "hidden": true
   },
   "source": [
    "### Задача «Ход ладьи»\n",
    "\n",
    "Шахматная ладья ходит по горизонтали или вертикали. Даны две различные клетки шахматной доски, определите, может ли ладья попасть с первой клетки на вторую одним ходом. Программа получает на вход четыре числа от 1 до 8 каждое, задающие номер столбца и номер строки сначала для первой клетки, потом для второй клетки. Программа должна вывести YES, если из первой клетки ходом ладьи можно попасть во вторую или NO в противном случае."
   ]
  },
  {
   "cell_type": "code",
   "execution_count": null,
   "id": "cad83938",
   "metadata": {
    "hidden": true
   },
   "outputs": [],
   "source": []
  },
  {
   "cell_type": "markdown",
   "id": "53cd6c44",
   "metadata": {
    "heading_collapsed": true,
    "hidden": true
   },
   "source": [
    "### Задача «Ход короля»\n",
    "\n",
    "Шахматный король ходит по горизонтали, вертикали и диагонали, но только на 1 клетку. Даны две различные клетки шахматной доски, определите, может ли король попасть с первой клетки на вторую одним ходом. Программа получает на вход четыре числа от 1 до 8 каждое, задающие номер столбца и номер строки сначала для первой клетки, потом для второй клетки. Программа должна вывести YES, если из первой клетки ходом короля можно попасть во вторую или NO в противном случае."
   ]
  },
  {
   "cell_type": "code",
   "execution_count": null,
   "id": "ce3638cb",
   "metadata": {
    "hidden": true
   },
   "outputs": [],
   "source": []
  },
  {
   "cell_type": "markdown",
   "id": "54250cb4",
   "metadata": {
    "heading_collapsed": true,
    "hidden": true
   },
   "source": [
    "### Задача «Ход слона»\n",
    "\n",
    "Шахматный слон ходит по диагонали. Даны две различные клетки шахматной доски, определите, может ли слон попасть с первой клетки на вторую одним ходом."
   ]
  },
  {
   "cell_type": "code",
   "execution_count": null,
   "id": "9173273b",
   "metadata": {
    "hidden": true
   },
   "outputs": [],
   "source": []
  },
  {
   "cell_type": "markdown",
   "id": "4eb7a16d",
   "metadata": {
    "heading_collapsed": true,
    "hidden": true
   },
   "source": [
    "### Задача «Ход ферзя»\n",
    "\n",
    "Шахматный ферзь ходит по диагонали, горизонтали или вертикали. Даны две различные клетки шахматной доски, определите, может ли ферзь попасть с первой клетки на вторую одним ходом."
   ]
  },
  {
   "cell_type": "code",
   "execution_count": null,
   "id": "43276664",
   "metadata": {
    "hidden": true
   },
   "outputs": [],
   "source": []
  },
  {
   "cell_type": "markdown",
   "id": "afb61f93",
   "metadata": {
    "heading_collapsed": true,
    "hidden": true
   },
   "source": [
    "### Задача «Ход коня»\n",
    "\n",
    "Шахматный конь ходит буквой “Г” — на две клетки по вертикали в любом направлении и на одну клетку по горизонтали, или наоборот. Даны две различные клетки шахматной доски, определите, может ли конь попасть с первой клетки на вторую одним ходом"
   ]
  },
  {
   "cell_type": "code",
   "execution_count": null,
   "id": "71aa5f7e",
   "metadata": {
    "hidden": true
   },
   "outputs": [],
   "source": []
  },
  {
   "cell_type": "markdown",
   "id": "4de570c0",
   "metadata": {
    "heading_collapsed": true,
    "hidden": true
   },
   "source": [
    "### Задача «Шоколадка»\n",
    "\n",
    "Шоколадка имеет вид прямоугольника, разделенного на n×m долек. Шоколадку можно один раз разломить по прямой на две части. Определите, можно ли таким образом отломить от шоколадки часть, состоящую ровно из k долек. Программа получает на вход три числа: n, m, k и должна вывести YES или NO."
   ]
  },
  {
   "cell_type": "code",
   "execution_count": null,
   "id": "71da421d",
   "metadata": {
    "hidden": true
   },
   "outputs": [],
   "source": [
    "n = 7 #int(input())\n",
    "m = 4 #int(input())\n",
    "k = 21 #int(input())\n",
    "\n",
    "if n > m:\n",
    "    max_st = n\n",
    "    min_st = m\n",
    "else:\n",
    "    max_st = m\n",
    "    min_st = n\n",
    "    \n",
    "if (k % min_st == 0 or k % max_st == 0 or max_st == k) and (n * m) >= k:\n",
    "    print('YES')\n",
    "else:    \n",
    "    print('NO')"
   ]
  },
  {
   "cell_type": "code",
   "execution_count": null,
   "id": "dc5ab809",
   "metadata": {
    "hidden": true
   },
   "outputs": [],
   "source": [
    "n = int(input())\n",
    "m = int(input())\n",
    "k = int(input())\n",
    "if k < n * m and ((k % n == 0) or (k % m == 0)):\n",
    "    print('YES')\n",
    "else:\n",
    "    print('NO')"
   ]
  },
  {
   "cell_type": "markdown",
   "id": "10254773",
   "metadata": {
    "heading_collapsed": true,
    "hidden": true
   },
   "source": [
    "### Задача «Яша плавает в бассейне»\n",
    "\n",
    "Яша плавал в бассейне размером N × M метров и устал. В этот момент он обнаружил, что находится на расстоянии x метров от одного из длинных бортиков (не обязательно от ближайшего) и y метров от одного из коротких бортиков. Какое минимальное расстояние должен проплыть Яша, чтобы выбраться из бассейна на бортик? Программа получает на вход числа N, M, x, y. Программа должна вывести число метров, которое нужно проплыть Яше до бортика"
   ]
  },
  {
   "cell_type": "code",
   "execution_count": null,
   "id": "ee0db994",
   "metadata": {
    "hidden": true
   },
   "outputs": [],
   "source": [
    "n =  18 #int(input()) 8\n",
    "m =  90 #int(input())\n",
    "x =  3 #int(input())\n",
    "y =  63 #int(input())\n",
    "\n",
    "long  = max(n, m)\n",
    "short = min(n, m)\n",
    "remains_long  = long  - y\n",
    "remains_short = short - x\n",
    "\n",
    "print(min(x, y, remains_long, remains_short))"
   ]
  },
  {
   "cell_type": "markdown",
   "id": "15f71fff",
   "metadata": {
    "heading_collapsed": true
   },
   "source": [
    "## Вычисления"
   ]
  },
  {
   "cell_type": "markdown",
   "id": "c0e91649",
   "metadata": {
    "heading_collapsed": true,
    "hidden": true
   },
   "source": [
    "### Задача «Последняя цифра числа»\n",
    "\n",
    "Дано натуральное число. Выведите его последнюю цифру."
   ]
  },
  {
   "cell_type": "code",
   "execution_count": null,
   "id": "b9df5158",
   "metadata": {
    "hidden": true
   },
   "outputs": [],
   "source": [
    "n = int(input())\n",
    "\n",
    "print(n % 10)"
   ]
  },
  {
   "cell_type": "markdown",
   "id": "2f0b4c11",
   "metadata": {
    "heading_collapsed": true,
    "hidden": true
   },
   "source": [
    "### Задача «МКАД»\n",
    "\n",
    "Длина Московской кольцевой автомобильной дороги — 109 километров. Байкер Вася стартует с нулевого километра МКАД и едет со скоростью v километров в час. На какой отметке он остановится через t часов?\n",
    "\n",
    "Программа получает на вход значение v и t. Если v>0, то Вася движется в положительном направлении по МКАД, если же значение v<0, то в отрицательном.\n",
    "\n",
    "Программа должна вывести целое число от 0 до 108 — номер отметки, на которой остановится Вася."
   ]
  },
  {
   "cell_type": "code",
   "execution_count": null,
   "id": "5188617a",
   "metadata": {
    "hidden": true
   },
   "outputs": [],
   "source": [
    "v = -108 #int(input())\n",
    "t = 109 #int(input())\n",
    "s = 109\n",
    "circle = abs(t * v) // s\n",
    "if v > 0:\n",
    "    print((t * v) - (s * circle))\n",
    "elif abs((s * circle) - abs(s+(t * v))) == 109:\n",
    "    print(0)\n",
    "else:\n",
    "    print(abs((s * circle) - abs(s+(t * v))))"
   ]
  },
  {
   "cell_type": "code",
   "execution_count": null,
   "id": "9af66bf0",
   "metadata": {
    "hidden": true
   },
   "outputs": [],
   "source": [
    "v = -108 #int(input())\n",
    "t = 109 #int(input())\n",
    "print((v * t) )\n",
    "print((v * t) % 109)"
   ]
  },
  {
   "cell_type": "markdown",
   "id": "a684fdea",
   "metadata": {
    "heading_collapsed": true,
    "hidden": true
   },
   "source": [
    "### Задача «Дробная часть»\n",
    "\n",
    "Дано положительное действительное число X. Выведите его дробную часть."
   ]
  },
  {
   "cell_type": "code",
   "execution_count": null,
   "id": "8d3f8487",
   "metadata": {
    "hidden": true
   },
   "outputs": [],
   "source": [
    "n = float(input())\n",
    "print(n - int(n))"
   ]
  },
  {
   "cell_type": "markdown",
   "id": "67da4142",
   "metadata": {
    "heading_collapsed": true,
    "hidden": true
   },
   "source": [
    "### Задача «Первая цифра после точки»\n",
    "\n",
    "Дано положительное действительное число X. Выведите его первую цифру после десятичной точки."
   ]
  },
  {
   "cell_type": "code",
   "execution_count": null,
   "id": "0a795377",
   "metadata": {
    "hidden": true
   },
   "outputs": [],
   "source": [
    "n = float(input())\n",
    "print(int(n*10) % 10)"
   ]
  },
  {
   "cell_type": "markdown",
   "id": "eb37c2db",
   "metadata": {
    "heading_collapsed": true,
    "hidden": true
   },
   "source": [
    "### Задача «Конец уроков»\n",
    "\n",
    "В некоторой школе занятия начинаются в 9:00. Продолжительность урока — 45 минут, после 1-го, 3-го, 5-го и т.д. уроков перемена 5 минут, а после 2-го, 4-го, 6-го и т.д. — 15 минут.\n",
    "\n",
    "Дан номер урока (число от 1 до 10). Определите, когда заканчивается указанный урок.\n",
    "\n",
    "Выведите два целых числа: время окончания урока в часах и минутах."
   ]
  },
  {
   "cell_type": "code",
   "execution_count": null,
   "id": "ecd27e3d",
   "metadata": {
    "hidden": true
   },
   "outputs": [],
   "source": [
    "n = 3\n",
    "s = 45\n",
    "for i in range(1, n+1):\n",
    "    #print(i)\n",
    "    if i % 2 == 0:\n",
    "        change = 15\n",
    "    else:\n",
    "        change = 5\n",
    "    if n > i:\n",
    "        #print('перемена', change)\n",
    "        s += 45 + change\n",
    "hour = 9+(s // 60)\n",
    "mn = s % 60\n",
    "print(f'{hour}:{mn}')"
   ]
  },
  {
   "cell_type": "markdown",
   "id": "98e5be82",
   "metadata": {
    "heading_collapsed": true,
    "hidden": true
   },
   "source": [
    "### Задача «Автопробег»\n",
    "\n",
    "За день машина проезжает n километров. Сколько дней нужно, чтобы проехать маршрут длиной m километров? Программа получает на вход числа n и m."
   ]
  },
  {
   "cell_type": "code",
   "execution_count": null,
   "id": "11b294be",
   "metadata": {
    "hidden": true
   },
   "outputs": [],
   "source": [
    "from math import ceil\n",
    "\n",
    "n = int(input())\n",
    "m = int(input())\n",
    "\n",
    "print(ceil(m / n))"
   ]
  },
  {
   "cell_type": "markdown",
   "id": "313d85f5",
   "metadata": {
    "heading_collapsed": true,
    "hidden": true
   },
   "source": [
    "### Задача «Стоимость покупки»\n",
    "\n",
    "Пирожок в столовой стоит a рублей и b копеек. Определите, сколько рублей и копеек нужно заплатить за n пирожков. Программа получает на вход три числа: a, b, n, и должна вывести два числа: стоимость покупки в рублях и копейках."
   ]
  },
  {
   "cell_type": "code",
   "execution_count": null,
   "id": "f7781e85",
   "metadata": {
    "hidden": true
   },
   "outputs": [],
   "source": [
    "a = '2435' #input()\n",
    "b = '6' #input()\n",
    "n = 1965 #int(input())\n",
    "\n",
    "itog = round((int(a) + int(b)/100) * n, 2)\n",
    "rub, kop = '{:.2f}'.format(itog).split('.')\n",
    "print(rub, kop)\n",
    "\n",
    "a = int(a)\n",
    "b = int(b)\n",
    "cost = n * (100 * a + b)\n",
    "print(cost // 100, cost % 100)\n",
    "print('cost=',cost)"
   ]
  },
  {
   "cell_type": "code",
   "execution_count": null,
   "id": "f1474583",
   "metadata": {
    "hidden": true
   },
   "outputs": [],
   "source": [
    "a = input()\n",
    "b = input()\n",
    "n = int(input())\n",
    "\n",
    "itog = round((int(a) + int(b)/100) * n, 2)\n",
    "rub, kop = '{:.2f}'.format(itog).split('.')\n",
    "print(rub, kop)"
   ]
  },
  {
   "cell_type": "markdown",
   "id": "5cb3b28d",
   "metadata": {
    "heading_collapsed": true,
    "hidden": true
   },
   "source": [
    "### Задача «Разность времен»\n",
    "\n",
    "Даны значения двух моментов времени, принадлежащих одним и тем же суткам: часы, минуты и секунды для каждого из моментов времени. Известно, что второй момент времени наступил не раньше первого. Определите, сколько секунд прошло между двумя моментами времени.\n",
    "\n",
    "Программа на вход получает три целых числа: часы, минуты, секунды, задающие первый момент времени и три целых числа, задающих второй момент времени.\n",
    "\n",
    "Выведите число секунд между этими моментами времени."
   ]
  },
  {
   "cell_type": "code",
   "execution_count": null,
   "id": "fb63d19c",
   "metadata": {
    "hidden": true
   },
   "outputs": [],
   "source": [
    "a1 = int(input())\n",
    "a2 = int(input())\n",
    "a3 = int(input())\n",
    "b1 = int(input())\n",
    "b2 = int(input())\n",
    "b3 = int(input())\n",
    "\n",
    "t1 = a1*(60**2)+a2*60+a3\n",
    "t2 = b1*(60**2)+b2*60+b3\n",
    "\n",
    "print(t2-t1)"
   ]
  },
  {
   "cell_type": "markdown",
   "id": "38b30a1a",
   "metadata": {
    "heading_collapsed": true,
    "hidden": true
   },
   "source": [
    "### Задача «Улитка»\n",
    "\n",
    "Улитка ползет по вертикальному шесту высотой h метров, поднимаясь за день на a метров, а за ночь спускаясь на b метров. На какой день улитка доползет до вершины шеста?\n",
    "\n",
    "Программа получает на вход натуральные числа h, a, b.\n",
    "\n",
    "Программа должна вывести одно натуральное число. Гарантируется, что a>b."
   ]
  },
  {
   "cell_type": "code",
   "execution_count": null,
   "id": "7a63bb87",
   "metadata": {
    "hidden": true
   },
   "outputs": [],
   "source": [
    "h = 10 #int(input())\n",
    "a = 100 #int(input())\n",
    "b = 0 #int(input())\n",
    "\n",
    "s = 0\n",
    "cnt = 0\n",
    "for i in range(h):\n",
    "    s += a\n",
    "    cnt += 1\n",
    "    if s >= h:\n",
    "        break\n",
    "    else:\n",
    "        s -= b\n",
    "print(cnt)\n",
    "\n",
    "print(int((h - a - 1) // (a - b) + 2))\n",
    "\n",
    "p = h - a\n",
    "k = abs(p // (a - b)) + 0\n",
    "print(k)"
   ]
  },
  {
   "cell_type": "markdown",
   "id": "0a347107",
   "metadata": {
    "heading_collapsed": true,
    "hidden": true
   },
   "source": [
    "### Задача «Число десятков»\n",
    "\n",
    "Дано натуральное число. Найдите число десятков в его десятичной записи."
   ]
  },
  {
   "cell_type": "code",
   "execution_count": null,
   "id": "bfa042eb",
   "metadata": {
    "hidden": true
   },
   "outputs": [],
   "source": [
    "n = int(input())\n",
    "print(((n % 100)*10) // 100)"
   ]
  },
  {
   "cell_type": "code",
   "execution_count": null,
   "id": "5ca87582",
   "metadata": {
    "hidden": true
   },
   "outputs": [],
   "source": [
    "a = int(input())\n",
    "b = int(input())\n",
    "n = int(input())\n",
    "cost = n * (100 * a + b)\n",
    "print(cost // 100, cost % 100)"
   ]
  },
  {
   "cell_type": "markdown",
   "id": "d3932f90",
   "metadata": {
    "heading_collapsed": true,
    "hidden": true
   },
   "source": [
    "### Задача «Сумма цифр»"
   ]
  },
  {
   "cell_type": "code",
   "execution_count": null,
   "id": "f1d20454",
   "metadata": {
    "hidden": true
   },
   "outputs": [],
   "source": [
    "n = int(input())\n",
    "\n",
    "print(n % 10 + (n // 10) % 10 + (n // 100) % 10)"
   ]
  },
  {
   "cell_type": "markdown",
   "id": "5c5baad2",
   "metadata": {
    "heading_collapsed": true,
    "hidden": true
   },
   "source": [
    "### Задача «Гипотенуза»"
   ]
  },
  {
   "cell_type": "code",
   "execution_count": null,
   "id": "5a31b829",
   "metadata": {
    "hidden": true
   },
   "outputs": [],
   "source": [
    "a = int(input())\n",
    "b = int(input())\n",
    "\n",
    "print((a**2 + b**2)**(1/2))"
   ]
  },
  {
   "cell_type": "markdown",
   "id": "61889654",
   "metadata": {
    "heading_collapsed": true,
    "hidden": true
   },
   "source": [
    "### Задача «Часы - 1»"
   ]
  },
  {
   "cell_type": "code",
   "execution_count": null,
   "id": "9c4c6b31",
   "metadata": {
    "hidden": true
   },
   "outputs": [],
   "source": []
  },
  {
   "cell_type": "markdown",
   "id": "503c1d06",
   "metadata": {
    "heading_collapsed": true,
    "hidden": true
   },
   "source": [
    "### Задача «Часы - 2»"
   ]
  },
  {
   "cell_type": "code",
   "execution_count": null,
   "id": "763d4fa2",
   "metadata": {
    "hidden": true
   },
   "outputs": [],
   "source": []
  },
  {
   "cell_type": "markdown",
   "id": "1b2992db",
   "metadata": {
    "heading_collapsed": true,
    "hidden": true
   },
   "source": [
    "### Задача «Часы - 3»"
   ]
  },
  {
   "cell_type": "code",
   "execution_count": null,
   "id": "336a5276",
   "metadata": {
    "hidden": true
   },
   "outputs": [],
   "source": []
  },
  {
   "cell_type": "markdown",
   "id": "fa2ce5f5",
   "metadata": {
    "heading_collapsed": true,
    "hidden": true
   },
   "source": [
    "### Задача «Проценты»"
   ]
  },
  {
   "cell_type": "code",
   "execution_count": null,
   "id": "b1eb7e8a",
   "metadata": {
    "hidden": true
   },
   "outputs": [],
   "source": [
    "p = int(input())\n",
    "x = int(input())\n",
    "y = int(input())\n",
    "\n",
    "s = x * 100 + y\n",
    "s_year = s + (s * (p / 100))\n",
    "\n",
    "print(int(s_year // 100), int(s_year % 100))"
   ]
  },
  {
   "cell_type": "markdown",
   "id": "914a816e",
   "metadata": {
    "hidden": true
   },
   "source": [
    "Дано несколько чисел. Вычислите их сумму. Сначала вводите количество чисел N, затем вводится ровно N целых чисел. Какое наименьшее число переменных нужно для решения этой задачи?"
   ]
  },
  {
   "cell_type": "code",
   "execution_count": null,
   "id": "c4792921",
   "metadata": {
    "hidden": true
   },
   "outputs": [],
   "source": [
    "n = 10 #int(input())\n",
    "s = 0\n",
    "for i in range(n):\n",
    "    s += int(input())\n",
    "print(s)"
   ]
  },
  {
   "cell_type": "markdown",
   "id": "ca726018",
   "metadata": {
    "hidden": true
   },
   "source": [
    "Дано N чисел: сначала вводится число N, затем вводится ровно N целых чисел. Подсчитайте количество нулей среди введенных чисел и выведите это количество. Вам нужно подсчитать количество чисел, равных нулю, а не количество цифр."
   ]
  },
  {
   "cell_type": "code",
   "execution_count": null,
   "id": "0879ca68",
   "metadata": {
    "hidden": true
   },
   "outputs": [],
   "source": [
    "n = 10 #int(input())\n",
    "cnt = 0\n",
    "for i in range(n):\n",
    "    if int(input()) == 0:\n",
    "        cnt += 1\n",
    "print(cnt)"
   ]
  },
  {
   "cell_type": "code",
   "execution_count": null,
   "id": "aab03fee",
   "metadata": {
    "hidden": true
   },
   "outputs": [],
   "source": [
    "n = 10 #int(input())\n",
    "cnt = [1 for i in range(n) if int(input()) == 0]\n",
    "print(sum(cnt))"
   ]
  },
  {
   "cell_type": "markdown",
   "id": "9b7739dc",
   "metadata": {
    "hidden": true
   },
   "source": [
    " "
   ]
  },
  {
   "cell_type": "markdown",
   "id": "68f8db15",
   "metadata": {
    "hidden": true
   },
   "source": [
    "По данному натуральному n вычислите сумму 1^3+2^3+3^3+...+n^3."
   ]
  },
  {
   "cell_type": "code",
   "execution_count": null,
   "id": "8ac246c8",
   "metadata": {
    "hidden": true
   },
   "outputs": [],
   "source": [
    "n = 3\n",
    "s = 0\n",
    "for i in range(1, n+1):\n",
    "    s += pow(i, 3)\n",
    "print(s)"
   ]
  },
  {
   "cell_type": "code",
   "execution_count": null,
   "id": "b5125b5d",
   "metadata": {
    "hidden": true
   },
   "outputs": [],
   "source": [
    "n = 3 #int(input())\n",
    "s = [pow(i, 3) for i in range(1, n+1)]\n",
    "print(sum(s))\n",
    "s"
   ]
  },
  {
   "cell_type": "code",
   "execution_count": null,
   "id": "a10562a6",
   "metadata": {
    "hidden": true
   },
   "outputs": [],
   "source": [
    "print(sum([pow(i, 3) for i in range(1, int(input())+1)]))"
   ]
  },
  {
   "cell_type": "markdown",
   "id": "02048528",
   "metadata": {
    "heading_collapsed": true,
    "hidden": true
   },
   "source": [
    "### New heading"
   ]
  },
  {
   "cell_type": "markdown",
   "id": "950858a2",
   "metadata": {
    "heading_collapsed": true
   },
   "source": [
    "## Цикл for"
   ]
  },
  {
   "cell_type": "markdown",
   "id": "f7e23de6",
   "metadata": {
    "heading_collapsed": true,
    "hidden": true
   },
   "source": [
    "### Задача «Ряд - 1»\n",
    "\n",
    "Даны два целых числа A и B (при этом A ≤ B). Выведите все числа от A до B включительно."
   ]
  },
  {
   "cell_type": "code",
   "execution_count": null,
   "id": "0be86da1",
   "metadata": {
    "hidden": true
   },
   "outputs": [],
   "source": [
    "a = 1 #int(input())\n",
    "b = 3 #int(input())\n",
    "for i in range(a, b+1):\n",
    "    print(i, end=' ')"
   ]
  },
  {
   "cell_type": "code",
   "execution_count": null,
   "id": "f8447571",
   "metadata": {
    "hidden": true
   },
   "outputs": [],
   "source": [
    "for i in range(int(input()), int(input())+1):\n",
    "    print(i, end=' ')"
   ]
  },
  {
   "cell_type": "code",
   "execution_count": 6,
   "id": "2e9d839d",
   "metadata": {
    "hidden": true
   },
   "outputs": [
    {
     "name": "stdout",
     "output_type": "stream",
     "text": [
      "1, 2, 3\n"
     ]
    }
   ],
   "source": [
    "print(*list(range(int(input()), int(input()) + 1)), sep=', ')"
   ]
  },
  {
   "cell_type": "markdown",
   "id": "73cd2e16",
   "metadata": {
    "heading_collapsed": true,
    "hidden": true
   },
   "source": [
    "### Задача «Ряд - 2»\n",
    "\n",
    "Даны два целых числа A и В. Выведите все числа от A до B включительно, в порядке возрастания, если A < B, или в порядке убывания в противном случае."
   ]
  },
  {
   "cell_type": "code",
   "execution_count": null,
   "id": "80467486",
   "metadata": {
    "hidden": true
   },
   "outputs": [],
   "source": [
    "a = 3 #int(input())\n",
    "b = 1 #int(input())\n",
    "\n",
    "if a < b:\n",
    "    for i in range(a, b+1):\n",
    "        print(i)\n",
    "else:\n",
    "    b, a = a, b\n",
    "    for i in reversed(range(a, b+1)):\n",
    "        print(i)"
   ]
  },
  {
   "cell_type": "markdown",
   "id": "f6726dab",
   "metadata": {
    "heading_collapsed": true,
    "hidden": true
   },
   "source": [
    "### Задача «Ряд - 3»\n",
    "\n",
    "Даны два целых числа A и В, A>B. Выведите все нечётные числа от A до B включительно, в порядке убывания. В этой задаче можно обойтись без инструкции if."
   ]
  },
  {
   "cell_type": "code",
   "execution_count": null,
   "id": "9e0b3888",
   "metadata": {
    "hidden": true
   },
   "outputs": [],
   "source": [
    "a = 0 #int(input())\n",
    "b = 10 #int(input())\n",
    "for i in range(b, a-1, -1):\n",
    "    if i % 2 != 0:\n",
    "        print(i, end=' ')"
   ]
  },
  {
   "cell_type": "code",
   "execution_count": null,
   "id": "3adf5710",
   "metadata": {
    "hidden": true
   },
   "outputs": [],
   "source": [
    "a = 8 #int(input())\n",
    "b = 1 #int(input())\n",
    "for i in range(a - (a + 1) % 2, b - b % 2, -2):\n",
    "    print(i, end=' ')"
   ]
  },
  {
   "cell_type": "markdown",
   "id": "e8453c4b",
   "metadata": {
    "heading_collapsed": true,
    "hidden": true
   },
   "source": [
    "### Задача «Сумма десяти чисел»\n",
    "\n",
    "Дано 10 целых чисел. Вычислите их сумму. Напишите программу, использующую наименьшее число переменных."
   ]
  },
  {
   "cell_type": "code",
   "execution_count": null,
   "id": "d698479a",
   "metadata": {
    "hidden": true
   },
   "outputs": [],
   "source": [
    "s = 0\n",
    "for i in range(3):\n",
    "    s += int(input())\n",
    "print(s)  "
   ]
  },
  {
   "cell_type": "code",
   "execution_count": null,
   "id": "d2f2cd4f",
   "metadata": {
    "hidden": true
   },
   "outputs": [],
   "source": [
    "print(sum([int(input()) for i in range(10)]))"
   ]
  },
  {
   "cell_type": "markdown",
   "id": "0f19ef10",
   "metadata": {
    "heading_collapsed": true,
    "hidden": true
   },
   "source": [
    "### Задача «Сумма N чисел»\n",
    "\n",
    "Дано несколько чисел. Вычислите их сумму. Сначала вводите количество чисел N, затем вводится ровно N целых чисел. Какое наименьшее число переменных нужно для решения этой задачи?"
   ]
  },
  {
   "cell_type": "code",
   "execution_count": null,
   "id": "4e0f59c5",
   "metadata": {
    "hidden": true
   },
   "outputs": [],
   "source": [
    "s = [int(input()) for i in range(int(input()))]\n",
    "print(sum(s))"
   ]
  },
  {
   "cell_type": "markdown",
   "id": "8eafbdda",
   "metadata": {
    "heading_collapsed": true,
    "hidden": true
   },
   "source": [
    "### Задача «Сумма кубов»\n",
    "\n",
    "По данному натуральному n вычислите сумму 13+23+33+...+n3."
   ]
  },
  {
   "cell_type": "code",
   "execution_count": null,
   "id": "59e45849",
   "metadata": {
    "hidden": true
   },
   "outputs": [],
   "source": [
    "n = int(input())\n",
    "s = [pow(i, 3) for i in range(1, n+1)]\n",
    "print(sum(s))"
   ]
  },
  {
   "cell_type": "markdown",
   "id": "92b12b47",
   "metadata": {
    "heading_collapsed": true,
    "hidden": true
   },
   "source": [
    "### Задача «Факториал»\n",
    "\n",
    "Факториалом числа n называется произведение 1 × 2 × ... × n. Обозначение: n!.\n",
    "По данному натуральному n вычислите значение n!. Пользоваться математической библиотекой math в этой задаче запрещено."
   ]
  },
  {
   "cell_type": "code",
   "execution_count": null,
   "id": "32f63875",
   "metadata": {
    "hidden": true
   },
   "outputs": [],
   "source": [
    "n = 5 #int(input())\n",
    "s = 1\n",
    "for i in range(1, n+1):\n",
    "    s *= i\n",
    "print(s)"
   ]
  },
  {
   "cell_type": "markdown",
   "id": "1dbd7936",
   "metadata": {
    "heading_collapsed": true,
    "hidden": true
   },
   "source": [
    "### Задача «Сумма факториалов»\n",
    "\n",
    "По данному натуральном n вычислите сумму 1!+2!+3!+...+n!. В решении этой задачи можно использовать только один цикл. Пользоваться математической библиотекой math в этой задаче запрещено."
   ]
  },
  {
   "cell_type": "code",
   "execution_count": null,
   "id": "ccd563dd",
   "metadata": {
    "hidden": true
   },
   "outputs": [],
   "source": [
    "n = int(input())\n",
    "s = 0\n",
    "f = 1\n",
    "for i in range(1, n+1):\n",
    "    f *= i\n",
    "    s += f\n",
    "print(s)"
   ]
  },
  {
   "cell_type": "markdown",
   "id": "e82fcd19",
   "metadata": {
    "heading_collapsed": true,
    "hidden": true
   },
   "source": [
    "### Задача «Количество нулей»\n",
    "\n",
    "Дано N чисел: сначала вводится число N, затем вводится ровно N целых чисел. Подсчитайте количество нулей среди введенных чисел и выведите это количество. Вам нужно подсчитать количество чисел, равных нулю, а не количество цифр."
   ]
  },
  {
   "cell_type": "code",
   "execution_count": null,
   "id": "1b738adf",
   "metadata": {
    "hidden": true
   },
   "outputs": [],
   "source": [
    "cnt = [1 for i in range(int(input())) if int(input()) == 0]\n",
    "print(sum(cnt))"
   ]
  },
  {
   "cell_type": "markdown",
   "id": "ad004cee",
   "metadata": {
    "heading_collapsed": true,
    "hidden": true
   },
   "source": [
    "### Задача «Лесенка»\n",
    "\n",
    "По данному натуральному n ≤ 9 выведите лесенку из n ступенек, i-я ступенька состоит из чисел от 1 до i без пробелов."
   ]
  },
  {
   "cell_type": "code",
   "execution_count": null,
   "id": "4c0bc2e3",
   "metadata": {
    "hidden": true
   },
   "outputs": [],
   "source": [
    "n = 9 #int(input())\n",
    "s = ''\n",
    "for i in range(1, n+1):\n",
    "    s += str(i)\n",
    "    print(s)"
   ]
  },
  {
   "cell_type": "markdown",
   "id": "7fbc32b4",
   "metadata": {
    "heading_collapsed": true,
    "hidden": true
   },
   "source": [
    "### Задача «Потерянная карточка»\n",
    "\n",
    "Для настольной игры используются карточки с номерами от 1 до N. Одна карточка потерялась. Найдите ее, зная номера оставшихся карточек.\n",
    "Дано число N, далее N − 1 номер оставшихся карточек (различные числа от 1 до N). Программа должна вывести номер потерянной карточки."
   ]
  },
  {
   "cell_type": "code",
   "execution_count": null,
   "id": "706b5a4c",
   "metadata": {
    "hidden": true
   },
   "outputs": [],
   "source": [
    "n = 3 #int(input())\n",
    "s = ''\n",
    "for i in range(1, n):\n",
    "    s += str(input())\n",
    "for i in range(1, n+1):\n",
    "    if str(i) not in s:\n",
    "        print(i)\n",
    "        break"
   ]
  },
  {
   "cell_type": "code",
   "execution_count": null,
   "id": "90686cf8",
   "metadata": {
    "hidden": true
   },
   "outputs": [],
   "source": [
    "n = int(input())\n",
    "sum = 0\n",
    "for i in range(1, n + 1):\n",
    "    sum += i\n",
    "# можно доказать формулу:\n",
    "# sum == n * (n + 1) // 2\n",
    "# но мы посчитаем это значение циклом\n",
    "for i in range(n - 1):\n",
    "    sum -= int(input())\n",
    "print(sum)"
   ]
  },
  {
   "cell_type": "markdown",
   "id": "c6ba452a",
   "metadata": {
    "heading_collapsed": true
   },
   "source": [
    "## Строки"
   ]
  },
  {
   "cell_type": "markdown",
   "id": "80b64d57",
   "metadata": {
    "heading_collapsed": true,
    "hidden": true
   },
   "source": [
    "### Задача «Делаем срезы»\n",
    "\n",
    "Дана строка.\n",
    "\n",
    "Сначала выведите третий символ этой строки.\n",
    "\n",
    "Во второй строке выведите предпоследний символ этой строки.\n",
    "\n",
    "В третьей строке выведите первые пять символов этой строки.\n",
    "\n",
    "В четвертой строке выведите всю строку, кроме последних двух символов.\n",
    "\n",
    "В пятой строке выведите все символы с четными индексами (считая, что индексация начинается с 0, поэтому символы выводятся начиная с первого).\n",
    "\n",
    "В шестой строке выведите все символы с нечетными индексами, то есть начиная со второго символа строки.\n",
    "\n",
    "В седьмой строке выведите все символы в обратном порядке.\n",
    "\n",
    "В восьмой строке выведите все символы строки через один в обратном порядке, начиная с последнего.\n",
    "\n",
    "В девятой строке выведите длину данной строки."
   ]
  },
  {
   "cell_type": "code",
   "execution_count": null,
   "id": "de538c6b",
   "metadata": {
    "hidden": true
   },
   "outputs": [],
   "source": [
    "n = 'Abrakadabra' #input()\n",
    "\n",
    "print(n[2]) #1 выведите третий символ этой строки\n",
    "print(n[-2]) #2 выведите предпоследний символ этой строки\n",
    "print(n[:5]) #3 выведите первые пять символов этой строки\n",
    "print(n[:-2]) #4 выведите всю строку, кроме последних двух символов\n",
    "for i in range(len(n)): #5 выведите все символы с четными индексами \n",
    "    if i % 2 == 0:      # (считая, что индексация начинается с 0, поэтому символы выводятся начиная с первого)\n",
    "        print(n[i], end='')\n",
    "print()\n",
    "print(s[::2]) #5\n",
    "for i in range(len(n)): #6 выведите все символы с нечетными индексами, то есть начиная со второго символа строки\n",
    "    if i % 2 != 0:\n",
    "        print(n[i], end='')\n",
    "print()\n",
    "print(s[1::2]) #6 выведите все символы с нечетными индексами, то есть начиная со второго символа строки\n",
    "for i in reversed(n): #7 выведите все символы в обратном порядке\n",
    "    print(i, end='')\n",
    "print()\n",
    "print(s[::-1]) #7 выведите все символы в обратном порядке\n",
    "cnt = 0\n",
    "for i in reversed(n): #8 выведите все символы строки через один в обратном порядке, начиная с последнего\n",
    "    if cnt % 2 == 0:\n",
    "        print(i, end='')\n",
    "    cnt += 1\n",
    "print()\n",
    "print(s[::-2]) #8 выведите все символы строки через один в обратном порядке, начиная с последнего\n",
    "print(len(n)) #9 выведите длину данной строки\n"
   ]
  },
  {
   "cell_type": "markdown",
   "id": "8be26be2",
   "metadata": {
    "heading_collapsed": true,
    "hidden": true
   },
   "source": [
    "### Задача «Количество слов»\n",
    "\n",
    "Дана строка, состоящая из слов, разделенных пробелами. Определите, сколько в ней слов. Используйте для решения задачи метод count."
   ]
  },
  {
   "cell_type": "code",
   "execution_count": null,
   "id": "6f623acd",
   "metadata": {
    "hidden": true
   },
   "outputs": [],
   "source": [
    "n = 'Hello world' #input()\n",
    "print(n.count(' ')+1)"
   ]
  },
  {
   "cell_type": "markdown",
   "id": "e6959a19",
   "metadata": {
    "heading_collapsed": true,
    "hidden": true
   },
   "source": [
    "### Задача «Две половинки»\n",
    "\n",
    "Дана строка. Разрежьте ее на две равные части (если длина строки — четная, а если длина строки нечетная, то длина первой части должна быть на один символ больше). Переставьте эти две части местами, результат запишите в новую строку и выведите на экран.\n",
    "\n",
    "При решении этой задачи не стоит пользоваться инструкцией if."
   ]
  },
  {
   "cell_type": "code",
   "execution_count": null,
   "id": "eafb4064",
   "metadata": {
    "hidden": true
   },
   "outputs": [],
   "source": [
    "n = 'Hello world' #input()\n",
    "c = int(round(len(n)/2, 0))\n",
    "print(n[c:]+n[:c])"
   ]
  },
  {
   "cell_type": "markdown",
   "id": "273da37c",
   "metadata": {
    "heading_collapsed": true,
    "hidden": true
   },
   "source": [
    "### Задача «Переставить два слова»\n",
    "\n",
    "Дана строка, состоящая ровно из двух слов, разделенных пробелом. Переставьте эти слова местами. Результат запишите в строку и выведите получившуюся строку.\n",
    "\n",
    "При решении этой задачи не стоит пользоваться циклами и инструкцией if."
   ]
  },
  {
   "cell_type": "code",
   "execution_count": null,
   "id": "2ea4218e",
   "metadata": {
    "hidden": true
   },
   "outputs": [],
   "source": [
    "n = 'Hello world' #input()\n",
    "c = n.find(' ')\n",
    "print(n[c+1:]+' '+n[:c])"
   ]
  },
  {
   "cell_type": "markdown",
   "id": "73c89635",
   "metadata": {
    "heading_collapsed": true,
    "hidden": true
   },
   "source": [
    "### Задача «Первое и последнее вхождения»\n",
    "\n",
    "Дана строка. Если в этой строке буква f встречается только один раз, выведите её индекс. Если она встречается два и более раз, выведите индекс её первого и последнего появления. Если буква f в данной строке не встречается, ничего не выводите.\n",
    "\n",
    "При решении этой задачи не стоит использовать циклы."
   ]
  },
  {
   "cell_type": "code",
   "execution_count": null,
   "id": "b9932544",
   "metadata": {
    "hidden": true
   },
   "outputs": [],
   "source": [
    "n = 'comfortfjhkhkf' #input()\n",
    "cnt = n.count('f')\n",
    "if cnt == 1:\n",
    "    print(n.find('f'))\n",
    "elif cnt > 1:\n",
    "    print(n.find('f'), n.rfind('f'))"
   ]
  },
  {
   "cell_type": "markdown",
   "id": "f26fc79e",
   "metadata": {
    "heading_collapsed": true,
    "hidden": true
   },
   "source": [
    "### Задача «Второе вхождение»\n",
    "\n",
    "Дана строка. Найдите в этой строке второе вхождение буквы f, и выведите индекс этого вхождения. Если буква f в данной строке встречается только один раз, выведите число -1, а если не встречается ни разу, выведите число -2."
   ]
  },
  {
   "cell_type": "code",
   "execution_count": null,
   "id": "fa23bf34",
   "metadata": {
    "hidden": true
   },
   "outputs": [],
   "source": [
    "n = 'comfortfjhkhkf' #input()\n",
    "n ='wqwf'\n",
    "cnt = n.count('f')\n",
    "if cnt == 1:\n",
    "    print('-1')\n",
    "elif cnt > 1:\n",
    "    print(n.find('f', n.find('f')+1))\n",
    "else:\n",
    "    print('-2')"
   ]
  },
  {
   "cell_type": "markdown",
   "id": "b062c394",
   "metadata": {
    "heading_collapsed": true,
    "hidden": true
   },
   "source": [
    "### Задача «Удаление фрагмента»\n",
    "\n",
    "Дана строка, в которой буква h встречается минимум два раза. Удалите из этой строки первое и последнее вхождение буквы h, а также все символы, находящиеся между ними."
   ]
  },
  {
   "cell_type": "code",
   "execution_count": null,
   "id": "3d678a59",
   "metadata": {
    "hidden": true
   },
   "outputs": [],
   "source": [
    "n = 'comhortfjhkhkf' #input()\n",
    "print(n[n.find('h'):n.rfind('h')+1])\n",
    "print(n.replace(n[n.find('h'):n.rfind('h')+1], ''))\n",
    "s = n[:n.find('h')] + n[n.rfind('h') + 1:]\n",
    "print(s)"
   ]
  },
  {
   "cell_type": "markdown",
   "id": "e853493e",
   "metadata": {
    "heading_collapsed": true,
    "hidden": true
   },
   "source": [
    "### Задача «Обращение фрагмента»\n",
    "\n",
    "Дана строка, в которой буква h встречается как минимум два раза. Разверните последовательность символов, заключенную между первым и последним появлением буквы h, в противоположном порядке."
   ]
  },
  {
   "cell_type": "code",
   "execution_count": null,
   "id": "570ecf64",
   "metadata": {
    "hidden": true
   },
   "outputs": [],
   "source": [
    "n = 'comh1rtfjh2hkf' #input()\n",
    "s = n[n.find('h')+1:n.rfind('h')]\n",
    "print(n.replace(s, s[::-1]))"
   ]
  },
  {
   "cell_type": "markdown",
   "id": "79ede721",
   "metadata": {
    "heading_collapsed": true,
    "hidden": true
   },
   "source": [
    "### Задача «Замена подстроки»\n",
    "\n",
    "Дана строка. Замените в этой строке все цифры 1 на слово one."
   ]
  },
  {
   "cell_type": "code",
   "execution_count": null,
   "id": "f9ef0d27",
   "metadata": {
    "hidden": true
   },
   "outputs": [],
   "source": [
    "n = '1+1=2' #input()\n",
    "print(n.replace('1', 'one'))"
   ]
  },
  {
   "cell_type": "markdown",
   "id": "6d253cc3",
   "metadata": {
    "heading_collapsed": true,
    "hidden": true
   },
   "source": [
    "### Задача «Удаление символа»\n",
    "\n",
    "Дана строка. Удалите из этой строки все символы @."
   ]
  },
  {
   "cell_type": "code",
   "execution_count": null,
   "id": "15638107",
   "metadata": {
    "hidden": true
   },
   "outputs": [],
   "source": [
    "n = '@+1=2' #input()\n",
    "print(n.replace('@', ''))"
   ]
  },
  {
   "cell_type": "markdown",
   "id": "313ea15b",
   "metadata": {
    "heading_collapsed": true,
    "hidden": true
   },
   "source": [
    "### Задача «Замена внутри фрагмента»\n",
    "\n",
    "Дана строка. Замените в этой строке все появления буквы h на букву H, кроме первого и последнего вхождения."
   ]
  },
  {
   "cell_type": "code",
   "execution_count": null,
   "id": "2c9d0ec1",
   "metadata": {
    "hidden": true
   },
   "outputs": [],
   "source": [
    "n = 'hhhhhhhhhhhhhhhhhhhhhhhhhhhhhhhhhhhhhhhhh' #input()\n",
    "s = (n[n.find('h')+1:n.rfind('h')]).replace('h', 'H')\n",
    "print(n[:n.find('h')+1]+s+n[n.rfind('h'):])"
   ]
  },
  {
   "cell_type": "markdown",
   "id": "1a440d46",
   "metadata": {
    "heading_collapsed": true,
    "hidden": true
   },
   "source": [
    "### Задача «Удалить каждый третий символ»\n",
    "\n",
    "Дана строка. Удалите из нее все символы, чьи индексы делятся на 3"
   ]
  },
  {
   "cell_type": "code",
   "execution_count": null,
   "id": "d7dbca65",
   "metadata": {
    "hidden": true
   },
   "outputs": [],
   "source": [
    "n = 'comh1rtfjh2hkf' #input()\n",
    "for i in range(len(n)):\n",
    "    if i % 3 !=0 :\n",
    "        print(n[i], end='')"
   ]
  },
  {
   "cell_type": "markdown",
   "id": "2d2ae0df",
   "metadata": {
    "heading_collapsed": true
   },
   "source": [
    "## Цикл while"
   ]
  },
  {
   "cell_type": "markdown",
   "id": "9cff135b",
   "metadata": {
    "heading_collapsed": true,
    "hidden": true
   },
   "source": [
    "### Задача «Список квадратов»\n",
    "\n",
    "По данному целому числу N распечатайте все квадраты натуральных чисел, не превосходящие N, в порядке возрастания."
   ]
  },
  {
   "cell_type": "code",
   "execution_count": null,
   "id": "8c4ed90f",
   "metadata": {
    "hidden": true
   },
   "outputs": [],
   "source": [
    "n = 10\n",
    "s = 1\n",
    "while s**2 <= n:\n",
    "    print(s**2)\n",
    "    s +=1"
   ]
  },
  {
   "cell_type": "markdown",
   "id": "4d068fae",
   "metadata": {
    "heading_collapsed": true,
    "hidden": true
   },
   "source": [
    "### Задача «Минимальный делитель»\n",
    "\n",
    "Дано целое число, не меньшее 2. Выведите его наименьший натуральный делитель, отличный от 1."
   ]
  },
  {
   "cell_type": "code",
   "execution_count": null,
   "id": "c82d14a1",
   "metadata": {
    "hidden": true
   },
   "outputs": [],
   "source": [
    "n = 19 # int(input())\n",
    "s = n\n",
    "while s > 1:\n",
    "    if n % s == 0:\n",
    "        nod = s\n",
    "    s -= 1\n",
    "print(nod)\n",
    "\n",
    "i = 2\n",
    "while n % i != 0:\n",
    "    i += 1\n",
    "print(i)"
   ]
  },
  {
   "cell_type": "markdown",
   "id": "a696c4ac",
   "metadata": {
    "heading_collapsed": true,
    "hidden": true
   },
   "source": [
    "### Задача «Степень двойки»\n",
    "\n",
    "По данному натуральному числу N найдите наибольшую целую степень двойки, не превосходящую N. Выведите показатель степени и саму степень.\n",
    "\n",
    "Операцией возведения в степень пользоваться нельзя!"
   ]
  },
  {
   "cell_type": "code",
   "execution_count": null,
   "id": "365ee601",
   "metadata": {
    "hidden": true
   },
   "outputs": [],
   "source": [
    "n = 32 # int(input())\n",
    "i = 2\n",
    "st = 1\n",
    "while i <= n:\n",
    "    i = i * 2\n",
    "    st += 1\n",
    "print(st - 1, i // 2)"
   ]
  },
  {
   "cell_type": "markdown",
   "id": "933bfc8b",
   "metadata": {
    "heading_collapsed": true,
    "hidden": true
   },
   "source": [
    "### Задача «Утренняя пробежка»\n",
    "\n",
    "В первый день спортсмен пробежал x километров, а затем он каждый день увеличивал пробег на 10% от предыдущего значения. По данному числу y определите номер дня, на который пробег спортсмена составит не менее y километров.\n",
    "\n",
    "Программа получает на вход действительные числа x и y и должна вывести одно натуральное число."
   ]
  },
  {
   "cell_type": "code",
   "execution_count": null,
   "id": "fa798c8f",
   "metadata": {
    "hidden": true
   },
   "outputs": [],
   "source": [
    "x = 20 # int(input())\n",
    "y = 20 # int(input())\n",
    "day = 1\n",
    "while x < y:\n",
    "    x += x / 10\n",
    "    day += 1\n",
    "print(day)"
   ]
  },
  {
   "cell_type": "markdown",
   "id": "d8d0f16b",
   "metadata": {
    "heading_collapsed": true,
    "hidden": true
   },
   "source": [
    "### Задача «Длина последовательности»\n",
    "\n",
    "Программа получает на вход последовательность целых неотрицательных чисел, каждое число записано в отдельной строке. Последовательность завершается числом 0, при считывании которого программа должна закончить свою работу и вывести количество членов последовательности (не считая завершающего числа 0). Числа, следующие за числом 0, считывать не нужно."
   ]
  },
  {
   "cell_type": "code",
   "execution_count": null,
   "id": "d63bee1e",
   "metadata": {
    "hidden": true
   },
   "outputs": [],
   "source": [
    "n = int(input())\n",
    "cnt = 0\n",
    "while n != 0:\n",
    "    n = int(input())\n",
    "    cnt += 1\n",
    "print(cnt)"
   ]
  },
  {
   "cell_type": "code",
   "execution_count": null,
   "id": "453cf757",
   "metadata": {
    "hidden": true
   },
   "outputs": [],
   "source": [
    "len = 0\n",
    "while int(input()) != 0:\n",
    "    len += 1\n",
    "print(len)"
   ]
  },
  {
   "cell_type": "markdown",
   "id": "f39149d8",
   "metadata": {
    "heading_collapsed": true,
    "hidden": true
   },
   "source": [
    "### Задача «Сумма последовательности»\n",
    "\n",
    "Определите сумму всех элементов последовательности, завершающейся числом 0. В этой и во всех следующих задачах числа, следующие за первым нулем, учитывать не нужно."
   ]
  },
  {
   "cell_type": "code",
   "execution_count": null,
   "id": "d76514dd",
   "metadata": {
    "hidden": true
   },
   "outputs": [],
   "source": [
    "n = int(input())\n",
    "s = 0\n",
    "while n != 0:\n",
    "    s += n\n",
    "    n = int(input())\n",
    "print(s)"
   ]
  },
  {
   "cell_type": "markdown",
   "id": "81ef6b25",
   "metadata": {
    "heading_collapsed": true,
    "hidden": true
   },
   "source": [
    "### Задача «Среднее значение последовательности»\n",
    "\n",
    "Определите среднее значение всех элементов последовательности, завершающейся числом 0."
   ]
  },
  {
   "cell_type": "code",
   "execution_count": null,
   "id": "3193957b",
   "metadata": {
    "hidden": true
   },
   "outputs": [],
   "source": [
    "n = int(input())\n",
    "s, i = 0, 0\n",
    "while n != 0:\n",
    "    s += n\n",
    "    i += 1\n",
    "    n = int(input())\n",
    "print(s / i)"
   ]
  },
  {
   "cell_type": "markdown",
   "id": "021e15d9",
   "metadata": {
    "heading_collapsed": true,
    "hidden": true
   },
   "source": [
    "### Задача «Максимум последовательности»\n",
    "\n",
    "Последовательность состоит из натуральных чисел и завершается числом 0. Определите значение наибольшего элемента последовательности."
   ]
  },
  {
   "cell_type": "code",
   "execution_count": null,
   "id": "bb9ec84a",
   "metadata": {
    "hidden": true
   },
   "outputs": [],
   "source": [
    "s_max = n = int(input())\n",
    "while n != 0:\n",
    "    n = int(input())\n",
    "    if s_max < n:\n",
    "        s_max = n\n",
    "print(s_max)"
   ]
  },
  {
   "cell_type": "markdown",
   "id": "dce67cd1",
   "metadata": {
    "heading_collapsed": true,
    "hidden": true
   },
   "source": [
    "### Задача «Индекс максимума последовательности»\n",
    "\n",
    "Последовательность состоит из натуральных чисел и завершается числом 0. Определите индекс наибольшего элемента последовательности. Если наибольших элементов несколько, выведите индекс первого из них. Нумерация элементов начинается с нуля."
   ]
  },
  {
   "cell_type": "code",
   "execution_count": null,
   "id": "790cd502",
   "metadata": {
    "hidden": true
   },
   "outputs": [],
   "source": [
    "n, s_max = -1, 0\n",
    "s_str = []\n",
    "while n != 0:\n",
    "    n = int(input())\n",
    "    if s_max < n:\n",
    "        s_max = n\n",
    "    s_str.append(n)\n",
    "print(s_max)\n",
    "print(s_str.index(s_max))"
   ]
  },
  {
   "cell_type": "markdown",
   "id": "a6d86770",
   "metadata": {
    "heading_collapsed": true,
    "hidden": true
   },
   "source": [
    "### Задача «Количество четных элементов последовательности»\n",
    "\n",
    "Определите количество четных элементов в последовательности, завершающейся числом 0."
   ]
  },
  {
   "cell_type": "code",
   "execution_count": null,
   "id": "ea4c244d",
   "metadata": {
    "hidden": true
   },
   "outputs": [],
   "source": [
    "s = 0\n",
    "n = -1\n",
    "while n != 0:\n",
    "    n = int(input())\n",
    "    if n % 2 == 0:\n",
    "        s += 1\n",
    "print(s-1)"
   ]
  },
  {
   "cell_type": "markdown",
   "id": "df3f53c4",
   "metadata": {
    "heading_collapsed": true,
    "hidden": true
   },
   "source": [
    "### Задача «Количество элементов, которые больше предыдущего»\n",
    "\n",
    "Последовательность состоит из натуральных чисел и завершается числом 0. Определите, сколько элементов этой последовательности больше предыдущего элемента."
   ]
  },
  {
   "cell_type": "code",
   "execution_count": null,
   "id": "b6d8a45d",
   "metadata": {
    "hidden": true
   },
   "outputs": [],
   "source": [
    "cnt = 0\n",
    "n1 = n2 = int(input())\n",
    "while n2 != 0:\n",
    "    n2 = int(input())\n",
    "    if n1 < n2:\n",
    "        cnt += 1\n",
    "    n1 = n2\n",
    "print(s_max)\n",
    "print(cnt)"
   ]
  },
  {
   "cell_type": "markdown",
   "id": "3eeb98eb",
   "metadata": {
    "heading_collapsed": true,
    "hidden": true
   },
   "source": [
    "### Задача «Второй максимум»\n",
    "\n",
    "Последовательность состоит из различных натуральных чисел и завершается числом 0. Определите значение второго по величине элемента в этой последовательности. Гарантируется, что в последовательности есть хотя бы два элемента."
   ]
  },
  {
   "cell_type": "code",
   "execution_count": null,
   "id": "3b2aa916",
   "metadata": {
    "hidden": true
   },
   "outputs": [],
   "source": [
    "n = -1\n",
    "s_str = []\n",
    "while n != 0:\n",
    "    n = int(input())\n",
    "    s_str.append(n)\n",
    "s_str.sort(reverse= True)\n",
    "print(s_str[1])\n"
   ]
  },
  {
   "cell_type": "markdown",
   "id": "626c93de",
   "metadata": {
    "heading_collapsed": true,
    "hidden": true
   },
   "source": [
    "### Задача «Количество элементов, равных максимуму»\n",
    "\n",
    "Последовательность состоит из натуральных чисел и завершается числом 0. Определите, сколько элементов этой последовательности равны ее наибольшему элементу."
   ]
  },
  {
   "cell_type": "code",
   "execution_count": null,
   "id": "d786d6c1",
   "metadata": {
    "hidden": true
   },
   "outputs": [],
   "source": [
    "n = -1\n",
    "s_max = 0\n",
    "s_str = []\n",
    "while n != 0:\n",
    "    n = int(input())\n",
    "    if s_max < n:\n",
    "        s_max = n\n",
    "    s_str.append(n)\n",
    "print(s_str.count(s_max))"
   ]
  },
  {
   "cell_type": "markdown",
   "id": "66847f20",
   "metadata": {
    "heading_collapsed": true,
    "hidden": true
   },
   "source": [
    "### Задача «Числа Фибоначчи»\n",
    "\n",
    "По данному числу n определите n-е число Фибоначчи φn."
   ]
  },
  {
   "cell_type": "code",
   "execution_count": null,
   "id": "c844fe31",
   "metadata": {
    "hidden": true
   },
   "outputs": [],
   "source": [
    "n = 6 # int(input())\n",
    "sqr5 = 5**(1/2)\n",
    "PHI = (sqr5 + 1) / 2\n",
    "print(int(PHI ** n / sqr5 + 0.5))"
   ]
  },
  {
   "cell_type": "code",
   "execution_count": null,
   "id": "bb715a2b",
   "metadata": {
    "hidden": true
   },
   "outputs": [],
   "source": [
    "n = int(input())\n",
    "if n == 0:\n",
    "    print(0)\n",
    "else:\n",
    "    a, b = 0, 1\n",
    "    for i in range(2, n + 1):\n",
    "        a, b = b, a + b\n",
    "    print(b)"
   ]
  },
  {
   "cell_type": "markdown",
   "id": "059249e3",
   "metadata": {
    "heading_collapsed": true,
    "hidden": true
   },
   "source": [
    "### Задача «Номер числа Фибоначчи»"
   ]
  },
  {
   "cell_type": "code",
   "execution_count": null,
   "id": "3ca8cfcc",
   "metadata": {
    "hidden": true
   },
   "outputs": [],
   "source": []
  },
  {
   "cell_type": "markdown",
   "id": "341ccff3",
   "metadata": {
    "heading_collapsed": true,
    "hidden": true
   },
   "source": [
    "### Задача «Максимальное число идущих подряд равных элементов»\n",
    "\n",
    "Дана последовательность натуральных чисел, завершающаяся числом 0. Определите, какое наибольшее число подряд идущих элементов этой последовательности равны друг другу."
   ]
  },
  {
   "cell_type": "code",
   "execution_count": null,
   "id": "232501ca",
   "metadata": {
    "hidden": true
   },
   "outputs": [],
   "source": [
    "n1 = int(input())\n",
    "s = 1\n",
    "s_max = 1\n",
    "while n1 != 0:\n",
    "    n2 = int(input())\n",
    "    if n1 == n2:\n",
    "        s += 1\n",
    "    else:\n",
    "        s = 1\n",
    "    n1 = n2\n",
    "    if s_max < s:\n",
    "        s_max = s\n",
    "print(s_max)"
   ]
  },
  {
   "cell_type": "markdown",
   "id": "804277a6",
   "metadata": {
    "heading_collapsed": true,
    "hidden": true
   },
   "source": [
    "### Задача «Стандартное отклонение»\n",
    "\n",
    "Определите стандартное отклонение для данной последовательности натуральных чисел, завершающейся числом 0."
   ]
  },
  {
   "cell_type": "code",
   "execution_count": 4,
   "id": "f8619691",
   "metadata": {
    "hidden": true
   },
   "outputs": [
    {
     "name": "stdout",
     "output_type": "stream",
     "text": [
      "1\n",
      "2\n",
      "3\n",
      "0\n",
      "1.0\n"
     ]
    }
   ],
   "source": [
    "n = -1\n",
    "cnt = 0\n",
    "s_str = []\n",
    "while n != 0:\n",
    "    n = int(input())\n",
    "    if n !=0 :\n",
    "        s_str.append(n)\n",
    "        cnt += 1\n",
    "s_avg = sum(s_str) / cnt\n",
    "s = 0\n",
    "for el in s_str:\n",
    "    s += (el - s_avg)**2\n",
    "sm = s / (cnt - 1)\n",
    "print(sm**(0.5))"
   ]
  },
  {
   "cell_type": "markdown",
   "id": "7e17b737",
   "metadata": {
    "heading_collapsed": true
   },
   "source": [
    "## Списки"
   ]
  },
  {
   "cell_type": "markdown",
   "id": "ad0983ff",
   "metadata": {
    "heading_collapsed": true,
    "hidden": true
   },
   "source": [
    "### Задача «Четные индексы»\n",
    "\n",
    "Выведите все элементы списка с четными индексами (то есть A[0], A[2], A[4], ...)."
   ]
  },
  {
   "cell_type": "code",
   "execution_count": 16,
   "id": "1f8d2e24",
   "metadata": {
    "hidden": true
   },
   "outputs": [
    {
     "name": "stdout",
     "output_type": "stream",
     "text": [
      "1 2 3 4 5\n",
      "1 3 5 "
     ]
    }
   ],
   "source": [
    "spisok = input().split(' ') #['1', '2', '3', '4', '5']\n",
    "for i in range(0, len(spisok), 2):\n",
    "    print(spisok[i], end=' ')"
   ]
  },
  {
   "cell_type": "markdown",
   "id": "b1fe0bc8",
   "metadata": {
    "heading_collapsed": true,
    "hidden": true
   },
   "source": [
    "### Задача «Четные элементы»\n",
    "\n",
    "Выведите все четные элементы списка. При этом используйте цикл for, перебирающий элементы списка, а не их индексы!"
   ]
  },
  {
   "cell_type": "code",
   "execution_count": 19,
   "id": "bc6aafee",
   "metadata": {
    "hidden": true
   },
   "outputs": [
    {
     "name": "stdout",
     "output_type": "stream",
     "text": [
      "2 4 "
     ]
    }
   ],
   "source": [
    "#spisok = input().split(' ') \n",
    "spisok = '1 2 3 4 5'.split(' ') \n",
    "for el in spisok:\n",
    "    if int(el) % 2 == 0:\n",
    "        print(el, end=' ')"
   ]
  },
  {
   "cell_type": "markdown",
   "id": "4af1d872",
   "metadata": {
    "heading_collapsed": true,
    "hidden": true
   },
   "source": [
    "### Задача «Больше предыдущего»\n",
    "\n",
    "Дан список чисел. Выведите все элементы списка, которые больше предыдущего элемента."
   ]
  },
  {
   "cell_type": "code",
   "execution_count": 23,
   "id": "f40a7804",
   "metadata": {
    "hidden": true
   },
   "outputs": [
    {
     "name": "stdout",
     "output_type": "stream",
     "text": [
      "5 4 "
     ]
    }
   ],
   "source": [
    "#spisok = input().split(' ') \n",
    "spisok = '1 5 2 4 3'.split(' ') \n",
    "prev = int(spisok[0])\n",
    "for el in spisok:\n",
    "    if int(el) > prev:\n",
    "        print(el, end=' ')\n",
    "    prev = int(el)\n",
    "\n"
   ]
  },
  {
   "cell_type": "markdown",
   "id": "503f25d2",
   "metadata": {
    "heading_collapsed": true,
    "hidden": true
   },
   "source": [
    "### Задача «Соседи одного знака»\n",
    "\n",
    "Дан список чисел. Если в нем есть два соседних элемента одного знака, выведите эти числа. Если соседних элементов одного знака нет — не выводите ничего. Если таких пар соседей несколько — выведите первую пару."
   ]
  },
  {
   "cell_type": "code",
   "execution_count": 35,
   "id": "1487d625",
   "metadata": {
    "hidden": true
   },
   "outputs": [
    {
     "name": "stdout",
     "output_type": "stream",
     "text": [
      "1 2\n"
     ]
    }
   ],
   "source": [
    "spisok1 = '1 2 2 4 5'.split(' ')\n",
    "spisok = [int(el) for el in spisok1]\n",
    "#spisok = [int(el) for el in input().split(' ')]\n",
    "for i in range(1, len(spisok)):\n",
    "    if (spisok[i-1]>0 and spisok[i]>0) or (spisok[i-1]<0 and spisok[i]<0):\n",
    "        print(spisok[i-1], spisok[i])\n",
    "        break"
   ]
  },
  {
   "cell_type": "code",
   "execution_count": 33,
   "id": "222e8a56",
   "metadata": {
    "hidden": true
   },
   "outputs": [
    {
     "data": {
      "text/plain": [
       "[4, 4, 4, 4, 4]"
      ]
     },
     "execution_count": 33,
     "metadata": {},
     "output_type": "execute_result"
    }
   ],
   "source": [
    "a = [int(i) for i in input().split()]\n",
    "for i in range(1, len(a)):\n",
    "    if a[i - 1] * a[i] > 0:\n",
    "        print(a[i - 1], a[i])\n",
    "        break"
   ]
  },
  {
   "cell_type": "markdown",
   "id": "b330fbaa",
   "metadata": {
    "heading_collapsed": true,
    "hidden": true
   },
   "source": [
    "### Задача «Больше своих соседей»\n",
    "\n",
    "Дан список чисел. Определите, сколько в этом списке элементов, которые больше двух своих соседей, и выведите количество таких элементов. Крайние элементы списка никогда не учитываются, поскольку у них недостаточно соседей."
   ]
  },
  {
   "cell_type": "code",
   "execution_count": 43,
   "id": "b2bfcd65",
   "metadata": {
    "hidden": true
   },
   "outputs": [
    {
     "name": "stdout",
     "output_type": "stream",
     "text": [
      "0\n"
     ]
    }
   ],
   "source": [
    "spisok1 = '1 2 3 4 5'.split(' ')\n",
    "spisok = [int(el) for el in spisok1]\n",
    "cnt = 0\n",
    "for i in range(1, len(spisok)-1):\n",
    "    if spisok[i] > spisok[i-1] and spisok[i] > spisok[i+1]:\n",
    "        cnt += 1\n",
    "print(cnt)"
   ]
  },
  {
   "cell_type": "markdown",
   "id": "2c800dce",
   "metadata": {
    "heading_collapsed": true,
    "hidden": true
   },
   "source": [
    "### Задача «Наибольший элемент»\n",
    "\n",
    "Дан список чисел. Выведите значение наибольшего элемента в списке, а затем индекс этого элемента в списке. Если наибольших элементов несколько, выведите индекс первого из них."
   ]
  },
  {
   "cell_type": "code",
   "execution_count": 45,
   "id": "4e2168e0",
   "metadata": {
    "hidden": true
   },
   "outputs": [
    {
     "name": "stdout",
     "output_type": "stream",
     "text": [
      "5 4\n"
     ]
    }
   ],
   "source": [
    "spisok1 = '1 2 3 4 5'.split(' ')\n",
    "spisok = [int(el) for el in spisok1]\n",
    "s_max = max(spisok)\n",
    "print(s_max, spisok.index(s_max))"
   ]
  },
  {
   "cell_type": "markdown",
   "id": "6c319d2e",
   "metadata": {
    "heading_collapsed": true,
    "hidden": true
   },
   "source": [
    "### Задача «Шеренга»\n",
    "\n",
    "Петя перешёл в другую школу. На уроке физкультуры ему понадобилось определить своё место в строю. Помогите ему это сделать.\n",
    "Программа получает на вход невозрастающую последовательность натуральных чисел, означающих рост каждого человека в строю. После этого вводится число X – рост Пети. Все числа во входных данных натуральные и не превышают 200.\n",
    "\n",
    "Выведите номер, под которым Петя должен встать в строй. Если в строю есть люди с одинаковым ростом, таким же, как у Пети, то он должен встать после них."
   ]
  },
  {
   "cell_type": "code",
   "execution_count": 107,
   "id": "4d837a3e",
   "metadata": {
    "hidden": true
   },
   "outputs": [
    {
     "name": "stdout",
     "output_type": "stream",
     "text": [
      "3\n"
     ]
    }
   ],
   "source": [
    "spisok = [int(el) for el in input().split(' ')]\n",
    "n = int(input())\n",
    "spisok.append(n)\n",
    "spisok.sort(reverse=True)\n",
    "print(spisok.index(n)+spisok.count(n))"
   ]
  },
  {
   "cell_type": "markdown",
   "id": "dcdd0e7a",
   "metadata": {
    "heading_collapsed": true,
    "hidden": true
   },
   "source": [
    "### Задача «Количество различных элементов»\n",
    "\n",
    "Дан список, упорядоченный по неубыванию элементов в нем. Определите, сколько в нем различных элементов."
   ]
  },
  {
   "cell_type": "code",
   "execution_count": 115,
   "id": "17b1c5e0",
   "metadata": {
    "hidden": true
   },
   "outputs": [
    {
     "name": "stdout",
     "output_type": "stream",
     "text": [
      "3\n"
     ]
    }
   ],
   "source": [
    "spisok = '1 2 3 3 3 3'.split(' ')\n",
    "# spisok = input().split(' ')\n",
    "spisok_uniq = []\n",
    "for el in spisok:\n",
    "    if el not in spisok_uniq:\n",
    "        spisok_uniq.append(el)\n",
    "print(len(spisok_uniq))"
   ]
  },
  {
   "cell_type": "markdown",
   "id": "d0366c12",
   "metadata": {
    "heading_collapsed": true,
    "hidden": true
   },
   "source": [
    "### Задача «Переставить соседние»\n",
    "\n",
    "Переставьте соседние элементы списка (A[0] c A[1], A[2] c A[3] и т. д.). Если элементов нечетное число, то последний элемент остается на своем месте."
   ]
  },
  {
   "cell_type": "code",
   "execution_count": 175,
   "id": "e769b653",
   "metadata": {
    "hidden": true
   },
   "outputs": [
    {
     "name": "stdout",
     "output_type": "stream",
     "text": [
      "2 1 4 3 5 3 7\n"
     ]
    }
   ],
   "source": [
    "spisok = '1 2 3 4 3 5 7'.split(' ')\n",
    "# spisok = input().split(' ')\n",
    "spisok1 = []\n",
    "cnt = len(spisok)\n",
    "for i in range(cnt):\n",
    "     if i % 2 != 0:\n",
    "        spisok1.append(spisok[i])\n",
    "        spisok1.append(spisok[i-1])\n",
    "if cnt % 2 != 0:\n",
    "    spisok1.append(spisok[cnt-1])    \n",
    "print(*spisok1)"
   ]
  },
  {
   "cell_type": "code",
   "execution_count": 179,
   "id": "c2d80c1d",
   "metadata": {
    "hidden": true
   },
   "outputs": [
    {
     "name": "stdout",
     "output_type": "stream",
     "text": [
      "2 1 4 3 5 3 7\n"
     ]
    }
   ],
   "source": [
    "for i in range(1, len(spisok), 2):\n",
    "    spisok[i - 1], spisok[i] = spisok[i], spisok[i - 1]\n",
    "print(*spisok)"
   ]
  },
  {
   "cell_type": "markdown",
   "id": "902fceeb",
   "metadata": {
    "heading_collapsed": true,
    "hidden": true
   },
   "source": [
    "### Задача «Переставить min и max»\n",
    "\n",
    "В списке все элементы различны. Поменяйте местами минимальный и максимальный элемент этого списка."
   ]
  },
  {
   "cell_type": "code",
   "execution_count": 195,
   "id": "d28a2120",
   "metadata": {
    "hidden": true
   },
   "outputs": [
    {
     "name": "stdout",
     "output_type": "stream",
     "text": [
      "3 4 1 2 5\n"
     ]
    }
   ],
   "source": [
    "spisok = [int(el) for el in '3 4 5 2 1'.split(' ')]\n",
    "# spisok = [int(el) for el in input().split(' ')]\n",
    "s_max, s_max_i = max(spisok), spisok.index(max(spisok))\n",
    "s_min, s_min_i = min(spisok), spisok.index(min(spisok))\n",
    "spisok.pop(s_max_i)\n",
    "spisok.insert(s_max_i, s_min)\n",
    "spisok.pop(s_min_i)\n",
    "spisok.insert(s_min_i, s_max)\n",
    "print(*spisok)"
   ]
  },
  {
   "cell_type": "code",
   "execution_count": 229,
   "id": "41020009",
   "metadata": {
    "hidden": true
   },
   "outputs": [
    {
     "name": "stdout",
     "output_type": "stream",
     "text": [
      "3 4 5 11 2\n"
     ]
    }
   ],
   "source": [
    "a = [int(el) for el in '3 4 5 2 11'.split(' ')]\n",
    "#a = [int(el) for el in input().split(' ')]\n",
    "s_max_i = a.index(max(a))\n",
    "s_min_i = a.index(min(a))\n",
    "a[s_max_i], a[s_min_i] = a[s_min_i], a[s_max_i]\n",
    "print(*a)"
   ]
  },
  {
   "cell_type": "markdown",
   "id": "8b6eb05e",
   "metadata": {
    "heading_collapsed": true,
    "hidden": true
   },
   "source": [
    "### Задача «Удалить элемент»\n",
    "\n",
    "Дан список из чисел и индекс элемента в списке k. Удалите из списка элемент с индексом k, сдвинув влево все элементы, стоящие правее элемента с индексом k.\n",
    "Программа получает на вход список, затем число k. Программа сдвигает все элементы, а после этого удаляет последний элемент списка при помощи метода pop() без параметров.\n",
    "\n",
    "Программа должна осуществлять сдвиг непосредственно в списке, а не делать это при выводе элементов. Также нельзя использовать дополнительный список. Также не следует использовать метод pop(k) с параметром."
   ]
  },
  {
   "cell_type": "code",
   "execution_count": 236,
   "id": "51b8012a",
   "metadata": {
    "hidden": true
   },
   "outputs": [
    {
     "name": "stdout",
     "output_type": "stream",
     "text": [
      "3 4 2 11\n"
     ]
    }
   ],
   "source": [
    "a = [int(el) for el in '3 4 5 2 11'.split(' ')]\n",
    "n = 2\n",
    "#a = [int(el) for el in input().split(' ')]\n",
    "#n = int(input())\n",
    "for i in range(n, len(a)-1):\n",
    "    a[i] = a[i+1]\n",
    "a.pop()\n",
    "print(*a)"
   ]
  },
  {
   "cell_type": "markdown",
   "id": "e7118e97",
   "metadata": {
    "heading_collapsed": true,
    "hidden": true
   },
   "source": [
    "### Задача «Вставить элемент»\n",
    "\n",
    "Дан список целых чисел, число k и значение C. Необходимо вставить в список на позицию с индексом k элемент, равный C, сдвинув все элементы, имевшие индекс не менее k, вправо.\n",
    "Поскольку при этом количество элементов в списке увеличивается, после считывания списка в его конец нужно будет добавить новый элемент, используя метод append.\n",
    "\n",
    "Вставку необходимо осуществлять уже в считанном списке, не делая этого при выводе и не создавая дополнительного списка."
   ]
  },
  {
   "cell_type": "code",
   "execution_count": 238,
   "id": "21dc4db1",
   "metadata": {
    "hidden": true
   },
   "outputs": [
    {
     "name": "stdout",
     "output_type": "stream",
     "text": [
      "3 4 7 5 2 11\n"
     ]
    }
   ],
   "source": [
    "a = [int(el) for el in '3 4 5 2 11'.split(' ')]\n",
    "k, C = [int(el) for el in '2 7'.split(' ')]\n",
    "#a = [int(el) for el in input().split(' ')]\n",
    "#k, C = [int(el) for el in input().split(' ')]\n",
    "a.insert(k, C)\n",
    "print(*a)"
   ]
  },
  {
   "cell_type": "markdown",
   "id": "a71c5d3f",
   "metadata": {
    "heading_collapsed": true,
    "hidden": true
   },
   "source": [
    "### Задача «Количество совпадающих пар»\n",
    "\n",
    "Дан список чисел. Посчитайте, сколько в нем пар элементов, равных друг другу. Считается, что любые два элемента, равные друг другу образуют одну пару, которую необходимо посчитать."
   ]
  },
  {
   "cell_type": "code",
   "execution_count": 18,
   "id": "2c998cbf",
   "metadata": {
    "hidden": true
   },
   "outputs": [
    {
     "name": "stdout",
     "output_type": "stream",
     "text": [
      "0 0 6 1 1 4 2 1 2 2\n",
      "7\n"
     ]
    }
   ],
   "source": [
    "n = input().split()\n",
    "cnt = 0\n",
    "for i in range(len(n)):\n",
    "    for x in range(i, len(n)):\n",
    "        if n[x] == n[i] and x != i:\n",
    "            cnt += 1\n",
    "print(cnt)"
   ]
  },
  {
   "cell_type": "markdown",
   "id": "28a11523",
   "metadata": {
    "heading_collapsed": true,
    "hidden": true
   },
   "source": [
    "### Задача «Уникальные элементы»\n",
    "\n",
    "Дан список. Выведите те его элементы, которые встречаются в списке только один раз. Элементы нужно выводить в том порядке, в котором они встречаются в списке."
   ]
  },
  {
   "cell_type": "code",
   "execution_count": 20,
   "id": "358a1d48",
   "metadata": {
    "hidden": true
   },
   "outputs": [
    {
     "name": "stdout",
     "output_type": "stream",
     "text": [
      "4 3 5 2 5 1 3 5\n",
      "4 2 1\n"
     ]
    }
   ],
   "source": [
    "n = '4 3 5 2 5 1 3 5'.split()\n",
    "n = input().split()\n",
    "n_new = [el for el in n if n.count(el) == 1]\n",
    "print(*n_new)"
   ]
  },
  {
   "cell_type": "markdown",
   "id": "39cdc62a",
   "metadata": {
    "heading_collapsed": true,
    "hidden": true
   },
   "source": [
    "### Задача «Кегельбан»\n",
    "\n",
    "N кеглей выставили в один ряд, занумеровав их слева направо числами от 1 до N. Затем по этому ряду бросили K шаров, при этом i-й шар сбил все кегли с номерами от li до ri включительно. Определите, какие кегли остались стоять на месте.\n",
    "Программа получает на вход количество кеглей N и количество бросков K. Далее идет K пар чисел li, ri, при этом 1 ≤ li ≤ ri ≤ N.\n",
    "\n",
    "Программа должна вывести последовательность из N символов, где j-й символ есть “I”, если j-я кегля осталась стоять, или “.”, если j-я кегля была сбита."
   ]
  },
  {
   "cell_type": "code",
   "execution_count": null,
   "id": "efc9dc36",
   "metadata": {
    "hidden": true
   },
   "outputs": [],
   "source": []
  },
  {
   "cell_type": "markdown",
   "id": "f0f6aafe",
   "metadata": {
    "heading_collapsed": true,
    "hidden": true
   },
   "source": [
    "### Задача «Ферзи»\n",
    "\n",
    "Известно, что на доске 8×8 можно расставить 8 ферзей так, чтобы они не били друг друга. Вам дана расстановка 8 ферзей на доске, определите, есть ли среди них пара бьющих друг друга.\n",
    "Программа получает на вход восемь пар чисел, каждое число от 1 до 8 — координаты 8 ферзей. Если ферзи не бьют друг друга, выведите слово NO, иначе выведите YES."
   ]
  },
  {
   "cell_type": "code",
   "execution_count": 118,
   "id": "5ba8eff9",
   "metadata": {
    "hidden": true
   },
   "outputs": [
    {
     "name": "stdout",
     "output_type": "stream",
     "text": [
      "1 1\n",
      "2 2\n",
      "3 3\n",
      "4 4\n",
      "5 5\n",
      "6 6\n",
      "7 7\n",
      "8 8\n",
      "NO\n"
     ]
    }
   ],
   "source": [
    "n = []\n",
    "v = []\n",
    "g = []\n",
    "for i in range(8):\n",
    "    x, y = list(map(int,input().split()))\n",
    "    n.append([x, y])\n",
    "    v.append(x)\n",
    "    g.append(y)\n",
    "cnt_vg = sum([1 for i in range(8) if v.count(v[i]) > 1 or g.count(g[i]) > 1])\n",
    "n_sum = [el[0] + el[1] for el in n]\n",
    "cnt_dp = sum([1 for i in range(8) if n_sum.count(n_sum[i]) > 1])\n",
    "cnt_do = sum([1 for i in range(1, len(n)) if (n[i][0] + n[i][1]) - (n[i-1][0] + n[i-1][1]) == 2])\n",
    "if cnt_vg > 0 or cnt_dp > 0 or cnt_do > 0:\n",
    "    print('YES')\n",
    "else:\n",
    "    print('NO')"
   ]
  },
  {
   "cell_type": "markdown",
   "id": "b418f60e",
   "metadata": {
    "heading_collapsed": true
   },
   "source": [
    "## Функции и рекурсия"
   ]
  },
  {
   "cell_type": "markdown",
   "id": "c33f9931",
   "metadata": {
    "heading_collapsed": true,
    "hidden": true
   },
   "source": [
    "### Задача «Длина отрезка»\n",
    "\n",
    "Даны четыре действительных числа: x1, y1, x2, y2. Напишите функцию distance(x1, y1, x2, y2), вычисляющая расстояние между точкой (x1,y1) и (x2,y2). Считайте четыре действительных числа и выведите результат работы этой функции."
   ]
  },
  {
   "cell_type": "code",
   "execution_count": 136,
   "id": "4741f95d",
   "metadata": {
    "hidden": true
   },
   "outputs": [
    {
     "name": "stdout",
     "output_type": "stream",
     "text": [
      "0\n",
      "0\n",
      "1\n",
      "1\n",
      "1.4142135623730951\n"
     ]
    }
   ],
   "source": [
    "def distance(x1, y1, x2, y2):\n",
    "    s = ((x1 - x2)**2 + (y1 - y2)**2)**0.5\n",
    "    return s\n",
    "\n",
    "x1 = float(input())\n",
    "y1 = float(input())\n",
    "x2 = float(input())\n",
    "y2 = float(input())\n",
    "\n",
    "print(distance(x1, y1, x2, y2))"
   ]
  },
  {
   "cell_type": "markdown",
   "id": "036e4d87",
   "metadata": {
    "heading_collapsed": true,
    "hidden": true
   },
   "source": [
    "### Задача «Отрицательная степень»\n",
    "\n",
    "Дано действительное положительное число a и целоe число n.\n",
    "Вычислите a**n. Решение оформите в виде функции power(a, n).\n",
    "Стандартной функцией возведения в степень пользоваться нельзя."
   ]
  },
  {
   "cell_type": "code",
   "execution_count": 158,
   "id": "263bc806",
   "metadata": {
    "hidden": true
   },
   "outputs": [
    {
     "name": "stdout",
     "output_type": "stream",
     "text": [
      "2\n",
      "-3\n",
      "0.125\n"
     ]
    }
   ],
   "source": [
    "def power(a, n):\n",
    "    if n == 0:\n",
    "        return 1\n",
    "    elif n > 0:\n",
    "        s = a\n",
    "        for i in range(n-1):\n",
    "            s *= a\n",
    "        return s\n",
    "    s = 1 / a\n",
    "    for i in range(abs(n)-1):\n",
    "        s *= 1 / a\n",
    "    return s\n",
    "\n",
    "a = float(input())\n",
    "n = int(input())\n",
    "\n",
    "print(power(a, n))"
   ]
  },
  {
   "cell_type": "markdown",
   "id": "6d10e8fb",
   "metadata": {
    "heading_collapsed": true,
    "hidden": true
   },
   "source": [
    "### Задача «Большие буквы»\n",
    "\n",
    "Напишите функцию capitalize(), которая принимает слово из маленьких латинских букв и возвращает его же, меняя первую букву на большую.\n",
    "Например, print(capitalize('word')) должно печатать слово Word.\n",
    "\n",
    "На вход подаётся строка, состоящая из слов, разделённых одним пробелом. Слова состоят из маленьких латинских букв. Напечатайте исходную строку, сделав так, чтобы каждое слово начиналось с большой буквы. При этом используйте вашу функцию capitalize().\n",
    "\n",
    "Напомним, что в Питоне есть функция ord(), которая по символу возвращает его код в таблице ASCII, и функция chr(), которая по коду символа возвращает сам символ. Например, ord('a') == 97, chr(97) == 'a'."
   ]
  },
  {
   "cell_type": "code",
   "execution_count": 182,
   "id": "1d92957c",
   "metadata": {
    "hidden": true
   },
   "outputs": [
    {
     "name": "stdout",
     "output_type": "stream",
     "text": [
      "harry potter\n",
      "Harry Potter\n"
     ]
    }
   ],
   "source": [
    "def capitalize(text):\n",
    "    up = []\n",
    "    for row in text.split():\n",
    "        up.append(chr(ord(row[:1])-32) + row[1:])\n",
    "    return ' '.join(up)\n",
    "    \n",
    "print(capitalize(input()))"
   ]
  },
  {
   "cell_type": "markdown",
   "id": "fa471684",
   "metadata": {
    "heading_collapsed": true,
    "hidden": true
   },
   "source": [
    "### Задача «Возведение в степень»\n",
    "\n",
    "Дано действительное положительное число a и целое неотрицательное число n. Вычислите a** n не используя циклы, возведение в степень через ** и функцию math.pow(), а используя рекуррентное соотношение a** n = a ⋅ a**(n-1)\n",
    "\n",
    "Решение оформите в виде функции power(a, n)."
   ]
  },
  {
   "cell_type": "code",
   "execution_count": 186,
   "id": "88130f81",
   "metadata": {
    "hidden": true
   },
   "outputs": [
    {
     "name": "stdout",
     "output_type": "stream",
     "text": [
      "2\n",
      "0\n",
      "2.0\n"
     ]
    }
   ],
   "source": [
    "def power(a, n):\n",
    "    if n == 0:\n",
    "        return 1\n",
    "    else:\n",
    "        return a * power(a, n - 1) # при каждой рекурсии n уменьшается на \n",
    "\n",
    "print(power(float(input()), int(input())))"
   ]
  },
  {
   "cell_type": "markdown",
   "id": "d29cf2dd",
   "metadata": {
    "heading_collapsed": true,
    "hidden": true
   },
   "source": [
    "### Задача «Разворот последовательности»\n",
    "\n",
    "Дана последовательность целых чисел, заканчивающаяся числом 0. Выведите эту последовательность в обратном порядке.\n",
    "При решении этой задачи нельзя пользоваться массивами и прочими динамическими структурами данных. Рекурсия вам поможет."
   ]
  },
  {
   "cell_type": "code",
   "execution_count": 239,
   "id": "90d42e50",
   "metadata": {
    "hidden": true
   },
   "outputs": [
    {
     "name": "stdout",
     "output_type": "stream",
     "text": [
      "1\n",
      "2\n",
      "5\n",
      "0\n",
      "0\n",
      "5\n",
      "2\n",
      "1\n"
     ]
    }
   ],
   "source": [
    "def rev(x, d):\n",
    "    d.append(x)\n",
    "    x = int(input())\n",
    "    if x != 0:\n",
    "        return rev(x, d)\n",
    "    else:\n",
    "        d.append(0)\n",
    "        return print(*d[::-1], sep='\\n')\n",
    "    \n",
    "d = []\n",
    "n = int(input())\n",
    "if n == 0:\n",
    "    print(0)\n",
    "else:\n",
    "    rev(n, d)"
   ]
  },
  {
   "cell_type": "code",
   "execution_count": 246,
   "id": "eac8ad8f",
   "metadata": {
    "hidden": true
   },
   "outputs": [
    {
     "name": "stdout",
     "output_type": "stream",
     "text": [
      "1\n",
      "2\n",
      "0\n",
      "0\n",
      "2\n",
      "1\n"
     ]
    }
   ],
   "source": [
    "def reverse():\n",
    "    x = int(input())\n",
    "    if x != 0:\n",
    "        reverse()\n",
    "    print(x)\n",
    "\n",
    "reverse()"
   ]
  },
  {
   "cell_type": "markdown",
   "id": "42d63bb4",
   "metadata": {
    "hidden": true
   },
   "source": [
    "Задача «Числа Фибоначчи»\n",
    "\n",
    "Напишите функцию fib(n), которая по данному целому неотрицательному n возвращает n-e число Фибоначчи. В этой задаче нельзя использовать циклы — используйте рекурсию."
   ]
  },
  {
   "cell_type": "code",
   "execution_count": null,
   "id": "bab54085",
   "metadata": {
    "hidden": true
   },
   "outputs": [],
   "source": []
  },
  {
   "cell_type": "markdown",
   "id": "c6006736",
   "metadata": {
    "heading_collapsed": true
   },
   "source": [
    "## Двумерные массивы"
   ]
  },
  {
   "cell_type": "markdown",
   "id": "a7d513e3",
   "metadata": {
    "heading_collapsed": true,
    "hidden": true
   },
   "source": [
    "### Задача «Максимум»\n",
    "\n",
    "Найдите индексы первого вхождения максимального элемента. Выведите два числа: номер строки и номер столбца, в которых стоит наибольший элемент в двумерном массиве. Если таких элементов несколько, то выводится тот, у которого меньше номер строки, а если номера строк равны то тот, у которого меньше номер столбца.\n",
    "\n",
    "Программа получает на вход размеры массива n и m, затем n строк по m чисел в каждой."
   ]
  },
  {
   "cell_type": "code",
   "execution_count": null,
   "id": "91c83824",
   "metadata": {
    "hidden": true
   },
   "outputs": [],
   "source": []
  },
  {
   "cell_type": "markdown",
   "id": "7857f228",
   "metadata": {
    "heading_collapsed": true,
    "hidden": true
   },
   "source": [
    "### Задача «Снежинка»\n",
    "\n",
    "Дано нечетное число n. Создайте двумерный массив из n×n элементов, заполнив его символами \".\" (каждый элемент массива является строкой из одного символа). Затем заполните символами \"*\" среднюю строку массива, средний столбец массива, главную диагональ и побочную диагональ. В результате единицы в массиве должны образовывать изображение звездочки. Выведите полученный массив на экран, разделяя элементы массива пробелами."
   ]
  },
  {
   "cell_type": "code",
   "execution_count": null,
   "id": "e7d28703",
   "metadata": {
    "hidden": true
   },
   "outputs": [],
   "source": []
  },
  {
   "cell_type": "markdown",
   "id": "2efe390c",
   "metadata": {
    "heading_collapsed": true,
    "hidden": true
   },
   "source": [
    "### Задача «Шахматная доска»\n",
    "\n",
    "Даны два числа n и m. Создайте двумерный массив размером n×m и заполните его символами \".\" и \"*\" в шахматном порядке. В левом верхнем углу должна стоять точка."
   ]
  },
  {
   "cell_type": "code",
   "execution_count": null,
   "id": "ad52aab9",
   "metadata": {
    "hidden": true
   },
   "outputs": [],
   "source": []
  },
  {
   "cell_type": "markdown",
   "id": "bed83805",
   "metadata": {
    "heading_collapsed": true,
    "hidden": true
   },
   "source": [
    "### Задача «Диагонали, параллельные главной»\n",
    "\n",
    "Дано число n. Создайте массив размером n×n и заполните его по следующему правилу. На главной диагонали должны быть записаны числа 0. На двух диагоналях, прилегающих к главной, числа 1. На следующих двух диагоналях числа 2, и т.д."
   ]
  },
  {
   "cell_type": "code",
   "execution_count": null,
   "id": "b9130692",
   "metadata": {
    "hidden": true
   },
   "outputs": [],
   "source": []
  },
  {
   "cell_type": "markdown",
   "id": "b31cb58f",
   "metadata": {
    "heading_collapsed": true,
    "hidden": true
   },
   "source": [
    "### Задача «Побочная диагональ»\n",
    "\n",
    "Дано число n. Создайте массив размером n×n и заполните его по следующему правилу:\n",
    "\n",
    "Числа на диагонали, идущей из правого верхнего в левый нижний угол равны 1.\n",
    "\n",
    "Числа, стоящие выше этой диагонали, равны 0.\n",
    "\n",
    "Числа, стоящие ниже этой диагонали, равны 2.\n",
    "\n",
    "Полученный массив выведите на экран. Числа в строке разделяйте одним пробелом."
   ]
  },
  {
   "cell_type": "code",
   "execution_count": null,
   "id": "a22250ee",
   "metadata": {
    "hidden": true
   },
   "outputs": [],
   "source": []
  },
  {
   "cell_type": "markdown",
   "id": "163d6370",
   "metadata": {
    "heading_collapsed": true,
    "hidden": true
   },
   "source": [
    "### Задача «Поменять столбцы»\n",
    "\n",
    "Дан двумерный массив и два числа: i и j. Поменяйте в массиве столбцы с номерами i и j и выведите результат.\n",
    "\n",
    "Программа получает на вход размеры массива n и m, затем элементы массива, затем числа i и j.\n",
    "\n",
    "Решение оформите в виде функции swap_columns(a, i, j)."
   ]
  },
  {
   "cell_type": "code",
   "execution_count": null,
   "id": "d1933e2e",
   "metadata": {
    "hidden": true
   },
   "outputs": [],
   "source": []
  },
  {
   "cell_type": "markdown",
   "id": "1be46948",
   "metadata": {
    "heading_collapsed": true
   },
   "source": [
    "## Множества"
   ]
  },
  {
   "cell_type": "markdown",
   "id": "253a314e",
   "metadata": {
    "heading_collapsed": true,
    "hidden": true
   },
   "source": [
    "### Задача «Количество различных чисел»\n",
    "\n",
    "Дан список чисел. Определите, сколько в нем встречается различных чисел.\n",
    "\n",
    "Примечание. Эту задачу на Питоне можно решить в одну строчку."
   ]
  },
  {
   "cell_type": "code",
   "execution_count": 272,
   "id": "8340ad9e",
   "metadata": {
    "hidden": true
   },
   "outputs": [
    {
     "name": "stdout",
     "output_type": "stream",
     "text": [
      "4\n"
     ]
    }
   ],
   "source": [
    "print(len(set(input().split())))"
   ]
  },
  {
   "cell_type": "markdown",
   "id": "70253929",
   "metadata": {
    "heading_collapsed": true,
    "hidden": true
   },
   "source": [
    "### Задача «Количество совпадающих чисел»\n",
    "\n",
    "Даны два списка чисел. Посчитайте, сколько чисел содержится одновременно как в первом списке, так и во втором.\n",
    "\n",
    "Примечание. Эту задачу на Питоне можно решить в одну строчку."
   ]
  },
  {
   "cell_type": "code",
   "execution_count": 280,
   "id": "2e37248a",
   "metadata": {
    "hidden": true
   },
   "outputs": [
    {
     "name": "stdout",
     "output_type": "stream",
     "text": [
      "1 2\n",
      "2 3\n",
      "1\n"
     ]
    }
   ],
   "source": [
    "print(len(set(input().split()).intersection(set(input().split()))))"
   ]
  },
  {
   "cell_type": "markdown",
   "id": "944a6197",
   "metadata": {
    "heading_collapsed": true,
    "hidden": true
   },
   "source": [
    "### Задача «Пересечение множеств»\n",
    "\n",
    "Даны два списка чисел. Найдите все числа, которые входят как в первый, так и во второй список и выведите их в порядке возрастания.\n",
    "\n",
    "Примечание. И даже эту задачу на Питоне можно решить в одну строчку."
   ]
  },
  {
   "cell_type": "code",
   "execution_count": null,
   "id": "0a81b4f4",
   "metadata": {
    "hidden": true
   },
   "outputs": [],
   "source": [
    "print(*sorted(list(map(int, list(set(input().split()).intersection(set(input().split())))))))"
   ]
  },
  {
   "cell_type": "code",
   "execution_count": 303,
   "id": "453dbaf1",
   "metadata": {
    "hidden": true
   },
   "outputs": [
    {
     "name": "stdout",
     "output_type": "stream",
     "text": [
      "1 2\n",
      "2 3\n",
      "2\n"
     ]
    }
   ],
   "source": [
    "print(*sorted(set(input().split()) & set(input().split()), key=int))"
   ]
  },
  {
   "cell_type": "markdown",
   "id": "6eafb733",
   "metadata": {
    "hidden": true
   },
   "source": [
    "### Задача «Встречалось ли число раньше»\n",
    "\n",
    "Во входной строке записана последовательность чисел через пробел. Для каждого числа выведите слово YES (в отдельной строке), если это число ранее встречалось в последовательности или NO, если не встречалось."
   ]
  },
  {
   "cell_type": "code",
   "execution_count": 315,
   "id": "6ddcc913",
   "metadata": {
    "hidden": true
   },
   "outputs": [
    {
     "name": "stdout",
     "output_type": "stream",
     "text": [
      "1 2 3 2 3 4\n",
      "NO\n",
      "NO\n",
      "NO\n",
      "YES\n",
      "YES\n",
      "NO\n"
     ]
    }
   ],
   "source": [
    "n = list(map(int, input().split()))\n",
    "for i, el in enumerate(n):\n",
    "    if n[:i].count(el) != 0:\n",
    "        print('YES')\n",
    "    else:\n",
    "        print('NO')"
   ]
  },
  {
   "cell_type": "code",
   "execution_count": 316,
   "id": "26cb7b1a",
   "metadata": {
    "hidden": true
   },
   "outputs": [
    {
     "name": "stdout",
     "output_type": "stream",
     "text": [
      "1 2 3 2 3 4\n",
      "NO\n",
      "NO\n",
      "NO\n",
      "YES\n",
      "YES\n",
      "NO\n"
     ]
    }
   ],
   "source": [
    "n = list(map(int, input().split()))\n",
    "n_set = set()\n",
    "for el in n:\n",
    "    if el in n_set:\n",
    "        print('YES')\n",
    "    else:\n",
    "        print('NO')\n",
    "        n_set.add(el)"
   ]
  },
  {
   "cell_type": "markdown",
   "id": "7bf56599",
   "metadata": {
    "hidden": true
   },
   "source": [
    "### Задача «Кубики» --\n",
    "\n",
    "Аня и Боря любят играть в разноцветные кубики, причем у каждого из них свой набор и в каждом наборе все кубики различны по цвету. Однажды дети заинтересовались, сколько существуют цветов таких, что кубики каждого цвета присутствуют в обоих наборах. Для этого они занумеровали все цвета случайными числами от 0 до 108. На этом их энтузиазм иссяк, поэтому вам предлагается помочь им в оставшейся части.\n",
    "\n",
    "В первой строке входных данных записаны числа N и M — число кубиков у Ани и Бори. В следующих N строках заданы номера цветов кубиков Ани. В последних M строках номера цветов Бори.\n",
    "\n",
    "Найдите три множества: номера цветов кубиков, которые есть в обоих наборах; номера цветов кубиков, которые есть только у Ани и номера цветов кубиков, которые есть только у Бори. Для каждого из множеств выведите сначала количество элементов в нем, а затем сами элементы, отсортированные по возрастанию."
   ]
  },
  {
   "cell_type": "code",
   "execution_count": null,
   "id": "ccf4a6aa",
   "metadata": {
    "hidden": true
   },
   "outputs": [],
   "source": []
  },
  {
   "cell_type": "markdown",
   "id": "11a7f391",
   "metadata": {
    "hidden": true
   },
   "source": [
    "### Задача «Количество слов в тексте»\n",
    "\n",
    "Дан текст: в первой строке записано число строк, далее идут сами строки. Определите, сколько различных слов содержится в этом тексте.\n",
    "\n",
    "Словом считается последовательность непробельных символов идущих подряд, слова разделены одним или большим числом пробелов или символами конца строки."
   ]
  },
  {
   "cell_type": "code",
   "execution_count": 370,
   "id": "21f23d1d",
   "metadata": {
    "hidden": true
   },
   "outputs": [
    {
     "name": "stdout",
     "output_type": "stream",
     "text": [
      "1\n",
      "The other two, slight air, and purging fire,\n",
      "8\n"
     ]
    }
   ],
   "source": [
    "import re\n",
    "\n",
    "n = int(input())\n",
    "text = set()\n",
    "for i in range(n):\n",
    "    text.update(re.split('\\s+', input()))\n",
    "print(len(text))"
   ]
  },
  {
   "cell_type": "code",
   "execution_count": null,
   "id": "7e940eaf",
   "metadata": {
    "hidden": true
   },
   "outputs": [],
   "source": [
    "words = set()\n",
    "for _ in range(int(input())):\n",
    "    words.update(input().split())\n",
    "print(len(words))"
   ]
  },
  {
   "cell_type": "markdown",
   "id": "6ab7ade6",
   "metadata": {
    "hidden": true
   },
   "source": [
    "### Задача «Угадай число» --\n",
    "\n",
    "Август и Беатриса играют в игру. Август загадал натуральное число от 1 до n. Беатриса пытается угадать это число, для этого она называет некоторые множества натуральных чисел. Август отвечает Беатрисе YES, если среди названных ей чисел есть задуманное или NO в противном случае. После нескольких заданныъх вопросов Беатриса запуталась в том, какие вопросы она задавала и какие ответы получила и просит вас помочь ей определить, какие числа мог задумать Август.\n",
    "\n",
    "В первой строке задано n - максимальное число, которое мог загадать Август. Далее каждая строка содержит вопрос Беатрисы (множество чисел, разделенных пробелом) и ответ Августа на этот вопрос.\n",
    "\n",
    "Вы должны вывести через пробел, в порядке возрастания, все числа, которые мог задумать Август."
   ]
  },
  {
   "cell_type": "code",
   "execution_count": null,
   "id": "94a998c7",
   "metadata": {
    "hidden": true
   },
   "outputs": [],
   "source": []
  },
  {
   "cell_type": "markdown",
   "id": "3dc5591f",
   "metadata": {
    "hidden": true
   },
   "source": [
    "### Задача «Угадай число - 2» --\n",
    "\n",
    "Август и Беатриса продолжают играть в игру, но Август начал жульничать. На каждый из вопросов Беатрисы он выбирает такой вариант ответа YES или NO, чтобы множество возможных задуманных чисел оставалось как можно больше. Например, если Август задумал число от 1 до 5, а Беатриса спросила про числа 1 и 2, то Август ответит NO, а если Беатриса спросит про 1, 2, 3, то Август ответит YES.\n",
    "\n",
    "Если же Бетриса в своем вопросе перечисляет ровно половину из задуманных чисел, то Август из вредности всегда отвечает NO. Наконец, Август при ответе учитывает все предыдущие вопросы Беатрисы и свои ответы на них, то есть множество возможных задуманных чисел уменьшается.\n",
    "\n",
    "Первая строка содержит наибольшее число, которое мог загадать Август. Каждая следующая строка содержит очередной вопрос Беатрисы: набор чисел, разделенных пробелами. Последняя строка входных данных содержит одно слово HELP.\n",
    "\n",
    "Для каждого вопроса Беатрисы выведите ответ Августа на этот вопрос. После этого выведите через пробел, в порядке возрастания, все числа, которые мог загадать Август после ответа на все вопросы Беатрисы."
   ]
  },
  {
   "cell_type": "code",
   "execution_count": null,
   "id": "1aa585e2",
   "metadata": {
    "hidden": true
   },
   "outputs": [],
   "source": []
  },
  {
   "cell_type": "markdown",
   "id": "44a95936",
   "metadata": {
    "heading_collapsed": true,
    "hidden": true
   },
   "source": [
    "### Задача «Полиглоты» --\n",
    "\n",
    "Каждый из некоторого множества школьников некоторой школы знает некоторое количество языков. Нужно определить сколько языков знают все школьники, и сколько языков знает хотя бы один из школьников.\n",
    "\n",
    "В первой строке задано количество школьников. Для каждого из школьников сперва записано количество языков, которое он знает, а затем - названия языков, по одному в строке.\n",
    "\n",
    "В первой строке выведите количество языков, которые знают все школьники. Начиная со второй строки - список таких языков. Затем - количество языков, которые знает хотя бы один школьник, на следующих строках - список таких языков. Языки нужно выводить в лексикографическом порядке, по одному на строке."
   ]
  },
  {
   "cell_type": "code",
   "execution_count": null,
   "id": "5a439d22",
   "metadata": {
    "hidden": true
   },
   "outputs": [],
   "source": []
  },
  {
   "cell_type": "markdown",
   "id": "37b14f6a",
   "metadata": {
    "heading_collapsed": true,
    "hidden": true
   },
   "source": [
    "### Задача «Забастовки» --\n",
    "\n",
    "Политическая жизнь одной страны очень оживленная. В стране действует K политических партий, каждая из которых регулярно объявляет национальную забастовку. Дни, когда хотя бы одна из партий объявляет забастовку, при условии, что это не суббота или воскресенье (когда и так никто не работает), наносят большой ущерб экономике страны.\n",
    "\n",
    "i-я партия объявляет забастовки строго каждые b_i дней, начиная с дня с номером a_i. То есть i-я партия объявляет забастовки в дни a_i, a_i + b_i, a_i + 2 * b_i и т.д. Если в какой-то день несколько партий объявляет забастовку, то это считается одной общенациональной забастовкой.\n",
    "\n",
    "В календаре страны N дней, пронумерованных, начиная с единицы. Первый день года является понедельником, шестой и седьмой дни года — выходные, неделя состоит из семи дней.\n",
    "\n",
    "В первой строке даны числа N и K. Далее идет K строк, описывающие графики проведения забастовок. i-я строка содержит числа a_i и b_i. Вам нужно определить число забастовок, произошедших в этой стране в течении года."
   ]
  },
  {
   "cell_type": "code",
   "execution_count": null,
   "id": "f3ae1a22",
   "metadata": {
    "hidden": true
   },
   "outputs": [],
   "source": []
  },
  {
   "cell_type": "markdown",
   "id": "d36ce277",
   "metadata": {},
   "source": [
    "## Словари"
   ]
  },
  {
   "cell_type": "markdown",
   "id": "b9d0cd1f",
   "metadata": {},
   "source": [
    "### Задача «Номер появления слова»\n",
    "\n",
    "В единственной строке записан текст. Для каждого слова из данного текста подсчитайте, сколько раз оно встречалось в этом тексте ранее.\n",
    "\n",
    "Словом считается последовательность непробельных символов идущих подряд, слова разделены одним или большим числом пробелов или символами конца строки."
   ]
  },
  {
   "cell_type": "code",
   "execution_count": 16,
   "id": "8bb848d2",
   "metadata": {},
   "outputs": [
    {
     "name": "stdout",
     "output_type": "stream",
     "text": [
      "0 0 1 0 0 "
     ]
    }
   ],
   "source": [
    "n = 'one two one tho three'.split()\n",
    "n = input().split()\n",
    "for i, word in enumerate(n, start=1):\n",
    "    print(n[:i].count(word) - 1, end=' ')"
   ]
  },
  {
   "cell_type": "code",
   "execution_count": null,
   "id": "2dad35cf",
   "metadata": {},
   "outputs": [],
   "source": [
    "counter = {}\n",
    "for word in input().split():\n",
    "    counter[word] = counter.get(word, 0) + 1\n",
    "    print(counter[word] - 1, end=' ')"
   ]
  },
  {
   "cell_type": "markdown",
   "id": "d63958d5",
   "metadata": {},
   "source": [
    "### Задача «Словарь синонимов»\n",
    "\n",
    "Вам дан словарь, состоящий из пар слов. Каждое слово является синонимом к парному ему слову. Все слова в словаре различны.\n",
    "\n",
    "Для слова из словаря, записанного в последней строке, определите его синоним."
   ]
  },
  {
   "cell_type": "code",
   "execution_count": 17,
   "id": "653e8369",
   "metadata": {},
   "outputs": [
    {
     "name": "stdout",
     "output_type": "stream",
     "text": [
      "Hello Hi\n",
      "Bye Goodbye\n",
      "List Array\n"
     ]
    }
   ],
   "source": [
    "n = 3 #int(input())\n",
    "d = {}\n",
    "for i in range(n):\n",
    "    key, value = input().split()\n",
    "    d[key] = value\n",
    "word = input()\n",
    "for key, value in d.items():\n",
    "    if key == word:\n",
    "        print(value)\n",
    "    elif value == word:\n",
    "        print(key)"
   ]
  },
  {
   "cell_type": "code",
   "execution_count": 29,
   "id": "71631dc4",
   "metadata": {},
   "outputs": [
    {
     "name": "stdout",
     "output_type": "stream",
     "text": [
      "3\n",
      "Hello Hi\n",
      "Bye Goodbye\n",
      "List Array\n",
      "Goodbye\n",
      "Bye\n"
     ]
    }
   ],
   "source": [
    "n = int(input())\n",
    "d = {}\n",
    "for i in range(n):\n",
    "    first, second = input().split()\n",
    "    d[first] = second\n",
    "    d[second] = first\n",
    "print(d[input()])"
   ]
  },
  {
   "cell_type": "markdown",
   "id": "6bff147d",
   "metadata": {},
   "source": [
    "### Задача «Выборы в США»\n",
    "\n",
    "Как известно, в США президент выбирается не прямым голосованием, а путем двухуровневого голосования. Сначала проводятся выборы в каждом штате и определяется победитель выборов в данном штате. Затем проводятся государственные выборы: на этих выборах каждый штат имеет определенное число голосов — число выборщиков от этого штата. На практике, все выборщики от штата голосуют в соответствии с результами голосования внутри штата, то есть на заключительной стадии выборов в голосовании участвуют штаты, имеющие различное число голосов.\n",
    "\n",
    "В первой строке дано количество записей. Далее, каждая запись содержит фамилию кандидата и число голосов, отданных за него в одном из штатов. Подведите итоги выборов: для каждого из участника голосования определите число отданных за него голосов. Участников нужно выводить в алфавитном порядке."
   ]
  },
  {
   "cell_type": "code",
   "execution_count": 31,
   "id": "22cfbcd4",
   "metadata": {},
   "outputs": [
    {
     "name": "stdout",
     "output_type": "stream",
     "text": [
      "4\n",
      "McCain 10\n",
      "McCain 4\n",
      "Obama 9\n",
      "Obama 8\n"
     ]
    }
   ],
   "source": [
    "d = {}\n",
    "for i in range(int(input())):\n",
    "    key, value = input().split()\n",
    "    if key in d.keys():\n",
    "        d[key] += int(value)\n",
    "    else:\n",
    "        d[key] = int(value)\n",
    "        \n",
    "for key, value in sorted(d.items()):\n",
    "    print(key, value)"
   ]
  },
  {
   "cell_type": "code",
   "execution_count": 33,
   "id": "3971fe6e",
   "metadata": {},
   "outputs": [
    {
     "name": "stdout",
     "output_type": "stream",
     "text": [
      "4\n",
      "McCain 10\n",
      "McCain 5\n",
      "Obama 9\n",
      "Obama 8\n",
      "McCain 15\n",
      "Obama 17\n"
     ]
    }
   ],
   "source": [
    "d = {}\n",
    "for i in range(int(input())):\n",
    "    key, value = input().split()\n",
    "    d[key] = d.get(key, 0) + int(value)\n",
    "\n",
    "for key, value in sorted(d.items()):\n",
    "    print(key, value)"
   ]
  },
  {
   "cell_type": "markdown",
   "id": "a3624f13",
   "metadata": {},
   "source": [
    "### Задача «Самое частое слово»\n",
    "\n",
    "Дан текст: в первой строке задано число строк, далее идут сами строки. Выведите слово, которое в этом тексте встречается чаще всего. Если таких слов несколько, выведите то, которое меньше в лексикографическом порядке."
   ]
  },
  {
   "cell_type": "code",
   "execution_count": 46,
   "id": "e04e9639",
   "metadata": {},
   "outputs": [
    {
     "name": "stdout",
     "output_type": "stream",
     "text": [
      "2\n",
      "apple orange banana banana orange\n",
      "apple orange banana banana orange\n"
     ]
    }
   ],
   "source": [
    "d = {}\n",
    "n_str = []\n",
    "for i in range(int(input())):\n",
    "    n_str += input().split()\n",
    "\n",
    "for row in set(n_str):\n",
    "    d[row] = d.get(row, 0) + n_str.count(row)\n",
    "\n",
    "n_new = [key for key, value in d.items() if value == max(d.values())]\n",
    "\n",
    "print(sorted(n_new)[0])"
   ]
  },
  {
   "cell_type": "code",
   "execution_count": 63,
   "id": "21ef60a0",
   "metadata": {},
   "outputs": [
    {
     "name": "stdout",
     "output_type": "stream",
     "text": [
      "2\n",
      "apple orange banana banana orange\n",
      "apple orange banana banana orange\n",
      "banana\n"
     ]
    }
   ],
   "source": [
    "d = {}\n",
    "for i in range(int(input())):\n",
    "    n_str = input().split()\n",
    "    for row in n_str:\n",
    "        d[row] = d.get(row, 0) + 1\n",
    "        \n",
    "n_new = [key for key, value in d.items() if value == max(d.values())]\n",
    "print(min(n_new))"
   ]
  },
  {
   "cell_type": "markdown",
   "id": "e81be7f4",
   "metadata": {},
   "source": [
    "### Задача «Права доступа»\n",
    "\n",
    "В файловую систему одного суперкомпьютера проник вирус, который сломал контроль за правами доступа к файлам. Для каждого файла известно, с какими действиями можно к нему обращаться:  \n",
    "  - запись `W`,  \n",
    "  - чтение `R`,  \n",
    "  - запуск `X`.  \n",
    "  \n",
    "В первой строке содержится число `N` — количество файлов содержащихся в данной файловой системе. В следующих `N` строчках содержатся имена файлов и допустимых с ними операций, разделенные пробелами. Далее указано чиcло `M` — количество запросов к файлам. В последних `M` строках указан запрос вида `Операция Файл`. К одному и тому же файлу может быть применено любое колличество запросов.\n",
    "\n",
    "Вам требуется восстановить контроль над правами доступа к файлам (ваша программа для каждого запроса должна будет возвращать `OK` если над файлом выполняется допустимая операция, или же `Access denied`, если операция недопустима."
   ]
  },
  {
   "cell_type": "code",
   "execution_count": null,
   "id": "46d58c7f",
   "metadata": {},
   "outputs": [],
   "source": []
  },
  {
   "cell_type": "code",
   "execution_count": null,
   "id": "1d143650",
   "metadata": {},
   "outputs": [],
   "source": []
  }
 ],
 "metadata": {
  "kernelspec": {
   "display_name": "Python 3",
   "language": "python",
   "name": "python3"
  },
  "language_info": {
   "codemirror_mode": {
    "name": "ipython",
    "version": 3
   },
   "file_extension": ".py",
   "mimetype": "text/x-python",
   "name": "python",
   "nbconvert_exporter": "python",
   "pygments_lexer": "ipython3",
   "version": "3.8.8"
  },
  "toc": {
   "base_numbering": 1,
   "nav_menu": {},
   "number_sections": true,
   "sideBar": true,
   "skip_h1_title": false,
   "title_cell": "Table of Contents",
   "title_sidebar": "Contents",
   "toc_cell": true,
   "toc_position": {},
   "toc_section_display": true,
   "toc_window_display": false
  },
  "varInspector": {
   "cols": {
    "lenName": 16,
    "lenType": 16,
    "lenVar": 40
   },
   "kernels_config": {
    "python": {
     "delete_cmd_postfix": "",
     "delete_cmd_prefix": "del ",
     "library": "var_list.py",
     "varRefreshCmd": "print(var_dic_list())"
    },
    "r": {
     "delete_cmd_postfix": ") ",
     "delete_cmd_prefix": "rm(",
     "library": "var_list.r",
     "varRefreshCmd": "cat(var_dic_list()) "
    }
   },
   "types_to_exclude": [
    "module",
    "function",
    "builtin_function_or_method",
    "instance",
    "_Feature"
   ],
   "window_display": false
  }
 },
 "nbformat": 4,
 "nbformat_minor": 5
}
