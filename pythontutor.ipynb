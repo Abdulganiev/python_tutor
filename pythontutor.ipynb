{
 "cells": [
  {
   "cell_type": "markdown",
   "id": "bf075768",
   "metadata": {
    "toc": true
   },
   "source": [
    "<h1>Table of Contents<span class=\"tocSkip\"></span></h1>\n",
    "<div class=\"toc\"><ul class=\"toc-item\"><li><span><a href=\"#Ввод-и-вывод-данных\" data-toc-modified-id=\"Ввод-и-вывод-данных-1\"><span class=\"toc-item-num\">1&nbsp;&nbsp;</span>Ввод и вывод данных</a></span><ul class=\"toc-item\"><li><span><a href=\"#Задача-«Сумма-трёх-чисел»\" data-toc-modified-id=\"Задача-«Сумма-трёх-чисел»-1.1\"><span class=\"toc-item-num\">1.1&nbsp;&nbsp;</span>Задача «Сумма трёх чисел»</a></span></li><li><span><a href=\"#Задача-«Площадь-прямоугольного-треугольника»\" data-toc-modified-id=\"Задача-«Площадь-прямоугольного-треугольника»-1.2\"><span class=\"toc-item-num\">1.2&nbsp;&nbsp;</span>Задача «Площадь прямоугольного треугольника»</a></span></li><li><span><a href=\"#Задача-«Дележ-яблок»\" data-toc-modified-id=\"Задача-«Дележ-яблок»-1.3\"><span class=\"toc-item-num\">1.3&nbsp;&nbsp;</span>Задача «Дележ яблок»</a></span></li><li><span><a href=\"#Задача-«Электронные-часы»\" data-toc-modified-id=\"Задача-«Электронные-часы»-1.4\"><span class=\"toc-item-num\">1.4&nbsp;&nbsp;</span>Задача «Электронные часы»</a></span></li><li><span><a href=\"#Задача-«Hello,-Harry!»\" data-toc-modified-id=\"Задача-«Hello,-Harry!»-1.5\"><span class=\"toc-item-num\">1.5&nbsp;&nbsp;</span>Задача «Hello, Harry!»</a></span></li><li><span><a href=\"#Задача-«Следующее-и-предыдущее»\" data-toc-modified-id=\"Задача-«Следующее-и-предыдущее»-1.6\"><span class=\"toc-item-num\">1.6&nbsp;&nbsp;</span>Задача «Следующее и предыдущее»</a></span></li><li><span><a href=\"#Задача-«Парты»\" data-toc-modified-id=\"Задача-«Парты»-1.7\"><span class=\"toc-item-num\">1.7&nbsp;&nbsp;</span>Задача «Парты»</a></span></li><li><span><a href=\"#Задача-«Шнурки»\" data-toc-modified-id=\"Задача-«Шнурки»-1.8\"><span class=\"toc-item-num\">1.8&nbsp;&nbsp;</span>Задача «Шнурки»</a></span></li></ul></li><li><span><a href=\"#Условия\" data-toc-modified-id=\"Условия-2\"><span class=\"toc-item-num\">2&nbsp;&nbsp;</span>Условия</a></span><ul class=\"toc-item\"><li><span><a href=\"#Задача-«Минимум-из-двух-чисел»\" data-toc-modified-id=\"Задача-«Минимум-из-двух-чисел»-2.1\"><span class=\"toc-item-num\">2.1&nbsp;&nbsp;</span>Задача «Минимум из двух чисел»</a></span></li><li><span><a href=\"#Задача-«Знак-числа»\" data-toc-modified-id=\"Задача-«Знак-числа»-2.2\"><span class=\"toc-item-num\">2.2&nbsp;&nbsp;</span>Задача «Знак числа»</a></span></li><li><span><a href=\"#Задача-«Шахматная-доска»\" data-toc-modified-id=\"Задача-«Шахматная-доска»-2.3\"><span class=\"toc-item-num\">2.3&nbsp;&nbsp;</span>Задача «Шахматная доска»</a></span></li><li><span><a href=\"#Задача-«Високосный-год»\" data-toc-modified-id=\"Задача-«Високосный-год»-2.4\"><span class=\"toc-item-num\">2.4&nbsp;&nbsp;</span>Задача «Високосный год»</a></span></li><li><span><a href=\"#Задача-«Минимум-из-трех-чисел»\" data-toc-modified-id=\"Задача-«Минимум-из-трех-чисел»-2.5\"><span class=\"toc-item-num\">2.5&nbsp;&nbsp;</span>Задача «Минимум из трех чисел»</a></span></li><li><span><a href=\"#Задача-«Сколько-совпадает-чисел»\" data-toc-modified-id=\"Задача-«Сколько-совпадает-чисел»-2.6\"><span class=\"toc-item-num\">2.6&nbsp;&nbsp;</span>Задача «Сколько совпадает чисел»</a></span></li><li><span><a href=\"#Задача-«Ход-ладьи»\" data-toc-modified-id=\"Задача-«Ход-ладьи»-2.7\"><span class=\"toc-item-num\">2.7&nbsp;&nbsp;</span>Задача «Ход ладьи»</a></span></li><li><span><a href=\"#Задача-«Ход-короля»\" data-toc-modified-id=\"Задача-«Ход-короля»-2.8\"><span class=\"toc-item-num\">2.8&nbsp;&nbsp;</span>Задача «Ход короля»</a></span></li><li><span><a href=\"#Задача-«Ход-слона»\" data-toc-modified-id=\"Задача-«Ход-слона»-2.9\"><span class=\"toc-item-num\">2.9&nbsp;&nbsp;</span>Задача «Ход слона»</a></span></li><li><span><a href=\"#Задача-«Ход-ферзя»\" data-toc-modified-id=\"Задача-«Ход-ферзя»-2.10\"><span class=\"toc-item-num\">2.10&nbsp;&nbsp;</span>Задача «Ход ферзя»</a></span></li><li><span><a href=\"#Задача-«Ход-коня»\" data-toc-modified-id=\"Задача-«Ход-коня»-2.11\"><span class=\"toc-item-num\">2.11&nbsp;&nbsp;</span>Задача «Ход коня»</a></span></li><li><span><a href=\"#Задача-«Шоколадка»\" data-toc-modified-id=\"Задача-«Шоколадка»-2.12\"><span class=\"toc-item-num\">2.12&nbsp;&nbsp;</span>Задача «Шоколадка»</a></span></li><li><span><a href=\"#Задача-«Яша-плавает-в-бассейне»\" data-toc-modified-id=\"Задача-«Яша-плавает-в-бассейне»-2.13\"><span class=\"toc-item-num\">2.13&nbsp;&nbsp;</span>Задача «Яша плавает в бассейне»</a></span></li></ul></li><li><span><a href=\"#Вычисления\" data-toc-modified-id=\"Вычисления-3\"><span class=\"toc-item-num\">3&nbsp;&nbsp;</span>Вычисления</a></span><ul class=\"toc-item\"><li><span><a href=\"#Задача-«Последняя-цифра-числа»\" data-toc-modified-id=\"Задача-«Последняя-цифра-числа»-3.1\"><span class=\"toc-item-num\">3.1&nbsp;&nbsp;</span>Задача «Последняя цифра числа»</a></span></li><li><span><a href=\"#Задача-«МКАД»\" data-toc-modified-id=\"Задача-«МКАД»-3.2\"><span class=\"toc-item-num\">3.2&nbsp;&nbsp;</span>Задача «МКАД»</a></span></li><li><span><a href=\"#Задача-«Дробная-часть»\" data-toc-modified-id=\"Задача-«Дробная-часть»-3.3\"><span class=\"toc-item-num\">3.3&nbsp;&nbsp;</span>Задача «Дробная часть»</a></span></li><li><span><a href=\"#Задача-«Первая-цифра-после-точки»\" data-toc-modified-id=\"Задача-«Первая-цифра-после-точки»-3.4\"><span class=\"toc-item-num\">3.4&nbsp;&nbsp;</span>Задача «Первая цифра после точки»</a></span></li><li><span><a href=\"#Задача-«Конец-уроков»\" data-toc-modified-id=\"Задача-«Конец-уроков»-3.5\"><span class=\"toc-item-num\">3.5&nbsp;&nbsp;</span>Задача «Конец уроков»</a></span></li><li><span><a href=\"#Задача-«Автопробег»\" data-toc-modified-id=\"Задача-«Автопробег»-3.6\"><span class=\"toc-item-num\">3.6&nbsp;&nbsp;</span>Задача «Автопробег»</a></span></li><li><span><a href=\"#Задача-«Стоимость-покупки»\" data-toc-modified-id=\"Задача-«Стоимость-покупки»-3.7\"><span class=\"toc-item-num\">3.7&nbsp;&nbsp;</span>Задача «Стоимость покупки»</a></span></li><li><span><a href=\"#Задача-«Разность-времен»\" data-toc-modified-id=\"Задача-«Разность-времен»-3.8\"><span class=\"toc-item-num\">3.8&nbsp;&nbsp;</span>Задача «Разность времен»</a></span></li><li><span><a href=\"#Задача-«Улитка»\" data-toc-modified-id=\"Задача-«Улитка»-3.9\"><span class=\"toc-item-num\">3.9&nbsp;&nbsp;</span>Задача «Улитка»</a></span></li><li><span><a href=\"#Задача-«Число-десятков»\" data-toc-modified-id=\"Задача-«Число-десятков»-3.10\"><span class=\"toc-item-num\">3.10&nbsp;&nbsp;</span>Задача «Число десятков»</a></span></li><li><span><a href=\"#Задача-«Сумма-цифр»\" data-toc-modified-id=\"Задача-«Сумма-цифр»-3.11\"><span class=\"toc-item-num\">3.11&nbsp;&nbsp;</span>Задача «Сумма цифр»</a></span></li><li><span><a href=\"#Задача-«Гипотенуза»\" data-toc-modified-id=\"Задача-«Гипотенуза»-3.12\"><span class=\"toc-item-num\">3.12&nbsp;&nbsp;</span>Задача «Гипотенуза»</a></span></li><li><span><a href=\"#Задача-«Часы---1»\" data-toc-modified-id=\"Задача-«Часы---1»-3.13\"><span class=\"toc-item-num\">3.13&nbsp;&nbsp;</span>Задача «Часы - 1»</a></span></li><li><span><a href=\"#Задача-«Часы---2»\" data-toc-modified-id=\"Задача-«Часы---2»-3.14\"><span class=\"toc-item-num\">3.14&nbsp;&nbsp;</span>Задача «Часы - 2»</a></span></li><li><span><a href=\"#Задача-«Часы---3»\" data-toc-modified-id=\"Задача-«Часы---3»-3.15\"><span class=\"toc-item-num\">3.15&nbsp;&nbsp;</span>Задача «Часы - 3»</a></span></li><li><span><a href=\"#Задача-«Проценты»\" data-toc-modified-id=\"Задача-«Проценты»-3.16\"><span class=\"toc-item-num\">3.16&nbsp;&nbsp;</span>Задача «Проценты»</a></span></li></ul></li><li><span><a href=\"#Цикл-for\" data-toc-modified-id=\"Цикл-for-4\"><span class=\"toc-item-num\">4&nbsp;&nbsp;</span>Цикл for</a></span><ul class=\"toc-item\"><li><span><a href=\"#Задача-«Ряд---1»\" data-toc-modified-id=\"Задача-«Ряд---1»-4.1\"><span class=\"toc-item-num\">4.1&nbsp;&nbsp;</span>Задача «Ряд - 1»</a></span></li><li><span><a href=\"#Задача-«Ряд---2»\" data-toc-modified-id=\"Задача-«Ряд---2»-4.2\"><span class=\"toc-item-num\">4.2&nbsp;&nbsp;</span>Задача «Ряд - 2»</a></span></li><li><span><a href=\"#Задача-«Ряд---3»\" data-toc-modified-id=\"Задача-«Ряд---3»-4.3\"><span class=\"toc-item-num\">4.3&nbsp;&nbsp;</span>Задача «Ряд - 3»</a></span></li><li><span><a href=\"#Задача-«Сумма-десяти-чисел»\" data-toc-modified-id=\"Задача-«Сумма-десяти-чисел»-4.4\"><span class=\"toc-item-num\">4.4&nbsp;&nbsp;</span>Задача «Сумма десяти чисел»</a></span></li><li><span><a href=\"#Задача-«Сумма-N-чисел»\" data-toc-modified-id=\"Задача-«Сумма-N-чисел»-4.5\"><span class=\"toc-item-num\">4.5&nbsp;&nbsp;</span>Задача «Сумма N чисел»</a></span></li><li><span><a href=\"#Задача-«Сумма-кубов»\" data-toc-modified-id=\"Задача-«Сумма-кубов»-4.6\"><span class=\"toc-item-num\">4.6&nbsp;&nbsp;</span>Задача «Сумма кубов»</a></span></li><li><span><a href=\"#Задача-«Факториал»\" data-toc-modified-id=\"Задача-«Факториал»-4.7\"><span class=\"toc-item-num\">4.7&nbsp;&nbsp;</span>Задача «Факториал»</a></span></li><li><span><a href=\"#Задача-«Сумма-факториалов»\" data-toc-modified-id=\"Задача-«Сумма-факториалов»-4.8\"><span class=\"toc-item-num\">4.8&nbsp;&nbsp;</span>Задача «Сумма факториалов»</a></span></li><li><span><a href=\"#Задача-«Количество-нулей»\" data-toc-modified-id=\"Задача-«Количество-нулей»-4.9\"><span class=\"toc-item-num\">4.9&nbsp;&nbsp;</span>Задача «Количество нулей»</a></span></li><li><span><a href=\"#Задача-«Лесенка»\" data-toc-modified-id=\"Задача-«Лесенка»-4.10\"><span class=\"toc-item-num\">4.10&nbsp;&nbsp;</span>Задача «Лесенка»</a></span></li><li><span><a href=\"#Задача-«Потерянная-карточка»\" data-toc-modified-id=\"Задача-«Потерянная-карточка»-4.11\"><span class=\"toc-item-num\">4.11&nbsp;&nbsp;</span>Задача «Потерянная карточка»</a></span></li></ul></li><li><span><a href=\"#Строки\" data-toc-modified-id=\"Строки-5\"><span class=\"toc-item-num\">5&nbsp;&nbsp;</span>Строки</a></span><ul class=\"toc-item\"><li><span><a href=\"#Задача-«Делаем-срезы»\" data-toc-modified-id=\"Задача-«Делаем-срезы»-5.1\"><span class=\"toc-item-num\">5.1&nbsp;&nbsp;</span>Задача «Делаем срезы»</a></span></li><li><span><a href=\"#Задача-«Количество-слов»\" data-toc-modified-id=\"Задача-«Количество-слов»-5.2\"><span class=\"toc-item-num\">5.2&nbsp;&nbsp;</span>Задача «Количество слов»</a></span></li><li><span><a href=\"#Задача-«Две-половинки»\" data-toc-modified-id=\"Задача-«Две-половинки»-5.3\"><span class=\"toc-item-num\">5.3&nbsp;&nbsp;</span>Задача «Две половинки»</a></span></li><li><span><a href=\"#Задача-«Переставить-два-слова»\" data-toc-modified-id=\"Задача-«Переставить-два-слова»-5.4\"><span class=\"toc-item-num\">5.4&nbsp;&nbsp;</span>Задача «Переставить два слова»</a></span></li><li><span><a href=\"#Задача-«Первое-и-последнее-вхождения»\" data-toc-modified-id=\"Задача-«Первое-и-последнее-вхождения»-5.5\"><span class=\"toc-item-num\">5.5&nbsp;&nbsp;</span>Задача «Первое и последнее вхождения»</a></span></li><li><span><a href=\"#Задача-«Второе-вхождение»\" data-toc-modified-id=\"Задача-«Второе-вхождение»-5.6\"><span class=\"toc-item-num\">5.6&nbsp;&nbsp;</span>Задача «Второе вхождение»</a></span></li><li><span><a href=\"#Задача-«Удаление-фрагмента»\" data-toc-modified-id=\"Задача-«Удаление-фрагмента»-5.7\"><span class=\"toc-item-num\">5.7&nbsp;&nbsp;</span>Задача «Удаление фрагмента»</a></span></li><li><span><a href=\"#Задача-«Обращение-фрагмента»\" data-toc-modified-id=\"Задача-«Обращение-фрагмента»-5.8\"><span class=\"toc-item-num\">5.8&nbsp;&nbsp;</span>Задача «Обращение фрагмента»</a></span></li><li><span><a href=\"#Задача-«Замена-подстроки»\" data-toc-modified-id=\"Задача-«Замена-подстроки»-5.9\"><span class=\"toc-item-num\">5.9&nbsp;&nbsp;</span>Задача «Замена подстроки»</a></span></li><li><span><a href=\"#Задача-«Удаление-символа»\" data-toc-modified-id=\"Задача-«Удаление-символа»-5.10\"><span class=\"toc-item-num\">5.10&nbsp;&nbsp;</span>Задача «Удаление символа»</a></span></li><li><span><a href=\"#Задача-«Замена-внутри-фрагмента»\" data-toc-modified-id=\"Задача-«Замена-внутри-фрагмента»-5.11\"><span class=\"toc-item-num\">5.11&nbsp;&nbsp;</span>Задача «Замена внутри фрагмента»</a></span></li><li><span><a href=\"#Задача-«Удалить-каждый-третий-символ»\" data-toc-modified-id=\"Задача-«Удалить-каждый-третий-символ»-5.12\"><span class=\"toc-item-num\">5.12&nbsp;&nbsp;</span>Задача «Удалить каждый третий символ»</a></span></li></ul></li><li><span><a href=\"#Цикл-while\" data-toc-modified-id=\"Цикл-while-6\"><span class=\"toc-item-num\">6&nbsp;&nbsp;</span>Цикл while</a></span><ul class=\"toc-item\"><li><span><a href=\"#Задача-«Список-квадратов»\" data-toc-modified-id=\"Задача-«Список-квадратов»-6.1\"><span class=\"toc-item-num\">6.1&nbsp;&nbsp;</span>Задача «Список квадратов»</a></span></li><li><span><a href=\"#Задача-«Минимальный-делитель»\" data-toc-modified-id=\"Задача-«Минимальный-делитель»-6.2\"><span class=\"toc-item-num\">6.2&nbsp;&nbsp;</span>Задача «Минимальный делитель»</a></span></li><li><span><a href=\"#Задача-«Степень-двойки»\" data-toc-modified-id=\"Задача-«Степень-двойки»-6.3\"><span class=\"toc-item-num\">6.3&nbsp;&nbsp;</span>Задача «Степень двойки»</a></span></li><li><span><a href=\"#Задача-«Утренняя-пробежка»\" data-toc-modified-id=\"Задача-«Утренняя-пробежка»-6.4\"><span class=\"toc-item-num\">6.4&nbsp;&nbsp;</span>Задача «Утренняя пробежка»</a></span></li><li><span><a href=\"#Задача-«Длина-последовательности»\" data-toc-modified-id=\"Задача-«Длина-последовательности»-6.5\"><span class=\"toc-item-num\">6.5&nbsp;&nbsp;</span>Задача «Длина последовательности»</a></span></li><li><span><a href=\"#Задача-«Сумма-последовательности»\" data-toc-modified-id=\"Задача-«Сумма-последовательности»-6.6\"><span class=\"toc-item-num\">6.6&nbsp;&nbsp;</span>Задача «Сумма последовательности»</a></span></li><li><span><a href=\"#Задача-«Среднее-значение-последовательности»\" data-toc-modified-id=\"Задача-«Среднее-значение-последовательности»-6.7\"><span class=\"toc-item-num\">6.7&nbsp;&nbsp;</span>Задача «Среднее значение последовательности»</a></span></li><li><span><a href=\"#Задача-«Максимум-последовательности»\" data-toc-modified-id=\"Задача-«Максимум-последовательности»-6.8\"><span class=\"toc-item-num\">6.8&nbsp;&nbsp;</span>Задача «Максимум последовательности»</a></span></li><li><span><a href=\"#Задача-«Индекс-максимума-последовательности»\" data-toc-modified-id=\"Задача-«Индекс-максимума-последовательности»-6.9\"><span class=\"toc-item-num\">6.9&nbsp;&nbsp;</span>Задача «Индекс максимума последовательности»</a></span></li><li><span><a href=\"#Задача-«Количество-четных-элементов-последовательности»\" data-toc-modified-id=\"Задача-«Количество-четных-элементов-последовательности»-6.10\"><span class=\"toc-item-num\">6.10&nbsp;&nbsp;</span>Задача «Количество четных элементов последовательности»</a></span></li><li><span><a href=\"#Задача-«Количество-элементов,-которые-больше-предыдущего»\" data-toc-modified-id=\"Задача-«Количество-элементов,-которые-больше-предыдущего»-6.11\"><span class=\"toc-item-num\">6.11&nbsp;&nbsp;</span>Задача «Количество элементов, которые больше предыдущего»</a></span></li><li><span><a href=\"#Задача-«Второй-максимум»\" data-toc-modified-id=\"Задача-«Второй-максимум»-6.12\"><span class=\"toc-item-num\">6.12&nbsp;&nbsp;</span>Задача «Второй максимум»</a></span></li><li><span><a href=\"#Задача-«Количество-элементов,-равных-максимуму»\" data-toc-modified-id=\"Задача-«Количество-элементов,-равных-максимуму»-6.13\"><span class=\"toc-item-num\">6.13&nbsp;&nbsp;</span>Задача «Количество элементов, равных максимуму»</a></span></li><li><span><a href=\"#Задача-«Числа-Фибоначчи»\" data-toc-modified-id=\"Задача-«Числа-Фибоначчи»-6.14\"><span class=\"toc-item-num\">6.14&nbsp;&nbsp;</span>Задача «Числа Фибоначчи»</a></span></li><li><span><a href=\"#Задача-«Номер-числа-Фибоначчи»\" data-toc-modified-id=\"Задача-«Номер-числа-Фибоначчи»-6.15\"><span class=\"toc-item-num\">6.15&nbsp;&nbsp;</span>Задача «Номер числа Фибоначчи»</a></span></li><li><span><a href=\"#Задача-«Максимальное-число-идущих-подряд-равных-элементов»\" data-toc-modified-id=\"Задача-«Максимальное-число-идущих-подряд-равных-элементов»-6.16\"><span class=\"toc-item-num\">6.16&nbsp;&nbsp;</span>Задача «Максимальное число идущих подряд равных элементов»</a></span></li><li><span><a href=\"#Задача-«Стандартное-отклонение»\" data-toc-modified-id=\"Задача-«Стандартное-отклонение»-6.17\"><span class=\"toc-item-num\">6.17&nbsp;&nbsp;</span>Задача «Стандартное отклонение»</a></span></li></ul></li><li><span><a href=\"#Списки\" data-toc-modified-id=\"Списки-7\"><span class=\"toc-item-num\">7&nbsp;&nbsp;</span>Списки</a></span><ul class=\"toc-item\"><li><span><a href=\"#Задача-«Четные-индексы»\" data-toc-modified-id=\"Задача-«Четные-индексы»-7.1\"><span class=\"toc-item-num\">7.1&nbsp;&nbsp;</span>Задача «Четные индексы»</a></span></li><li><span><a href=\"#Задача-«Четные-элементы»\" data-toc-modified-id=\"Задача-«Четные-элементы»-7.2\"><span class=\"toc-item-num\">7.2&nbsp;&nbsp;</span>Задача «Четные элементы»</a></span></li><li><span><a href=\"#Задача-«Больше-предыдущего»\" data-toc-modified-id=\"Задача-«Больше-предыдущего»-7.3\"><span class=\"toc-item-num\">7.3&nbsp;&nbsp;</span>Задача «Больше предыдущего»</a></span></li><li><span><a href=\"#Задача-«Соседи-одного-знака»\" data-toc-modified-id=\"Задача-«Соседи-одного-знака»-7.4\"><span class=\"toc-item-num\">7.4&nbsp;&nbsp;</span>Задача «Соседи одного знака»</a></span></li><li><span><a href=\"#Задача-«Больше-своих-соседей»\" data-toc-modified-id=\"Задача-«Больше-своих-соседей»-7.5\"><span class=\"toc-item-num\">7.5&nbsp;&nbsp;</span>Задача «Больше своих соседей»</a></span></li><li><span><a href=\"#Задача-«Наибольший-элемент»\" data-toc-modified-id=\"Задача-«Наибольший-элемент»-7.6\"><span class=\"toc-item-num\">7.6&nbsp;&nbsp;</span>Задача «Наибольший элемент»</a></span></li><li><span><a href=\"#Задача-«Шеренга»\" data-toc-modified-id=\"Задача-«Шеренга»-7.7\"><span class=\"toc-item-num\">7.7&nbsp;&nbsp;</span>Задача «Шеренга»</a></span></li><li><span><a href=\"#Задача-«Количество-различных-элементов»\" data-toc-modified-id=\"Задача-«Количество-различных-элементов»-7.8\"><span class=\"toc-item-num\">7.8&nbsp;&nbsp;</span>Задача «Количество различных элементов»</a></span></li><li><span><a href=\"#Задача-«Переставить-соседние»\" data-toc-modified-id=\"Задача-«Переставить-соседние»-7.9\"><span class=\"toc-item-num\">7.9&nbsp;&nbsp;</span>Задача «Переставить соседние»</a></span></li><li><span><a href=\"#Задача-«Переставить-min-и-max»\" data-toc-modified-id=\"Задача-«Переставить-min-и-max»-7.10\"><span class=\"toc-item-num\">7.10&nbsp;&nbsp;</span>Задача «Переставить min и max»</a></span></li><li><span><a href=\"#Задача-«Удалить-элемент»\" data-toc-modified-id=\"Задача-«Удалить-элемент»-7.11\"><span class=\"toc-item-num\">7.11&nbsp;&nbsp;</span>Задача «Удалить элемент»</a></span></li><li><span><a href=\"#Задача-«Вставить-элемент»\" data-toc-modified-id=\"Задача-«Вставить-элемент»-7.12\"><span class=\"toc-item-num\">7.12&nbsp;&nbsp;</span>Задача «Вставить элемент»</a></span></li><li><span><a href=\"#Задача-«Количество-совпадающих-пар»\" data-toc-modified-id=\"Задача-«Количество-совпадающих-пар»-7.13\"><span class=\"toc-item-num\">7.13&nbsp;&nbsp;</span>Задача «Количество совпадающих пар»</a></span></li></ul></li></ul></div>"
   ]
  },
  {
   "cell_type": "markdown",
   "id": "0a020afa",
   "metadata": {},
   "source": [
    "## Ввод и вывод данных"
   ]
  },
  {
   "cell_type": "markdown",
   "id": "0182a2da",
   "metadata": {},
   "source": [
    "### Задача «Сумма трёх чисел»\n",
    "\n",
    "Напишите программу, которая считывает три числа и выводит их сумму. Каждое число записано в отдельной строке."
   ]
  },
  {
   "cell_type": "code",
   "execution_count": null,
   "id": "fd2a638d",
   "metadata": {},
   "outputs": [],
   "source": [
    "a = int(input())\n",
    "b = int(input())\n",
    "c = int(input())\n",
    "print(a + b + c)"
   ]
  },
  {
   "cell_type": "markdown",
   "id": "e20652bc",
   "metadata": {},
   "source": [
    "### Задача «Площадь прямоугольного треугольника»\n",
    "\n",
    "Напишите программу, которая считывает длины двух катетов в прямоугольном треугольнике и выводит его площадь. Каждое число записано в отдельной строке."
   ]
  },
  {
   "cell_type": "code",
   "execution_count": null,
   "id": "bb157aa8",
   "metadata": {},
   "outputs": [],
   "source": [
    "b = int(input())\n",
    "h = int(input())\n",
    "print(0.5 * b * h)"
   ]
  },
  {
   "cell_type": "markdown",
   "id": "7c8463cd",
   "metadata": {},
   "source": [
    "### Задача «Дележ яблок»\n",
    "\n",
    "n школьников делят k яблок поровну, неделящийся остаток остается в корзинке. Сколько яблок достанется каждому школьнику? Сколько яблок останется в корзинке? Программа получает на вход числа n и k и должна вывести искомое количество яблок (два числа)."
   ]
  },
  {
   "cell_type": "code",
   "execution_count": null,
   "id": "cfe3f85e",
   "metadata": {},
   "outputs": [],
   "source": [
    "n = int(input())\n",
    "k = int(input())\n",
    "\n",
    "print(k // n)\n",
    "print(k % n)"
   ]
  },
  {
   "cell_type": "markdown",
   "id": "d31e9138",
   "metadata": {},
   "source": [
    "### Задача «Электронные часы»\n",
    "\n",
    "Дано число n. С начала суток прошло n минут. Определите, сколько часов и минут будут показывать электронные часы в этот момент. Программа должна вывести два числа: количество часов (от 0 до 23) и количество минут (от 0 до 59). Учтите, что число n может быть больше, чем количество минут в сутках."
   ]
  },
  {
   "cell_type": "code",
   "execution_count": 1,
   "id": "ebc9fdba",
   "metadata": {},
   "outputs": [
    {
     "name": "stdout",
     "output_type": "stream",
     "text": [
      "1\n",
      "0 1\n"
     ]
    }
   ],
   "source": [
    "n = int(input())\n",
    "print(n // 60 - ((n // 60) // 24) * 24, n % 60)"
   ]
  },
  {
   "cell_type": "markdown",
   "id": "fd84c97d",
   "metadata": {},
   "source": [
    "### Задача «Hello, Harry!»\n",
    "\n",
    "Напишите программу, которая приветствует пользователя, выводя слово Hello, введенное имя и знаки препинания по образцу:"
   ]
  },
  {
   "cell_type": "code",
   "execution_count": 2,
   "id": "dd2d5536",
   "metadata": {},
   "outputs": [
    {
     "name": "stdout",
     "output_type": "stream",
     "text": [
      "wdwe\n",
      "Hello, wdwe!\n"
     ]
    }
   ],
   "source": [
    "print('Hello, ' , input(), '!', sep='')"
   ]
  },
  {
   "cell_type": "markdown",
   "id": "a977d1ce",
   "metadata": {},
   "source": [
    "### Задача «Следующее и предыдущее»\n",
    "\n",
    "Напишите программу, которая считывает целое число и выводит текст, аналогичный приведенному в примере (пробелы важны!)."
   ]
  },
  {
   "cell_type": "code",
   "execution_count": null,
   "id": "d1e8a65d",
   "metadata": {},
   "outputs": [],
   "source": [
    "n = int(input())\n",
    "print('The next number for the number ', n, ' is ', n+1, '.', sep='')\n",
    "print('The previous number for the number ', n, ' is ', n-1, '.', sep='')"
   ]
  },
  {
   "cell_type": "markdown",
   "id": "fccbcfc6",
   "metadata": {},
   "source": [
    "### Задача «Парты»\n",
    "\n",
    "В школе решили набрать три новых математических класса. Так как занятия по математике у них проходят в одно и то же время, было решено выделить кабинет для каждого класса и купить в них новые парты. За каждой партой может сидеть не больше двух учеников. Известно количество учащихся в каждом из трёх классов. Сколько всего нужно закупить парт чтобы их хватило на всех учеников? Программа получает на вход три натуральных числа: количество учащихся в каждом из трех классов."
   ]
  },
  {
   "cell_type": "code",
   "execution_count": null,
   "id": "4171edb3",
   "metadata": {},
   "outputs": [],
   "source": [
    "n1 = int(input())\n",
    "n2 = int(input())\n",
    "n3 = int(input())\n",
    "print(n1 // 2 + n2 // 2 + n3 // 2 + n1 % 2 + n2 % 2 + n3 % 2)"
   ]
  },
  {
   "cell_type": "markdown",
   "id": "a7d1449d",
   "metadata": {},
   "source": [
    "### Задача «Шнурки»\n",
    "\n",
    "Обувная фабрика собирается начать выпуск элитной модели ботинок. Дырочки для шнуровки будут расположены в два ряда, расстояние между рядами равно a, а расстояние между дырочками в ряду b. Количество дырочек в каждом ряду равно N. Шнуровка должна происходить элитным способом “наверх, по горизонтали в другой ряд, наверх, по горизонтали и т.д.” (см. рисунок). Кроме того, чтобы шнурки можно было завязать элитным бантиком, длина свободного конца шнурка должна быть l. Какова должна быть длина шнурка для этих ботинок?\n",
    "\n",
    "Программа получает на вход четыре натуральных числа a, b, l и N - именно в таком порядке - и должна вывести одно число - искомую длину шнурка."
   ]
  },
  {
   "cell_type": "code",
   "execution_count": null,
   "id": "db9f8bd6",
   "metadata": {},
   "outputs": [],
   "source": [
    "a = int(input())\n",
    "b = int(input())\n",
    "l = int(input())\n",
    "N = int(input())\n",
    "\n",
    "L = (2 * l) + (N-1)*2*b + (a*2*N)-a\n",
    "print(L)"
   ]
  },
  {
   "cell_type": "markdown",
   "id": "69f8e5ac",
   "metadata": {},
   "source": [
    "## Условия"
   ]
  },
  {
   "cell_type": "markdown",
   "id": "69dcf113",
   "metadata": {},
   "source": [
    "### Задача «Минимум из двух чисел»\n",
    "\n",
    "Даны два целых числа. Выведите значение наименьшего из них."
   ]
  },
  {
   "cell_type": "code",
   "execution_count": null,
   "id": "fd9a62a4",
   "metadata": {},
   "outputs": [],
   "source": [
    "a = int(input())\n",
    "b = int(input())\n",
    "if a < b:\n",
    "    print(a)\n",
    "else:\n",
    "    print(b)"
   ]
  },
  {
   "cell_type": "markdown",
   "id": "9b7d55a6",
   "metadata": {},
   "source": [
    "### Задача «Знак числа»\n",
    "\n",
    "В математике функция sign(x) (знак числа) определена так:\n",
    "* sign(x) = 1, если x > 0,\n",
    "* sign(x) = -1, если x < 0,\n",
    "* sign(x) = 0, если x = 0.\n",
    "\n",
    "Для данного числа x выведите значение sign(x). Эту задачу желательно решить с использованием каскадных инструкций if... elif... else."
   ]
  },
  {
   "cell_type": "code",
   "execution_count": null,
   "id": "e0d23df0",
   "metadata": {},
   "outputs": [],
   "source": [
    "x = int(input())\n",
    "if x > 0:\n",
    "    print('1')\n",
    "elif x < 0:\n",
    "    print('-1')\n",
    "else:\n",
    "    print('0')"
   ]
  },
  {
   "cell_type": "markdown",
   "id": "94c6a859",
   "metadata": {},
   "source": [
    "### Задача «Шахматная доска»\n",
    "\n",
    "Заданы две клетки шахматной доски. Если они покрашены в один цвет, то выведите слово YES, а если в разные цвета — то NO. Программа получает на вход четыре числа от 1 до 8 каждое, задающие номер столбца и номер строки сначала для первой клетки, потом для второй клетки."
   ]
  },
  {
   "cell_type": "code",
   "execution_count": null,
   "id": "4c1b7b59",
   "metadata": {},
   "outputs": [],
   "source": [
    "n1 = int(input())\n",
    "n2 = int(input())\n",
    "n3 = int(input())\n",
    "n4 = int(input())\n",
    "x1 = n1 % 2 + n2 % 2\n",
    "x2 = n3 % 2 + n4 % 2\n",
    "if (x1 + x2) > 1 or (x1 + x2) == 0:\n",
    "    print('YES')\n",
    "else:\n",
    "    print('NO')"
   ]
  },
  {
   "cell_type": "markdown",
   "id": "4fd206df",
   "metadata": {},
   "source": [
    "### Задача «Високосный год»\n",
    "\n",
    "Дано натуральное число. Требуется определить, является ли год с данным номером високосным. Если год является високосным, то выведите YES, иначе выведите NO. Напомним, что в соответствии с григорианским календарем, год является високосным, если его номер кратен 4, но не кратен 100, а также если он кратен 400."
   ]
  },
  {
   "cell_type": "code",
   "execution_count": null,
   "id": "04446090",
   "metadata": {},
   "outputs": [],
   "source": [
    "n = int(input())\n",
    "if n % 400 == 0:\n",
    "    print('YES')\n",
    "elif (n % 4 == 0) and (n % 100) != 0:\n",
    "    print('YES')\n",
    "else:\n",
    "    print('NO')"
   ]
  },
  {
   "cell_type": "markdown",
   "id": "d2591ce6",
   "metadata": {},
   "source": [
    "### Задача «Минимум из трех чисел»\n",
    "\n",
    "Даны три целых числа. Выведите значение наименьшего из них."
   ]
  },
  {
   "cell_type": "code",
   "execution_count": null,
   "id": "320c19c4",
   "metadata": {},
   "outputs": [],
   "source": [
    "a = int(input())\n",
    "b = int(input())\n",
    "c = int(input())\n",
    "\n",
    "print(min(a, b, c))"
   ]
  },
  {
   "cell_type": "code",
   "execution_count": null,
   "id": "421919ad",
   "metadata": {},
   "outputs": [],
   "source": [
    "a = int(input())\n",
    "b = int(input())\n",
    "c = int(input())\n",
    "if b >= a <= c:\n",
    "    print(a)\n",
    "elif a >= b <= c:\n",
    "    print(b)\n",
    "else:\n",
    "    print(c)"
   ]
  },
  {
   "cell_type": "markdown",
   "id": "bcc6e721",
   "metadata": {},
   "source": [
    "### Задача «Сколько совпадает чисел»\n",
    "\n",
    "Даны три целых числа. Определите, сколько среди них совпадающих. Программа должна вывести одно из чисел: 3 (если все совпадают), 2 (если два совпадает) или 0 (если все числа различны)."
   ]
  },
  {
   "cell_type": "code",
   "execution_count": null,
   "id": "7a4c0a4b",
   "metadata": {},
   "outputs": [],
   "source": [
    "a = int(input())\n",
    "b = int(input())\n",
    "c = int(input())\n",
    "\n",
    "if a == b == c:\n",
    "    print(3)\n",
    "elif a == b or a == c or c == b:\n",
    "    print(2)\n",
    "else:\n",
    "    print(0)"
   ]
  },
  {
   "cell_type": "markdown",
   "id": "8bd72538",
   "metadata": {},
   "source": [
    "### Задача «Ход ладьи»\n",
    "\n",
    "Шахматная ладья ходит по горизонтали или вертикали. Даны две различные клетки шахматной доски, определите, может ли ладья попасть с первой клетки на вторую одним ходом. Программа получает на вход четыре числа от 1 до 8 каждое, задающие номер столбца и номер строки сначала для первой клетки, потом для второй клетки. Программа должна вывести YES, если из первой клетки ходом ладьи можно попасть во вторую или NO в противном случае."
   ]
  },
  {
   "cell_type": "code",
   "execution_count": null,
   "id": "cad83938",
   "metadata": {},
   "outputs": [],
   "source": []
  },
  {
   "cell_type": "markdown",
   "id": "53cd6c44",
   "metadata": {},
   "source": [
    "### Задача «Ход короля»\n",
    "\n",
    "Шахматный король ходит по горизонтали, вертикали и диагонали, но только на 1 клетку. Даны две различные клетки шахматной доски, определите, может ли король попасть с первой клетки на вторую одним ходом. Программа получает на вход четыре числа от 1 до 8 каждое, задающие номер столбца и номер строки сначала для первой клетки, потом для второй клетки. Программа должна вывести YES, если из первой клетки ходом короля можно попасть во вторую или NO в противном случае."
   ]
  },
  {
   "cell_type": "code",
   "execution_count": null,
   "id": "ce3638cb",
   "metadata": {},
   "outputs": [],
   "source": []
  },
  {
   "cell_type": "markdown",
   "id": "54250cb4",
   "metadata": {},
   "source": [
    "### Задача «Ход слона»\n",
    "\n",
    "Шахматный слон ходит по диагонали. Даны две различные клетки шахматной доски, определите, может ли слон попасть с первой клетки на вторую одним ходом."
   ]
  },
  {
   "cell_type": "code",
   "execution_count": null,
   "id": "9173273b",
   "metadata": {},
   "outputs": [],
   "source": []
  },
  {
   "cell_type": "markdown",
   "id": "4eb7a16d",
   "metadata": {},
   "source": [
    "### Задача «Ход ферзя»\n",
    "\n",
    "Шахматный ферзь ходит по диагонали, горизонтали или вертикали. Даны две различные клетки шахматной доски, определите, может ли ферзь попасть с первой клетки на вторую одним ходом."
   ]
  },
  {
   "cell_type": "code",
   "execution_count": null,
   "id": "43276664",
   "metadata": {},
   "outputs": [],
   "source": []
  },
  {
   "cell_type": "markdown",
   "id": "afb61f93",
   "metadata": {},
   "source": [
    "### Задача «Ход коня»\n",
    "\n",
    "Шахматный конь ходит буквой “Г” — на две клетки по вертикали в любом направлении и на одну клетку по горизонтали, или наоборот. Даны две различные клетки шахматной доски, определите, может ли конь попасть с первой клетки на вторую одним ходом"
   ]
  },
  {
   "cell_type": "code",
   "execution_count": null,
   "id": "71aa5f7e",
   "metadata": {},
   "outputs": [],
   "source": []
  },
  {
   "cell_type": "markdown",
   "id": "4de570c0",
   "metadata": {},
   "source": [
    "### Задача «Шоколадка»\n",
    "\n",
    "Шоколадка имеет вид прямоугольника, разделенного на n×m долек. Шоколадку можно один раз разломить по прямой на две части. Определите, можно ли таким образом отломить от шоколадки часть, состоящую ровно из k долек. Программа получает на вход три числа: n, m, k и должна вывести YES или NO."
   ]
  },
  {
   "cell_type": "code",
   "execution_count": null,
   "id": "71da421d",
   "metadata": {},
   "outputs": [],
   "source": [
    "n = 7 #int(input())\n",
    "m = 4 #int(input())\n",
    "k = 21 #int(input())\n",
    "\n",
    "if n > m:\n",
    "    max_st = n\n",
    "    min_st = m\n",
    "else:\n",
    "    max_st = m\n",
    "    min_st = n\n",
    "    \n",
    "if (k % min_st == 0 or k % max_st == 0 or max_st == k) and (n * m) >= k:\n",
    "    print('YES')\n",
    "else:    \n",
    "    print('NO')"
   ]
  },
  {
   "cell_type": "code",
   "execution_count": null,
   "id": "dc5ab809",
   "metadata": {},
   "outputs": [],
   "source": [
    "n = int(input())\n",
    "m = int(input())\n",
    "k = int(input())\n",
    "if k < n * m and ((k % n == 0) or (k % m == 0)):\n",
    "    print('YES')\n",
    "else:\n",
    "    print('NO')"
   ]
  },
  {
   "cell_type": "markdown",
   "id": "10254773",
   "metadata": {},
   "source": [
    "### Задача «Яша плавает в бассейне»\n",
    "\n",
    "Яша плавал в бассейне размером N × M метров и устал. В этот момент он обнаружил, что находится на расстоянии x метров от одного из длинных бортиков (не обязательно от ближайшего) и y метров от одного из коротких бортиков. Какое минимальное расстояние должен проплыть Яша, чтобы выбраться из бассейна на бортик? Программа получает на вход числа N, M, x, y. Программа должна вывести число метров, которое нужно проплыть Яше до бортика"
   ]
  },
  {
   "cell_type": "code",
   "execution_count": null,
   "id": "ee0db994",
   "metadata": {},
   "outputs": [],
   "source": [
    "n =  18 #int(input()) 8\n",
    "m =  90 #int(input())\n",
    "x =  3 #int(input())\n",
    "y =  63 #int(input())\n",
    "\n",
    "long  = max(n, m)\n",
    "short = min(n, m)\n",
    "remains_long  = long  - y\n",
    "remains_short = short - x\n",
    "\n",
    "print(min(x, y, remains_long, remains_short))"
   ]
  },
  {
   "cell_type": "markdown",
   "id": "15f71fff",
   "metadata": {},
   "source": [
    "## Вычисления"
   ]
  },
  {
   "cell_type": "markdown",
   "id": "c0e91649",
   "metadata": {},
   "source": [
    "### Задача «Последняя цифра числа»\n",
    "\n",
    "Дано натуральное число. Выведите его последнюю цифру."
   ]
  },
  {
   "cell_type": "code",
   "execution_count": null,
   "id": "b9df5158",
   "metadata": {},
   "outputs": [],
   "source": [
    "n = int(input())\n",
    "\n",
    "print(n % 10)"
   ]
  },
  {
   "cell_type": "markdown",
   "id": "2f0b4c11",
   "metadata": {},
   "source": [
    "### Задача «МКАД»\n",
    "\n",
    "Длина Московской кольцевой автомобильной дороги — 109 километров. Байкер Вася стартует с нулевого километра МКАД и едет со скоростью v километров в час. На какой отметке он остановится через t часов?\n",
    "\n",
    "Программа получает на вход значение v и t. Если v>0, то Вася движется в положительном направлении по МКАД, если же значение v<0, то в отрицательном.\n",
    "\n",
    "Программа должна вывести целое число от 0 до 108 — номер отметки, на которой остановится Вася."
   ]
  },
  {
   "cell_type": "code",
   "execution_count": null,
   "id": "5188617a",
   "metadata": {},
   "outputs": [],
   "source": [
    "v = -108 #int(input())\n",
    "t = 109 #int(input())\n",
    "s = 109\n",
    "circle = abs(t * v) // s\n",
    "if v > 0:\n",
    "    print((t * v) - (s * circle))\n",
    "elif abs((s * circle) - abs(s+(t * v))) == 109:\n",
    "    print(0)\n",
    "else:\n",
    "    print(abs((s * circle) - abs(s+(t * v))))"
   ]
  },
  {
   "cell_type": "code",
   "execution_count": null,
   "id": "9af66bf0",
   "metadata": {},
   "outputs": [],
   "source": [
    "v = -108 #int(input())\n",
    "t = 109 #int(input())\n",
    "print((v * t) )\n",
    "print((v * t) % 109)"
   ]
  },
  {
   "cell_type": "markdown",
   "id": "a684fdea",
   "metadata": {},
   "source": [
    "### Задача «Дробная часть»\n",
    "\n",
    "Дано положительное действительное число X. Выведите его дробную часть."
   ]
  },
  {
   "cell_type": "code",
   "execution_count": null,
   "id": "8d3f8487",
   "metadata": {},
   "outputs": [],
   "source": [
    "n = float(input())\n",
    "print(n - int(n))"
   ]
  },
  {
   "cell_type": "markdown",
   "id": "67da4142",
   "metadata": {},
   "source": [
    "### Задача «Первая цифра после точки»\n",
    "\n",
    "Дано положительное действительное число X. Выведите его первую цифру после десятичной точки."
   ]
  },
  {
   "cell_type": "code",
   "execution_count": null,
   "id": "0a795377",
   "metadata": {},
   "outputs": [],
   "source": [
    "n = float(input())\n",
    "print(int(n*10) % 10)"
   ]
  },
  {
   "cell_type": "markdown",
   "id": "eb37c2db",
   "metadata": {},
   "source": [
    "### Задача «Конец уроков»\n",
    "\n",
    "В некоторой школе занятия начинаются в 9:00. Продолжительность урока — 45 минут, после 1-го, 3-го, 5-го и т.д. уроков перемена 5 минут, а после 2-го, 4-го, 6-го и т.д. — 15 минут.\n",
    "\n",
    "Дан номер урока (число от 1 до 10). Определите, когда заканчивается указанный урок.\n",
    "\n",
    "Выведите два целых числа: время окончания урока в часах и минутах."
   ]
  },
  {
   "cell_type": "code",
   "execution_count": null,
   "id": "ecd27e3d",
   "metadata": {},
   "outputs": [],
   "source": [
    "n = 3\n",
    "s = 45\n",
    "for i in range(1, n+1):\n",
    "    #print(i)\n",
    "    if i % 2 == 0:\n",
    "        change = 15\n",
    "    else:\n",
    "        change = 5\n",
    "    if n > i:\n",
    "        #print('перемена', change)\n",
    "        s += 45 + change\n",
    "hour = 9+(s // 60)\n",
    "mn = s % 60\n",
    "print(f'{hour}:{mn}')"
   ]
  },
  {
   "cell_type": "markdown",
   "id": "98e5be82",
   "metadata": {},
   "source": [
    "### Задача «Автопробег»\n",
    "\n",
    "За день машина проезжает n километров. Сколько дней нужно, чтобы проехать маршрут длиной m километров? Программа получает на вход числа n и m."
   ]
  },
  {
   "cell_type": "code",
   "execution_count": null,
   "id": "11b294be",
   "metadata": {},
   "outputs": [],
   "source": [
    "from math import ceil\n",
    "\n",
    "n = int(input())\n",
    "m = int(input())\n",
    "\n",
    "print(ceil(m / n))"
   ]
  },
  {
   "cell_type": "markdown",
   "id": "313d85f5",
   "metadata": {},
   "source": [
    "### Задача «Стоимость покупки»\n",
    "\n",
    "Пирожок в столовой стоит a рублей и b копеек. Определите, сколько рублей и копеек нужно заплатить за n пирожков. Программа получает на вход три числа: a, b, n, и должна вывести два числа: стоимость покупки в рублях и копейках."
   ]
  },
  {
   "cell_type": "code",
   "execution_count": null,
   "id": "f7781e85",
   "metadata": {},
   "outputs": [],
   "source": [
    "a = '2435' #input()\n",
    "b = '6' #input()\n",
    "n = 1965 #int(input())\n",
    "\n",
    "itog = round((int(a) + int(b)/100) * n, 2)\n",
    "rub, kop = '{:.2f}'.format(itog).split('.')\n",
    "print(rub, kop)\n",
    "\n",
    "a = int(a)\n",
    "b = int(b)\n",
    "cost = n * (100 * a + b)\n",
    "print(cost // 100, cost % 100)\n",
    "print('cost=',cost)"
   ]
  },
  {
   "cell_type": "code",
   "execution_count": null,
   "id": "f1474583",
   "metadata": {},
   "outputs": [],
   "source": [
    "a = input()\n",
    "b = input()\n",
    "n = int(input())\n",
    "\n",
    "itog = round((int(a) + int(b)/100) * n, 2)\n",
    "rub, kop = '{:.2f}'.format(itog).split('.')\n",
    "print(rub, kop)"
   ]
  },
  {
   "cell_type": "markdown",
   "id": "5cb3b28d",
   "metadata": {},
   "source": [
    "### Задача «Разность времен»\n",
    "\n",
    "Даны значения двух моментов времени, принадлежащих одним и тем же суткам: часы, минуты и секунды для каждого из моментов времени. Известно, что второй момент времени наступил не раньше первого. Определите, сколько секунд прошло между двумя моментами времени.\n",
    "\n",
    "Программа на вход получает три целых числа: часы, минуты, секунды, задающие первый момент времени и три целых числа, задающих второй момент времени.\n",
    "\n",
    "Выведите число секунд между этими моментами времени."
   ]
  },
  {
   "cell_type": "code",
   "execution_count": null,
   "id": "fb63d19c",
   "metadata": {},
   "outputs": [],
   "source": [
    "a1 = int(input())\n",
    "a2 = int(input())\n",
    "a3 = int(input())\n",
    "b1 = int(input())\n",
    "b2 = int(input())\n",
    "b3 = int(input())\n",
    "\n",
    "t1 = a1*(60**2)+a2*60+a3\n",
    "t2 = b1*(60**2)+b2*60+b3\n",
    "\n",
    "print(t2-t1)"
   ]
  },
  {
   "cell_type": "markdown",
   "id": "38b30a1a",
   "metadata": {},
   "source": [
    "### Задача «Улитка»\n",
    "\n",
    "Улитка ползет по вертикальному шесту высотой h метров, поднимаясь за день на a метров, а за ночь спускаясь на b метров. На какой день улитка доползет до вершины шеста?\n",
    "\n",
    "Программа получает на вход натуральные числа h, a, b.\n",
    "\n",
    "Программа должна вывести одно натуральное число. Гарантируется, что a>b."
   ]
  },
  {
   "cell_type": "code",
   "execution_count": null,
   "id": "7a63bb87",
   "metadata": {},
   "outputs": [],
   "source": [
    "h = 10 #int(input())\n",
    "a = 100 #int(input())\n",
    "b = 0 #int(input())\n",
    "\n",
    "s = 0\n",
    "cnt = 0\n",
    "for i in range(h):\n",
    "    s += a\n",
    "    cnt += 1\n",
    "    if s >= h:\n",
    "        break\n",
    "    else:\n",
    "        s -= b\n",
    "print(cnt)\n",
    "\n",
    "print(int((h - a - 1) // (a - b) + 2))\n",
    "\n",
    "p = h - a\n",
    "k = abs(p // (a - b)) + 0\n",
    "print(k)"
   ]
  },
  {
   "cell_type": "markdown",
   "id": "0a347107",
   "metadata": {},
   "source": [
    "### Задача «Число десятков»\n",
    "\n",
    "Дано натуральное число. Найдите число десятков в его десятичной записи."
   ]
  },
  {
   "cell_type": "code",
   "execution_count": null,
   "id": "bfa042eb",
   "metadata": {},
   "outputs": [],
   "source": [
    "n = int(input())\n",
    "print(((n % 100)*10) // 100)"
   ]
  },
  {
   "cell_type": "code",
   "execution_count": null,
   "id": "5ca87582",
   "metadata": {},
   "outputs": [],
   "source": [
    "a = int(input())\n",
    "b = int(input())\n",
    "n = int(input())\n",
    "cost = n * (100 * a + b)\n",
    "print(cost // 100, cost % 100)"
   ]
  },
  {
   "cell_type": "markdown",
   "id": "d3932f90",
   "metadata": {},
   "source": [
    "### Задача «Сумма цифр»"
   ]
  },
  {
   "cell_type": "code",
   "execution_count": null,
   "id": "f1d20454",
   "metadata": {},
   "outputs": [],
   "source": [
    "n = int(input())\n",
    "\n",
    "print(n % 10 + (n // 10) % 10 + (n // 100) % 10)"
   ]
  },
  {
   "cell_type": "markdown",
   "id": "5c5baad2",
   "metadata": {},
   "source": [
    "### Задача «Гипотенуза»"
   ]
  },
  {
   "cell_type": "code",
   "execution_count": null,
   "id": "5a31b829",
   "metadata": {},
   "outputs": [],
   "source": [
    "a = int(input())\n",
    "b = int(input())\n",
    "\n",
    "print((a**2 + b**2)**(1/2))"
   ]
  },
  {
   "cell_type": "markdown",
   "id": "61889654",
   "metadata": {},
   "source": [
    "### Задача «Часы - 1»"
   ]
  },
  {
   "cell_type": "code",
   "execution_count": null,
   "id": "9c4c6b31",
   "metadata": {},
   "outputs": [],
   "source": []
  },
  {
   "cell_type": "markdown",
   "id": "503c1d06",
   "metadata": {},
   "source": [
    "### Задача «Часы - 2»"
   ]
  },
  {
   "cell_type": "code",
   "execution_count": null,
   "id": "763d4fa2",
   "metadata": {},
   "outputs": [],
   "source": []
  },
  {
   "cell_type": "markdown",
   "id": "1b2992db",
   "metadata": {},
   "source": [
    "### Задача «Часы - 3»"
   ]
  },
  {
   "cell_type": "code",
   "execution_count": null,
   "id": "336a5276",
   "metadata": {},
   "outputs": [],
   "source": []
  },
  {
   "cell_type": "markdown",
   "id": "fa2ce5f5",
   "metadata": {},
   "source": [
    "### Задача «Проценты»"
   ]
  },
  {
   "cell_type": "code",
   "execution_count": null,
   "id": "b1eb7e8a",
   "metadata": {},
   "outputs": [],
   "source": [
    "p = int(input())\n",
    "x = int(input())\n",
    "y = int(input())\n",
    "\n",
    "s = x * 100 + y\n",
    "s_year = s + (s * (p / 100))\n",
    "\n",
    "print(int(s_year // 100), int(s_year % 100))"
   ]
  },
  {
   "cell_type": "markdown",
   "id": "914a816e",
   "metadata": {},
   "source": [
    "Дано несколько чисел. Вычислите их сумму. Сначала вводите количество чисел N, затем вводится ровно N целых чисел. Какое наименьшее число переменных нужно для решения этой задачи?"
   ]
  },
  {
   "cell_type": "code",
   "execution_count": null,
   "id": "c4792921",
   "metadata": {},
   "outputs": [],
   "source": [
    "n = 10 #int(input())\n",
    "s = 0\n",
    "for i in range(n):\n",
    "    s += int(input())\n",
    "print(s)"
   ]
  },
  {
   "cell_type": "markdown",
   "id": "ca726018",
   "metadata": {},
   "source": [
    "Дано N чисел: сначала вводится число N, затем вводится ровно N целых чисел. Подсчитайте количество нулей среди введенных чисел и выведите это количество. Вам нужно подсчитать количество чисел, равных нулю, а не количество цифр."
   ]
  },
  {
   "cell_type": "code",
   "execution_count": null,
   "id": "0879ca68",
   "metadata": {},
   "outputs": [],
   "source": [
    "n = 10 #int(input())\n",
    "cnt = 0\n",
    "for i in range(n):\n",
    "    if int(input()) == 0:\n",
    "        cnt += 1\n",
    "print(cnt)"
   ]
  },
  {
   "cell_type": "code",
   "execution_count": null,
   "id": "aab03fee",
   "metadata": {},
   "outputs": [],
   "source": [
    "n = 10 #int(input())\n",
    "cnt = [1 for i in range(n) if int(input()) == 0]\n",
    "print(sum(cnt))"
   ]
  },
  {
   "cell_type": "markdown",
   "id": "9b7739dc",
   "metadata": {},
   "source": [
    " "
   ]
  },
  {
   "cell_type": "markdown",
   "id": "68f8db15",
   "metadata": {},
   "source": [
    "По данному натуральному n вычислите сумму 1^3+2^3+3^3+...+n^3."
   ]
  },
  {
   "cell_type": "code",
   "execution_count": null,
   "id": "8ac246c8",
   "metadata": {},
   "outputs": [],
   "source": [
    "n = 3\n",
    "s = 0\n",
    "for i in range(1, n+1):\n",
    "    s += pow(i, 3)\n",
    "print(s)"
   ]
  },
  {
   "cell_type": "code",
   "execution_count": null,
   "id": "b5125b5d",
   "metadata": {},
   "outputs": [],
   "source": [
    "n = 3 #int(input())\n",
    "s = [pow(i, 3) for i in range(1, n+1)]\n",
    "print(sum(s))\n",
    "s"
   ]
  },
  {
   "cell_type": "code",
   "execution_count": null,
   "id": "a10562a6",
   "metadata": {},
   "outputs": [],
   "source": [
    "print(sum([pow(i, 3) for i in range(1, int(input())+1)]))"
   ]
  },
  {
   "cell_type": "markdown",
   "id": "02048528",
   "metadata": {},
   "source": [
    "### New heading"
   ]
  },
  {
   "cell_type": "markdown",
   "id": "950858a2",
   "metadata": {},
   "source": [
    "## Цикл for"
   ]
  },
  {
   "cell_type": "markdown",
   "id": "f7e23de6",
   "metadata": {},
   "source": [
    "### Задача «Ряд - 1»\n",
    "\n",
    "Даны два целых числа A и B (при этом A ≤ B). Выведите все числа от A до B включительно."
   ]
  },
  {
   "cell_type": "code",
   "execution_count": null,
   "id": "0be86da1",
   "metadata": {},
   "outputs": [],
   "source": [
    "a = 1 #int(input())\n",
    "b = 3 #int(input())\n",
    "for i in range(a, b+1):\n",
    "    print(i, end=' ')"
   ]
  },
  {
   "cell_type": "code",
   "execution_count": null,
   "id": "f8447571",
   "metadata": {},
   "outputs": [],
   "source": [
    "for i in range(int(input()), int(input())+1):\n",
    "    print(i, end=' ')"
   ]
  },
  {
   "cell_type": "code",
   "execution_count": 6,
   "id": "2e9d839d",
   "metadata": {},
   "outputs": [
    {
     "name": "stdout",
     "output_type": "stream",
     "text": [
      "1, 2, 3\n"
     ]
    }
   ],
   "source": [
    "print(*list(range(int(input()), int(input()) + 1)), sep=', ')"
   ]
  },
  {
   "cell_type": "markdown",
   "id": "73cd2e16",
   "metadata": {},
   "source": [
    "### Задача «Ряд - 2»\n",
    "\n",
    "Даны два целых числа A и В. Выведите все числа от A до B включительно, в порядке возрастания, если A < B, или в порядке убывания в противном случае."
   ]
  },
  {
   "cell_type": "code",
   "execution_count": null,
   "id": "80467486",
   "metadata": {},
   "outputs": [],
   "source": [
    "a = 3 #int(input())\n",
    "b = 1 #int(input())\n",
    "\n",
    "if a < b:\n",
    "    for i in range(a, b+1):\n",
    "        print(i)\n",
    "else:\n",
    "    b, a = a, b\n",
    "    for i in reversed(range(a, b+1)):\n",
    "        print(i)"
   ]
  },
  {
   "cell_type": "markdown",
   "id": "f6726dab",
   "metadata": {},
   "source": [
    "### Задача «Ряд - 3»\n",
    "\n",
    "Даны два целых числа A и В, A>B. Выведите все нечётные числа от A до B включительно, в порядке убывания. В этой задаче можно обойтись без инструкции if."
   ]
  },
  {
   "cell_type": "code",
   "execution_count": null,
   "id": "9e0b3888",
   "metadata": {},
   "outputs": [],
   "source": [
    "a = 0 #int(input())\n",
    "b = 10 #int(input())\n",
    "for i in range(b, a-1, -1):\n",
    "    if i % 2 != 0:\n",
    "        print(i, end=' ')"
   ]
  },
  {
   "cell_type": "code",
   "execution_count": null,
   "id": "3adf5710",
   "metadata": {},
   "outputs": [],
   "source": [
    "a = 8 #int(input())\n",
    "b = 1 #int(input())\n",
    "for i in range(a - (a + 1) % 2, b - b % 2, -2):\n",
    "    print(i, end=' ')"
   ]
  },
  {
   "cell_type": "markdown",
   "id": "e8453c4b",
   "metadata": {},
   "source": [
    "### Задача «Сумма десяти чисел»\n",
    "\n",
    "Дано 10 целых чисел. Вычислите их сумму. Напишите программу, использующую наименьшее число переменных."
   ]
  },
  {
   "cell_type": "code",
   "execution_count": null,
   "id": "d698479a",
   "metadata": {},
   "outputs": [],
   "source": [
    "s = 0\n",
    "for i in range(3):\n",
    "    s += int(input())\n",
    "print(s)  "
   ]
  },
  {
   "cell_type": "code",
   "execution_count": null,
   "id": "d2f2cd4f",
   "metadata": {},
   "outputs": [],
   "source": [
    "print(sum([int(input()) for i in range(10)]))"
   ]
  },
  {
   "cell_type": "markdown",
   "id": "0f19ef10",
   "metadata": {},
   "source": [
    "### Задача «Сумма N чисел»\n",
    "\n",
    "Дано несколько чисел. Вычислите их сумму. Сначала вводите количество чисел N, затем вводится ровно N целых чисел. Какое наименьшее число переменных нужно для решения этой задачи?"
   ]
  },
  {
   "cell_type": "code",
   "execution_count": null,
   "id": "4e0f59c5",
   "metadata": {},
   "outputs": [],
   "source": [
    "s = [int(input()) for i in range(int(input()))]\n",
    "print(sum(s))"
   ]
  },
  {
   "cell_type": "markdown",
   "id": "8eafbdda",
   "metadata": {},
   "source": [
    "### Задача «Сумма кубов»\n",
    "\n",
    "По данному натуральному n вычислите сумму 13+23+33+...+n3."
   ]
  },
  {
   "cell_type": "code",
   "execution_count": null,
   "id": "59e45849",
   "metadata": {},
   "outputs": [],
   "source": [
    "n = int(input())\n",
    "s = [pow(i, 3) for i in range(1, n+1)]\n",
    "print(sum(s))"
   ]
  },
  {
   "cell_type": "markdown",
   "id": "92b12b47",
   "metadata": {},
   "source": [
    "### Задача «Факториал»\n",
    "\n",
    "Факториалом числа n называется произведение 1 × 2 × ... × n. Обозначение: n!.\n",
    "По данному натуральному n вычислите значение n!. Пользоваться математической библиотекой math в этой задаче запрещено."
   ]
  },
  {
   "cell_type": "code",
   "execution_count": null,
   "id": "32f63875",
   "metadata": {},
   "outputs": [],
   "source": [
    "n = 5 #int(input())\n",
    "s = 1\n",
    "for i in range(1, n+1):\n",
    "    s *= i\n",
    "print(s)"
   ]
  },
  {
   "cell_type": "markdown",
   "id": "1dbd7936",
   "metadata": {},
   "source": [
    "### Задача «Сумма факториалов»\n",
    "\n",
    "По данному натуральном n вычислите сумму 1!+2!+3!+...+n!. В решении этой задачи можно использовать только один цикл. Пользоваться математической библиотекой math в этой задаче запрещено."
   ]
  },
  {
   "cell_type": "code",
   "execution_count": null,
   "id": "ccd563dd",
   "metadata": {},
   "outputs": [],
   "source": [
    "n = int(input())\n",
    "s = 0\n",
    "f = 1\n",
    "for i in range(1, n+1):\n",
    "    f *= i\n",
    "    s += f\n",
    "print(s)"
   ]
  },
  {
   "cell_type": "markdown",
   "id": "e82fcd19",
   "metadata": {},
   "source": [
    "### Задача «Количество нулей»\n",
    "\n",
    "Дано N чисел: сначала вводится число N, затем вводится ровно N целых чисел. Подсчитайте количество нулей среди введенных чисел и выведите это количество. Вам нужно подсчитать количество чисел, равных нулю, а не количество цифр."
   ]
  },
  {
   "cell_type": "code",
   "execution_count": null,
   "id": "1b738adf",
   "metadata": {},
   "outputs": [],
   "source": [
    "cnt = [1 for i in range(int(input())) if int(input()) == 0]\n",
    "print(sum(cnt))"
   ]
  },
  {
   "cell_type": "markdown",
   "id": "ad004cee",
   "metadata": {},
   "source": [
    "### Задача «Лесенка»\n",
    "\n",
    "По данному натуральному n ≤ 9 выведите лесенку из n ступенек, i-я ступенька состоит из чисел от 1 до i без пробелов."
   ]
  },
  {
   "cell_type": "code",
   "execution_count": null,
   "id": "4c0bc2e3",
   "metadata": {},
   "outputs": [],
   "source": [
    "n = 9 #int(input())\n",
    "s = ''\n",
    "for i in range(1, n+1):\n",
    "    s += str(i)\n",
    "    print(s)"
   ]
  },
  {
   "cell_type": "markdown",
   "id": "7fbc32b4",
   "metadata": {},
   "source": [
    "### Задача «Потерянная карточка»\n",
    "\n",
    "Для настольной игры используются карточки с номерами от 1 до N. Одна карточка потерялась. Найдите ее, зная номера оставшихся карточек.\n",
    "Дано число N, далее N − 1 номер оставшихся карточек (различные числа от 1 до N). Программа должна вывести номер потерянной карточки."
   ]
  },
  {
   "cell_type": "code",
   "execution_count": null,
   "id": "706b5a4c",
   "metadata": {},
   "outputs": [],
   "source": [
    "n = 3 #int(input())\n",
    "s = ''\n",
    "for i in range(1, n):\n",
    "    s += str(input())\n",
    "for i in range(1, n+1):\n",
    "    if str(i) not in s:\n",
    "        print(i)\n",
    "        break"
   ]
  },
  {
   "cell_type": "code",
   "execution_count": null,
   "id": "90686cf8",
   "metadata": {},
   "outputs": [],
   "source": [
    "n = int(input())\n",
    "sum = 0\n",
    "for i in range(1, n + 1):\n",
    "    sum += i\n",
    "# можно доказать формулу:\n",
    "# sum == n * (n + 1) // 2\n",
    "# но мы посчитаем это значение циклом\n",
    "for i in range(n - 1):\n",
    "    sum -= int(input())\n",
    "print(sum)"
   ]
  },
  {
   "cell_type": "markdown",
   "id": "c6ba452a",
   "metadata": {},
   "source": [
    "## Строки"
   ]
  },
  {
   "cell_type": "markdown",
   "id": "80b64d57",
   "metadata": {},
   "source": [
    "### Задача «Делаем срезы»\n",
    "\n",
    "Дана строка.\n",
    "\n",
    "Сначала выведите третий символ этой строки.\n",
    "\n",
    "Во второй строке выведите предпоследний символ этой строки.\n",
    "\n",
    "В третьей строке выведите первые пять символов этой строки.\n",
    "\n",
    "В четвертой строке выведите всю строку, кроме последних двух символов.\n",
    "\n",
    "В пятой строке выведите все символы с четными индексами (считая, что индексация начинается с 0, поэтому символы выводятся начиная с первого).\n",
    "\n",
    "В шестой строке выведите все символы с нечетными индексами, то есть начиная со второго символа строки.\n",
    "\n",
    "В седьмой строке выведите все символы в обратном порядке.\n",
    "\n",
    "В восьмой строке выведите все символы строки через один в обратном порядке, начиная с последнего.\n",
    "\n",
    "В девятой строке выведите длину данной строки."
   ]
  },
  {
   "cell_type": "code",
   "execution_count": null,
   "id": "de538c6b",
   "metadata": {},
   "outputs": [],
   "source": [
    "n = 'Abrakadabra' #input()\n",
    "\n",
    "print(n[2]) #1 выведите третий символ этой строки\n",
    "print(n[-2]) #2 выведите предпоследний символ этой строки\n",
    "print(n[:5]) #3 выведите первые пять символов этой строки\n",
    "print(n[:-2]) #4 выведите всю строку, кроме последних двух символов\n",
    "for i in range(len(n)): #5 выведите все символы с четными индексами \n",
    "    if i % 2 == 0:      # (считая, что индексация начинается с 0, поэтому символы выводятся начиная с первого)\n",
    "        print(n[i], end='')\n",
    "print()\n",
    "print(s[::2]) #5\n",
    "for i in range(len(n)): #6 выведите все символы с нечетными индексами, то есть начиная со второго символа строки\n",
    "    if i % 2 != 0:\n",
    "        print(n[i], end='')\n",
    "print()\n",
    "print(s[1::2]) #6 выведите все символы с нечетными индексами, то есть начиная со второго символа строки\n",
    "for i in reversed(n): #7 выведите все символы в обратном порядке\n",
    "    print(i, end='')\n",
    "print()\n",
    "print(s[::-1]) #7 выведите все символы в обратном порядке\n",
    "cnt = 0\n",
    "for i in reversed(n): #8 выведите все символы строки через один в обратном порядке, начиная с последнего\n",
    "    if cnt % 2 == 0:\n",
    "        print(i, end='')\n",
    "    cnt += 1\n",
    "print()\n",
    "print(s[::-2]) #8 выведите все символы строки через один в обратном порядке, начиная с последнего\n",
    "print(len(n)) #9 выведите длину данной строки\n"
   ]
  },
  {
   "cell_type": "markdown",
   "id": "8be26be2",
   "metadata": {},
   "source": [
    "### Задача «Количество слов»\n",
    "\n",
    "Дана строка, состоящая из слов, разделенных пробелами. Определите, сколько в ней слов. Используйте для решения задачи метод count."
   ]
  },
  {
   "cell_type": "code",
   "execution_count": null,
   "id": "6f623acd",
   "metadata": {},
   "outputs": [],
   "source": [
    "n = 'Hello world' #input()\n",
    "print(n.count(' ')+1)"
   ]
  },
  {
   "cell_type": "markdown",
   "id": "e6959a19",
   "metadata": {},
   "source": [
    "### Задача «Две половинки»\n",
    "\n",
    "Дана строка. Разрежьте ее на две равные части (если длина строки — четная, а если длина строки нечетная, то длина первой части должна быть на один символ больше). Переставьте эти две части местами, результат запишите в новую строку и выведите на экран.\n",
    "\n",
    "При решении этой задачи не стоит пользоваться инструкцией if."
   ]
  },
  {
   "cell_type": "code",
   "execution_count": null,
   "id": "eafb4064",
   "metadata": {},
   "outputs": [],
   "source": [
    "n = 'Hello world' #input()\n",
    "c = int(round(len(n)/2, 0))\n",
    "print(n[c:]+n[:c])"
   ]
  },
  {
   "cell_type": "markdown",
   "id": "273da37c",
   "metadata": {},
   "source": [
    "### Задача «Переставить два слова»\n",
    "\n",
    "Дана строка, состоящая ровно из двух слов, разделенных пробелом. Переставьте эти слова местами. Результат запишите в строку и выведите получившуюся строку.\n",
    "\n",
    "При решении этой задачи не стоит пользоваться циклами и инструкцией if."
   ]
  },
  {
   "cell_type": "code",
   "execution_count": null,
   "id": "2ea4218e",
   "metadata": {},
   "outputs": [],
   "source": [
    "n = 'Hello world' #input()\n",
    "c = n.find(' ')\n",
    "print(n[c+1:]+' '+n[:c])"
   ]
  },
  {
   "cell_type": "markdown",
   "id": "73c89635",
   "metadata": {},
   "source": [
    "### Задача «Первое и последнее вхождения»\n",
    "\n",
    "Дана строка. Если в этой строке буква f встречается только один раз, выведите её индекс. Если она встречается два и более раз, выведите индекс её первого и последнего появления. Если буква f в данной строке не встречается, ничего не выводите.\n",
    "\n",
    "При решении этой задачи не стоит использовать циклы."
   ]
  },
  {
   "cell_type": "code",
   "execution_count": null,
   "id": "b9932544",
   "metadata": {},
   "outputs": [],
   "source": [
    "n = 'comfortfjhkhkf' #input()\n",
    "cnt = n.count('f')\n",
    "if cnt == 1:\n",
    "    print(n.find('f'))\n",
    "elif cnt > 1:\n",
    "    print(n.find('f'), n.rfind('f'))"
   ]
  },
  {
   "cell_type": "markdown",
   "id": "f26fc79e",
   "metadata": {},
   "source": [
    "### Задача «Второе вхождение»\n",
    "\n",
    "Дана строка. Найдите в этой строке второе вхождение буквы f, и выведите индекс этого вхождения. Если буква f в данной строке встречается только один раз, выведите число -1, а если не встречается ни разу, выведите число -2."
   ]
  },
  {
   "cell_type": "code",
   "execution_count": null,
   "id": "fa23bf34",
   "metadata": {},
   "outputs": [],
   "source": [
    "n = 'comfortfjhkhkf' #input()\n",
    "n ='wqwf'\n",
    "cnt = n.count('f')\n",
    "if cnt == 1:\n",
    "    print('-1')\n",
    "elif cnt > 1:\n",
    "    print(n.find('f', n.find('f')+1))\n",
    "else:\n",
    "    print('-2')"
   ]
  },
  {
   "cell_type": "markdown",
   "id": "b062c394",
   "metadata": {},
   "source": [
    "### Задача «Удаление фрагмента»\n",
    "\n",
    "Дана строка, в которой буква h встречается минимум два раза. Удалите из этой строки первое и последнее вхождение буквы h, а также все символы, находящиеся между ними."
   ]
  },
  {
   "cell_type": "code",
   "execution_count": null,
   "id": "3d678a59",
   "metadata": {},
   "outputs": [],
   "source": [
    "n = 'comhortfjhkhkf' #input()\n",
    "print(n[n.find('h'):n.rfind('h')+1])\n",
    "print(n.replace(n[n.find('h'):n.rfind('h')+1], ''))\n",
    "s = n[:n.find('h')] + n[n.rfind('h') + 1:]\n",
    "print(s)"
   ]
  },
  {
   "cell_type": "markdown",
   "id": "e853493e",
   "metadata": {},
   "source": [
    "### Задача «Обращение фрагмента»\n",
    "\n",
    "Дана строка, в которой буква h встречается как минимум два раза. Разверните последовательность символов, заключенную между первым и последним появлением буквы h, в противоположном порядке."
   ]
  },
  {
   "cell_type": "code",
   "execution_count": null,
   "id": "570ecf64",
   "metadata": {},
   "outputs": [],
   "source": [
    "n = 'comh1rtfjh2hkf' #input()\n",
    "s = n[n.find('h')+1:n.rfind('h')]\n",
    "print(n.replace(s, s[::-1]))"
   ]
  },
  {
   "cell_type": "markdown",
   "id": "79ede721",
   "metadata": {},
   "source": [
    "### Задача «Замена подстроки»\n",
    "\n",
    "Дана строка. Замените в этой строке все цифры 1 на слово one."
   ]
  },
  {
   "cell_type": "code",
   "execution_count": null,
   "id": "f9ef0d27",
   "metadata": {},
   "outputs": [],
   "source": [
    "n = '1+1=2' #input()\n",
    "print(n.replace('1', 'one'))"
   ]
  },
  {
   "cell_type": "markdown",
   "id": "6d253cc3",
   "metadata": {},
   "source": [
    "### Задача «Удаление символа»\n",
    "\n",
    "Дана строка. Удалите из этой строки все символы @."
   ]
  },
  {
   "cell_type": "code",
   "execution_count": null,
   "id": "15638107",
   "metadata": {},
   "outputs": [],
   "source": [
    "n = '@+1=2' #input()\n",
    "print(n.replace('@', ''))"
   ]
  },
  {
   "cell_type": "markdown",
   "id": "313ea15b",
   "metadata": {},
   "source": [
    "### Задача «Замена внутри фрагмента»\n",
    "\n",
    "Дана строка. Замените в этой строке все появления буквы h на букву H, кроме первого и последнего вхождения."
   ]
  },
  {
   "cell_type": "code",
   "execution_count": null,
   "id": "2c9d0ec1",
   "metadata": {},
   "outputs": [],
   "source": [
    "n = 'hhhhhhhhhhhhhhhhhhhhhhhhhhhhhhhhhhhhhhhhh' #input()\n",
    "s = (n[n.find('h')+1:n.rfind('h')]).replace('h', 'H')\n",
    "print(n[:n.find('h')+1]+s+n[n.rfind('h'):])"
   ]
  },
  {
   "cell_type": "markdown",
   "id": "1a440d46",
   "metadata": {},
   "source": [
    "### Задача «Удалить каждый третий символ»\n",
    "\n",
    "Дана строка. Удалите из нее все символы, чьи индексы делятся на 3"
   ]
  },
  {
   "cell_type": "code",
   "execution_count": null,
   "id": "d7dbca65",
   "metadata": {},
   "outputs": [],
   "source": [
    "n = 'comh1rtfjh2hkf' #input()\n",
    "for i in range(len(n)):\n",
    "    if i % 3 !=0 :\n",
    "        print(n[i], end='')"
   ]
  },
  {
   "cell_type": "markdown",
   "id": "2d2ae0df",
   "metadata": {},
   "source": [
    "## Цикл while"
   ]
  },
  {
   "cell_type": "markdown",
   "id": "9cff135b",
   "metadata": {},
   "source": [
    "### Задача «Список квадратов»\n",
    "\n",
    "По данному целому числу N распечатайте все квадраты натуральных чисел, не превосходящие N, в порядке возрастания."
   ]
  },
  {
   "cell_type": "code",
   "execution_count": null,
   "id": "8c4ed90f",
   "metadata": {},
   "outputs": [],
   "source": [
    "n = 10\n",
    "s = 1\n",
    "while s**2 <= n:\n",
    "    print(s**2)\n",
    "    s +=1"
   ]
  },
  {
   "cell_type": "markdown",
   "id": "4d068fae",
   "metadata": {},
   "source": [
    "### Задача «Минимальный делитель»\n",
    "\n",
    "Дано целое число, не меньшее 2. Выведите его наименьший натуральный делитель, отличный от 1."
   ]
  },
  {
   "cell_type": "code",
   "execution_count": null,
   "id": "c82d14a1",
   "metadata": {},
   "outputs": [],
   "source": [
    "n = 19 # int(input())\n",
    "s = n\n",
    "while s > 1:\n",
    "    if n % s == 0:\n",
    "        nod = s\n",
    "    s -= 1\n",
    "print(nod)\n",
    "\n",
    "i = 2\n",
    "while n % i != 0:\n",
    "    i += 1\n",
    "print(i)"
   ]
  },
  {
   "cell_type": "markdown",
   "id": "a696c4ac",
   "metadata": {},
   "source": [
    "### Задача «Степень двойки»\n",
    "\n",
    "По данному натуральному числу N найдите наибольшую целую степень двойки, не превосходящую N. Выведите показатель степени и саму степень.\n",
    "\n",
    "Операцией возведения в степень пользоваться нельзя!"
   ]
  },
  {
   "cell_type": "code",
   "execution_count": null,
   "id": "365ee601",
   "metadata": {},
   "outputs": [],
   "source": [
    "n = 32 # int(input())\n",
    "i = 2\n",
    "st = 1\n",
    "while i <= n:\n",
    "    i = i * 2\n",
    "    st += 1\n",
    "print(st - 1, i // 2)"
   ]
  },
  {
   "cell_type": "markdown",
   "id": "933bfc8b",
   "metadata": {},
   "source": [
    "### Задача «Утренняя пробежка»\n",
    "\n",
    "В первый день спортсмен пробежал x километров, а затем он каждый день увеличивал пробег на 10% от предыдущего значения. По данному числу y определите номер дня, на который пробег спортсмена составит не менее y километров.\n",
    "\n",
    "Программа получает на вход действительные числа x и y и должна вывести одно натуральное число."
   ]
  },
  {
   "cell_type": "code",
   "execution_count": null,
   "id": "fa798c8f",
   "metadata": {},
   "outputs": [],
   "source": [
    "x = 20 # int(input())\n",
    "y = 20 # int(input())\n",
    "day = 1\n",
    "while x < y:\n",
    "    x += x / 10\n",
    "    day += 1\n",
    "print(day)"
   ]
  },
  {
   "cell_type": "markdown",
   "id": "d8d0f16b",
   "metadata": {},
   "source": [
    "### Задача «Длина последовательности»\n",
    "\n",
    "Программа получает на вход последовательность целых неотрицательных чисел, каждое число записано в отдельной строке. Последовательность завершается числом 0, при считывании которого программа должна закончить свою работу и вывести количество членов последовательности (не считая завершающего числа 0). Числа, следующие за числом 0, считывать не нужно."
   ]
  },
  {
   "cell_type": "code",
   "execution_count": null,
   "id": "d63bee1e",
   "metadata": {},
   "outputs": [],
   "source": [
    "n = int(input())\n",
    "cnt = 0\n",
    "while n != 0:\n",
    "    n = int(input())\n",
    "    cnt += 1\n",
    "print(cnt)"
   ]
  },
  {
   "cell_type": "code",
   "execution_count": null,
   "id": "453cf757",
   "metadata": {},
   "outputs": [],
   "source": [
    "len = 0\n",
    "while int(input()) != 0:\n",
    "    len += 1\n",
    "print(len)"
   ]
  },
  {
   "cell_type": "markdown",
   "id": "f39149d8",
   "metadata": {},
   "source": [
    "### Задача «Сумма последовательности»\n",
    "\n",
    "Определите сумму всех элементов последовательности, завершающейся числом 0. В этой и во всех следующих задачах числа, следующие за первым нулем, учитывать не нужно."
   ]
  },
  {
   "cell_type": "code",
   "execution_count": null,
   "id": "d76514dd",
   "metadata": {},
   "outputs": [],
   "source": [
    "n = int(input())\n",
    "s = 0\n",
    "while n != 0:\n",
    "    s += n\n",
    "    n = int(input())\n",
    "print(s)"
   ]
  },
  {
   "cell_type": "markdown",
   "id": "81ef6b25",
   "metadata": {},
   "source": [
    "### Задача «Среднее значение последовательности»\n",
    "\n",
    "Определите среднее значение всех элементов последовательности, завершающейся числом 0."
   ]
  },
  {
   "cell_type": "code",
   "execution_count": null,
   "id": "3193957b",
   "metadata": {},
   "outputs": [],
   "source": [
    "n = int(input())\n",
    "s, i = 0, 0\n",
    "while n != 0:\n",
    "    s += n\n",
    "    i += 1\n",
    "    n = int(input())\n",
    "print(s / i)"
   ]
  },
  {
   "cell_type": "markdown",
   "id": "021e15d9",
   "metadata": {},
   "source": [
    "### Задача «Максимум последовательности»\n",
    "\n",
    "Последовательность состоит из натуральных чисел и завершается числом 0. Определите значение наибольшего элемента последовательности."
   ]
  },
  {
   "cell_type": "code",
   "execution_count": null,
   "id": "bb9ec84a",
   "metadata": {},
   "outputs": [],
   "source": [
    "s_max = n = int(input())\n",
    "while n != 0:\n",
    "    n = int(input())\n",
    "    if s_max < n:\n",
    "        s_max = n\n",
    "print(s_max)"
   ]
  },
  {
   "cell_type": "markdown",
   "id": "dce67cd1",
   "metadata": {},
   "source": [
    "### Задача «Индекс максимума последовательности»\n",
    "\n",
    "Последовательность состоит из натуральных чисел и завершается числом 0. Определите индекс наибольшего элемента последовательности. Если наибольших элементов несколько, выведите индекс первого из них. Нумерация элементов начинается с нуля."
   ]
  },
  {
   "cell_type": "code",
   "execution_count": null,
   "id": "790cd502",
   "metadata": {},
   "outputs": [],
   "source": [
    "n, s_max = -1, 0\n",
    "s_str = []\n",
    "while n != 0:\n",
    "    n = int(input())\n",
    "    if s_max < n:\n",
    "        s_max = n\n",
    "    s_str.append(n)\n",
    "print(s_max)\n",
    "print(s_str.index(s_max))"
   ]
  },
  {
   "cell_type": "markdown",
   "id": "a6d86770",
   "metadata": {},
   "source": [
    "### Задача «Количество четных элементов последовательности»\n",
    "\n",
    "Определите количество четных элементов в последовательности, завершающейся числом 0."
   ]
  },
  {
   "cell_type": "code",
   "execution_count": null,
   "id": "ea4c244d",
   "metadata": {},
   "outputs": [],
   "source": [
    "s = 0\n",
    "n = -1\n",
    "while n != 0:\n",
    "    n = int(input())\n",
    "    if n % 2 == 0:\n",
    "        s += 1\n",
    "print(s-1)"
   ]
  },
  {
   "cell_type": "markdown",
   "id": "df3f53c4",
   "metadata": {},
   "source": [
    "### Задача «Количество элементов, которые больше предыдущего»\n",
    "\n",
    "Последовательность состоит из натуральных чисел и завершается числом 0. Определите, сколько элементов этой последовательности больше предыдущего элемента."
   ]
  },
  {
   "cell_type": "code",
   "execution_count": null,
   "id": "b6d8a45d",
   "metadata": {},
   "outputs": [],
   "source": [
    "cnt = 0\n",
    "n1 = n2 = int(input())\n",
    "while n2 != 0:\n",
    "    n2 = int(input())\n",
    "    if n1 < n2:\n",
    "        cnt += 1\n",
    "    n1 = n2\n",
    "print(s_max)\n",
    "print(cnt)"
   ]
  },
  {
   "cell_type": "markdown",
   "id": "3eeb98eb",
   "metadata": {},
   "source": [
    "### Задача «Второй максимум»\n",
    "\n",
    "Последовательность состоит из различных натуральных чисел и завершается числом 0. Определите значение второго по величине элемента в этой последовательности. Гарантируется, что в последовательности есть хотя бы два элемента."
   ]
  },
  {
   "cell_type": "code",
   "execution_count": null,
   "id": "3b2aa916",
   "metadata": {},
   "outputs": [],
   "source": [
    "n = -1\n",
    "s_str = []\n",
    "while n != 0:\n",
    "    n = int(input())\n",
    "    s_str.append(n)\n",
    "s_str.sort(reverse= True)\n",
    "print(s_str[1])\n"
   ]
  },
  {
   "cell_type": "markdown",
   "id": "626c93de",
   "metadata": {},
   "source": [
    "### Задача «Количество элементов, равных максимуму»\n",
    "\n",
    "Последовательность состоит из натуральных чисел и завершается числом 0. Определите, сколько элементов этой последовательности равны ее наибольшему элементу."
   ]
  },
  {
   "cell_type": "code",
   "execution_count": null,
   "id": "d786d6c1",
   "metadata": {},
   "outputs": [],
   "source": [
    "n = -1\n",
    "s_max = 0\n",
    "s_str = []\n",
    "while n != 0:\n",
    "    n = int(input())\n",
    "    if s_max < n:\n",
    "        s_max = n\n",
    "    s_str.append(n)\n",
    "print(s_str.count(s_max))"
   ]
  },
  {
   "cell_type": "markdown",
   "id": "66847f20",
   "metadata": {},
   "source": [
    "### Задача «Числа Фибоначчи»\n",
    "\n",
    "По данному числу n определите n-е число Фибоначчи φn."
   ]
  },
  {
   "cell_type": "code",
   "execution_count": null,
   "id": "c844fe31",
   "metadata": {},
   "outputs": [],
   "source": [
    "n = 6 # int(input())\n",
    "sqr5 = 5**(1/2)\n",
    "PHI = (sqr5 + 1) / 2\n",
    "print(int(PHI ** n / sqr5 + 0.5))"
   ]
  },
  {
   "cell_type": "code",
   "execution_count": null,
   "id": "bb715a2b",
   "metadata": {},
   "outputs": [],
   "source": [
    "n = int(input())\n",
    "if n == 0:\n",
    "    print(0)\n",
    "else:\n",
    "    a, b = 0, 1\n",
    "    for i in range(2, n + 1):\n",
    "        a, b = b, a + b\n",
    "    print(b)"
   ]
  },
  {
   "cell_type": "markdown",
   "id": "059249e3",
   "metadata": {},
   "source": [
    "### Задача «Номер числа Фибоначчи»"
   ]
  },
  {
   "cell_type": "code",
   "execution_count": null,
   "id": "3ca8cfcc",
   "metadata": {},
   "outputs": [],
   "source": []
  },
  {
   "cell_type": "markdown",
   "id": "341ccff3",
   "metadata": {},
   "source": [
    "### Задача «Максимальное число идущих подряд равных элементов»\n",
    "\n",
    "Дана последовательность натуральных чисел, завершающаяся числом 0. Определите, какое наибольшее число подряд идущих элементов этой последовательности равны друг другу."
   ]
  },
  {
   "cell_type": "code",
   "execution_count": null,
   "id": "232501ca",
   "metadata": {},
   "outputs": [],
   "source": [
    "n1 = int(input())\n",
    "s = 1\n",
    "s_max = 1\n",
    "while n1 != 0:\n",
    "    n2 = int(input())\n",
    "    if n1 == n2:\n",
    "        s += 1\n",
    "    else:\n",
    "        s = 1\n",
    "    n1 = n2\n",
    "    if s_max < s:\n",
    "        s_max = s\n",
    "print(s_max)"
   ]
  },
  {
   "cell_type": "markdown",
   "id": "804277a6",
   "metadata": {},
   "source": [
    "### Задача «Стандартное отклонение»\n",
    "\n",
    "Определите стандартное отклонение для данной последовательности натуральных чисел, завершающейся числом 0."
   ]
  },
  {
   "cell_type": "code",
   "execution_count": 4,
   "id": "f8619691",
   "metadata": {},
   "outputs": [
    {
     "name": "stdout",
     "output_type": "stream",
     "text": [
      "1\n",
      "2\n",
      "3\n",
      "0\n",
      "1.0\n"
     ]
    }
   ],
   "source": [
    "n = -1\n",
    "cnt = 0\n",
    "s_str = []\n",
    "while n != 0:\n",
    "    n = int(input())\n",
    "    if n !=0 :\n",
    "        s_str.append(n)\n",
    "        cnt += 1\n",
    "s_avg = sum(s_str) / cnt\n",
    "s = 0\n",
    "for el in s_str:\n",
    "    s += (el - s_avg)**2\n",
    "sm = s / (cnt - 1)\n",
    "print(sm**(0.5))"
   ]
  },
  {
   "cell_type": "markdown",
   "id": "7e17b737",
   "metadata": {},
   "source": [
    "## Списки"
   ]
  },
  {
   "cell_type": "markdown",
   "id": "ad0983ff",
   "metadata": {},
   "source": [
    "### Задача «Четные индексы»\n",
    "\n",
    "Выведите все элементы списка с четными индексами (то есть A[0], A[2], A[4], ...)."
   ]
  },
  {
   "cell_type": "code",
   "execution_count": 16,
   "id": "1f8d2e24",
   "metadata": {},
   "outputs": [
    {
     "name": "stdout",
     "output_type": "stream",
     "text": [
      "1 2 3 4 5\n",
      "1 3 5 "
     ]
    }
   ],
   "source": [
    "spisok = input().split(' ') #['1', '2', '3', '4', '5']\n",
    "for i in range(0, len(spisok), 2):\n",
    "    print(spisok[i], end=' ')"
   ]
  },
  {
   "cell_type": "markdown",
   "id": "b1fe0bc8",
   "metadata": {},
   "source": [
    "### Задача «Четные элементы»\n",
    "\n",
    "Выведите все четные элементы списка. При этом используйте цикл for, перебирающий элементы списка, а не их индексы!"
   ]
  },
  {
   "cell_type": "code",
   "execution_count": 19,
   "id": "bc6aafee",
   "metadata": {},
   "outputs": [
    {
     "name": "stdout",
     "output_type": "stream",
     "text": [
      "2 4 "
     ]
    }
   ],
   "source": [
    "#spisok = input().split(' ') \n",
    "spisok = '1 2 3 4 5'.split(' ') \n",
    "for el in spisok:\n",
    "    if int(el) % 2 == 0:\n",
    "        print(el, end=' ')"
   ]
  },
  {
   "cell_type": "markdown",
   "id": "4af1d872",
   "metadata": {},
   "source": [
    "### Задача «Больше предыдущего»\n",
    "\n",
    "Дан список чисел. Выведите все элементы списка, которые больше предыдущего элемента."
   ]
  },
  {
   "cell_type": "code",
   "execution_count": 23,
   "id": "f40a7804",
   "metadata": {},
   "outputs": [
    {
     "name": "stdout",
     "output_type": "stream",
     "text": [
      "5 4 "
     ]
    }
   ],
   "source": [
    "#spisok = input().split(' ') \n",
    "spisok = '1 5 2 4 3'.split(' ') \n",
    "prev = int(spisok[0])\n",
    "for el in spisok:\n",
    "    if int(el) > prev:\n",
    "        print(el, end=' ')\n",
    "    prev = int(el)\n",
    "\n"
   ]
  },
  {
   "cell_type": "markdown",
   "id": "503f25d2",
   "metadata": {},
   "source": [
    "### Задача «Соседи одного знака»\n",
    "\n",
    "Дан список чисел. Если в нем есть два соседних элемента одного знака, выведите эти числа. Если соседних элементов одного знака нет — не выводите ничего. Если таких пар соседей несколько — выведите первую пару."
   ]
  },
  {
   "cell_type": "code",
   "execution_count": 35,
   "id": "1487d625",
   "metadata": {},
   "outputs": [
    {
     "name": "stdout",
     "output_type": "stream",
     "text": [
      "1 2\n"
     ]
    }
   ],
   "source": [
    "spisok1 = '1 2 2 4 5'.split(' ')\n",
    "spisok = [int(el) for el in spisok1]\n",
    "#spisok = [int(el) for el in input().split(' ')]\n",
    "for i in range(1, len(spisok)):\n",
    "    if (spisok[i-1]>0 and spisok[i]>0) or (spisok[i-1]<0 and spisok[i]<0):\n",
    "        print(spisok[i-1], spisok[i])\n",
    "        break"
   ]
  },
  {
   "cell_type": "code",
   "execution_count": 33,
   "id": "222e8a56",
   "metadata": {},
   "outputs": [
    {
     "data": {
      "text/plain": [
       "[4, 4, 4, 4, 4]"
      ]
     },
     "execution_count": 33,
     "metadata": {},
     "output_type": "execute_result"
    }
   ],
   "source": [
    "a = [int(i) for i in input().split()]\n",
    "for i in range(1, len(a)):\n",
    "    if a[i - 1] * a[i] > 0:\n",
    "        print(a[i - 1], a[i])\n",
    "        break"
   ]
  },
  {
   "cell_type": "markdown",
   "id": "b330fbaa",
   "metadata": {},
   "source": [
    "### Задача «Больше своих соседей»\n",
    "\n",
    "Дан список чисел. Определите, сколько в этом списке элементов, которые больше двух своих соседей, и выведите количество таких элементов. Крайние элементы списка никогда не учитываются, поскольку у них недостаточно соседей."
   ]
  },
  {
   "cell_type": "code",
   "execution_count": 43,
   "id": "b2bfcd65",
   "metadata": {},
   "outputs": [
    {
     "name": "stdout",
     "output_type": "stream",
     "text": [
      "0\n"
     ]
    }
   ],
   "source": [
    "spisok1 = '1 2 3 4 5'.split(' ')\n",
    "spisok = [int(el) for el in spisok1]\n",
    "cnt = 0\n",
    "for i in range(1, len(spisok)-1):\n",
    "    if spisok[i] > spisok[i-1] and spisok[i] > spisok[i+1]:\n",
    "        cnt += 1\n",
    "print(cnt)"
   ]
  },
  {
   "cell_type": "markdown",
   "id": "2c800dce",
   "metadata": {},
   "source": [
    "### Задача «Наибольший элемент»\n",
    "\n",
    "Дан список чисел. Выведите значение наибольшего элемента в списке, а затем индекс этого элемента в списке. Если наибольших элементов несколько, выведите индекс первого из них."
   ]
  },
  {
   "cell_type": "code",
   "execution_count": 45,
   "id": "4e2168e0",
   "metadata": {},
   "outputs": [
    {
     "name": "stdout",
     "output_type": "stream",
     "text": [
      "5 4\n"
     ]
    }
   ],
   "source": [
    "spisok1 = '1 2 3 4 5'.split(' ')\n",
    "spisok = [int(el) for el in spisok1]\n",
    "s_max = max(spisok)\n",
    "print(s_max, spisok.index(s_max))"
   ]
  },
  {
   "cell_type": "markdown",
   "id": "6c319d2e",
   "metadata": {},
   "source": [
    "### Задача «Шеренга»\n",
    "\n",
    "Петя перешёл в другую школу. На уроке физкультуры ему понадобилось определить своё место в строю. Помогите ему это сделать.\n",
    "Программа получает на вход невозрастающую последовательность натуральных чисел, означающих рост каждого человека в строю. После этого вводится число X – рост Пети. Все числа во входных данных натуральные и не превышают 200.\n",
    "\n",
    "Выведите номер, под которым Петя должен встать в строй. Если в строю есть люди с одинаковым ростом, таким же, как у Пети, то он должен встать после них."
   ]
  },
  {
   "cell_type": "code",
   "execution_count": 107,
   "id": "4d837a3e",
   "metadata": {},
   "outputs": [
    {
     "name": "stdout",
     "output_type": "stream",
     "text": [
      "3\n"
     ]
    }
   ],
   "source": [
    "spisok = [int(el) for el in input().split(' ')]\n",
    "n = int(input())\n",
    "spisok.append(n)\n",
    "spisok.sort(reverse=True)\n",
    "print(spisok.index(n)+spisok.count(n))"
   ]
  },
  {
   "cell_type": "markdown",
   "id": "dcdd0e7a",
   "metadata": {},
   "source": [
    "### Задача «Количество различных элементов»\n",
    "\n",
    "Дан список, упорядоченный по неубыванию элементов в нем. Определите, сколько в нем различных элементов."
   ]
  },
  {
   "cell_type": "code",
   "execution_count": 115,
   "id": "17b1c5e0",
   "metadata": {},
   "outputs": [
    {
     "name": "stdout",
     "output_type": "stream",
     "text": [
      "3\n"
     ]
    }
   ],
   "source": [
    "spisok = '1 2 3 3 3 3'.split(' ')\n",
    "# spisok = input().split(' ')\n",
    "spisok_uniq = []\n",
    "for el in spisok:\n",
    "    if el not in spisok_uniq:\n",
    "        spisok_uniq.append(el)\n",
    "print(len(spisok_uniq))"
   ]
  },
  {
   "cell_type": "markdown",
   "id": "d0366c12",
   "metadata": {},
   "source": [
    "### Задача «Переставить соседние»\n",
    "\n",
    "Переставьте соседние элементы списка (A[0] c A[1], A[2] c A[3] и т. д.). Если элементов нечетное число, то последний элемент остается на своем месте."
   ]
  },
  {
   "cell_type": "code",
   "execution_count": 175,
   "id": "e769b653",
   "metadata": {},
   "outputs": [
    {
     "name": "stdout",
     "output_type": "stream",
     "text": [
      "2 1 4 3 5 3 7\n"
     ]
    }
   ],
   "source": [
    "spisok = '1 2 3 4 3 5 7'.split(' ')\n",
    "# spisok = input().split(' ')\n",
    "spisok1 = []\n",
    "cnt = len(spisok)\n",
    "for i in range(cnt):\n",
    "     if i % 2 != 0:\n",
    "        spisok1.append(spisok[i])\n",
    "        spisok1.append(spisok[i-1])\n",
    "if cnt % 2 != 0:\n",
    "    spisok1.append(spisok[cnt-1])    \n",
    "print(*spisok1)"
   ]
  },
  {
   "cell_type": "code",
   "execution_count": 179,
   "id": "c2d80c1d",
   "metadata": {},
   "outputs": [
    {
     "name": "stdout",
     "output_type": "stream",
     "text": [
      "2 1 4 3 5 3 7\n"
     ]
    }
   ],
   "source": [
    "for i in range(1, len(spisok), 2):\n",
    "    spisok[i - 1], spisok[i] = spisok[i], spisok[i - 1]\n",
    "print(*spisok)"
   ]
  },
  {
   "cell_type": "markdown",
   "id": "902fceeb",
   "metadata": {},
   "source": [
    "### Задача «Переставить min и max»\n",
    "\n",
    "В списке все элементы различны. Поменяйте местами минимальный и максимальный элемент этого списка."
   ]
  },
  {
   "cell_type": "code",
   "execution_count": 195,
   "id": "d28a2120",
   "metadata": {},
   "outputs": [
    {
     "name": "stdout",
     "output_type": "stream",
     "text": [
      "3 4 1 2 5\n"
     ]
    }
   ],
   "source": [
    "spisok = [int(el) for el in '3 4 5 2 1'.split(' ')]\n",
    "# spisok = [int(el) for el in input().split(' ')]\n",
    "s_max, s_max_i = max(spisok), spisok.index(max(spisok))\n",
    "s_min, s_min_i = min(spisok), spisok.index(min(spisok))\n",
    "spisok.pop(s_max_i)\n",
    "spisok.insert(s_max_i, s_min)\n",
    "spisok.pop(s_min_i)\n",
    "spisok.insert(s_min_i, s_max)\n",
    "print(*spisok)"
   ]
  },
  {
   "cell_type": "code",
   "execution_count": 229,
   "id": "41020009",
   "metadata": {},
   "outputs": [
    {
     "name": "stdout",
     "output_type": "stream",
     "text": [
      "3 4 5 11 2\n"
     ]
    }
   ],
   "source": [
    "a = [int(el) for el in '3 4 5 2 11'.split(' ')]\n",
    "#a = [int(el) for el in input().split(' ')]\n",
    "s_max_i = a.index(max(a))\n",
    "s_min_i = a.index(min(a))\n",
    "a[s_max_i], a[s_min_i] = a[s_min_i], a[s_max_i]\n",
    "print(*a)"
   ]
  },
  {
   "cell_type": "markdown",
   "id": "8b6eb05e",
   "metadata": {},
   "source": [
    "### Задача «Удалить элемент»\n",
    "\n",
    "Дан список из чисел и индекс элемента в списке k. Удалите из списка элемент с индексом k, сдвинув влево все элементы, стоящие правее элемента с индексом k.\n",
    "Программа получает на вход список, затем число k. Программа сдвигает все элементы, а после этого удаляет последний элемент списка при помощи метода pop() без параметров.\n",
    "\n",
    "Программа должна осуществлять сдвиг непосредственно в списке, а не делать это при выводе элементов. Также нельзя использовать дополнительный список. Также не следует использовать метод pop(k) с параметром."
   ]
  },
  {
   "cell_type": "code",
   "execution_count": 236,
   "id": "51b8012a",
   "metadata": {},
   "outputs": [
    {
     "name": "stdout",
     "output_type": "stream",
     "text": [
      "3 4 2 11\n"
     ]
    }
   ],
   "source": [
    "a = [int(el) for el in '3 4 5 2 11'.split(' ')]\n",
    "n = 2\n",
    "#a = [int(el) for el in input().split(' ')]\n",
    "#n = int(input())\n",
    "for i in range(n, len(a)-1):\n",
    "    a[i] = a[i+1]\n",
    "a.pop()\n",
    "print(*a)"
   ]
  },
  {
   "cell_type": "markdown",
   "id": "e7118e97",
   "metadata": {},
   "source": [
    "### Задача «Вставить элемент»\n",
    "\n",
    "Дан список целых чисел, число k и значение C. Необходимо вставить в список на позицию с индексом k элемент, равный C, сдвинув все элементы, имевшие индекс не менее k, вправо.\n",
    "Поскольку при этом количество элементов в списке увеличивается, после считывания списка в его конец нужно будет добавить новый элемент, используя метод append.\n",
    "\n",
    "Вставку необходимо осуществлять уже в считанном списке, не делая этого при выводе и не создавая дополнительного списка."
   ]
  },
  {
   "cell_type": "code",
   "execution_count": 238,
   "id": "21dc4db1",
   "metadata": {},
   "outputs": [
    {
     "name": "stdout",
     "output_type": "stream",
     "text": [
      "3 4 7 5 2 11\n"
     ]
    }
   ],
   "source": [
    "a = [int(el) for el in '3 4 5 2 11'.split(' ')]\n",
    "k, C = [int(el) for el in '2 7'.split(' ')]\n",
    "#a = [int(el) for el in input().split(' ')]\n",
    "#k, C = [int(el) for el in input().split(' ')]\n",
    "a.insert(k, C)\n",
    "print(*a)"
   ]
  },
  {
   "cell_type": "markdown",
   "id": "a71c5d3f",
   "metadata": {},
   "source": [
    "### Задача «Количество совпадающих пар»\n",
    "\n",
    "Дан список чисел. Посчитайте, сколько в нем пар элементов, равных друг другу. Считается, что любые два элемента, равные друг другу образуют одну пару, которую необходимо посчитать."
   ]
  },
  {
   "cell_type": "code",
   "execution_count": null,
   "id": "51920bca",
   "metadata": {},
   "outputs": [],
   "source": []
  },
  {
   "cell_type": "code",
   "execution_count": null,
   "id": "2c998cbf",
   "metadata": {},
   "outputs": [],
   "source": []
  },
  {
   "cell_type": "code",
   "execution_count": null,
   "id": "e6e132b0",
   "metadata": {},
   "outputs": [],
   "source": []
  }
 ],
 "metadata": {
  "kernelspec": {
   "display_name": "Python 3",
   "language": "python",
   "name": "python3"
  },
  "language_info": {
   "codemirror_mode": {
    "name": "ipython",
    "version": 3
   },
   "file_extension": ".py",
   "mimetype": "text/x-python",
   "name": "python",
   "nbconvert_exporter": "python",
   "pygments_lexer": "ipython3",
   "version": "3.8.8"
  },
  "toc": {
   "base_numbering": 1,
   "nav_menu": {},
   "number_sections": true,
   "sideBar": true,
   "skip_h1_title": false,
   "title_cell": "Table of Contents",
   "title_sidebar": "Contents",
   "toc_cell": true,
   "toc_position": {},
   "toc_section_display": true,
   "toc_window_display": true
  },
  "varInspector": {
   "cols": {
    "lenName": 16,
    "lenType": 16,
    "lenVar": 40
   },
   "kernels_config": {
    "python": {
     "delete_cmd_postfix": "",
     "delete_cmd_prefix": "del ",
     "library": "var_list.py",
     "varRefreshCmd": "print(var_dic_list())"
    },
    "r": {
     "delete_cmd_postfix": ") ",
     "delete_cmd_prefix": "rm(",
     "library": "var_list.r",
     "varRefreshCmd": "cat(var_dic_list()) "
    }
   },
   "types_to_exclude": [
    "module",
    "function",
    "builtin_function_or_method",
    "instance",
    "_Feature"
   ],
   "window_display": false
  }
 },
 "nbformat": 4,
 "nbformat_minor": 5
}
